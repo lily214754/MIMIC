{
 "cells": [
  {
   "cell_type": "code",
   "execution_count": 1,
   "metadata": {},
   "outputs": [],
   "source": [
    "import pandas as pd\n",
    "import numpy as np\n",
    "from matplotlib import pyplot as plt\n",
    "import seaborn as sns\n",
    "import datetime"
   ]
  },
  {
   "cell_type": "code",
   "execution_count": 2,
   "metadata": {},
   "outputs": [],
   "source": [
    "df_patients = pd.read_excel('Export 2022-10-22.xlsx', sheet_name=0)\n",
    "df_admissions = pd.read_excel('Export 2022-10-22.xlsx', sheet_name=1)\n",
    "df_icu_stays = pd.read_excel('Export 2022-10-22.xlsx', sheet_name=2)\n",
    "df_bypass_surgeries = pd.read_excel('Export 2022-10-22.xlsx', sheet_name=3)\n",
    "df_haemoglobins = pd.read_excel('Export 2022-10-22.xlsx', sheet_name=4)\n",
    "df_transfusions = pd.read_excel('Export 2022-10-22.xlsx', sheet_name=5)"
   ]
  },
  {
   "cell_type": "code",
   "execution_count": 3,
   "metadata": {},
   "outputs": [],
   "source": [
    "# change metrics from g/l into g/dl\n",
    "df_haemoglobins['REFERENCE_LOW'] = df_haemoglobins['REFERENCE_LOW']/10\n",
    "df_haemoglobins['REFERENCE_HIGH'] = df_haemoglobins['REFERENCE_HIGH']/10\n",
    "df_haemoglobins['RESULT'] = df_haemoglobins['RESULT']/10"
   ]
  },
  {
   "cell_type": "code",
   "execution_count": 4,
   "metadata": {},
   "outputs": [
    {
     "name": "stdout",
     "output_type": "stream",
     "text": [
      "265 265\n",
      "268 265\n"
     ]
    }
   ],
   "source": [
    "df_transfusions = df_transfusions.dropna()\n",
    "\n",
    "print(df_admissions[\"PATIENT_NUMBER\"].nunique(),df_admissions[\"ADMISSION_NUMBER\"].nunique())\n",
    "print(len(df_bypass_surgeries[\"SURGERY_NUMBER\"]),df_admissions[\"PATIENT_NUMBER\"].nunique())"
   ]
  },
  {
   "cell_type": "code",
   "execution_count": 5,
   "metadata": {},
   "outputs": [],
   "source": [
    "df_transfusions = pd.merge(df_transfusions,df_patients[[\"PATIENT_NUMBER\",\"Gender\"]], on=[\"PATIENT_NUMBER\"],how = \"inner\")"
   ]
  },
  {
   "cell_type": "code",
   "execution_count": 6,
   "metadata": {},
   "outputs": [
    {
     "data": {
      "text/html": [
       "<div>\n",
       "<style scoped>\n",
       "    .dataframe tbody tr th:only-of-type {\n",
       "        vertical-align: middle;\n",
       "    }\n",
       "\n",
       "    .dataframe tbody tr th {\n",
       "        vertical-align: top;\n",
       "    }\n",
       "\n",
       "    .dataframe thead th {\n",
       "        text-align: right;\n",
       "    }\n",
       "</style>\n",
       "<table border=\"1\" class=\"dataframe\">\n",
       "  <thead>\n",
       "    <tr style=\"text-align: right;\">\n",
       "      <th></th>\n",
       "      <th>TRANSFUSION_NUMBER</th>\n",
       "      <th>blood_transfusion_counts</th>\n",
       "      <th>PATIENT_NUMBER</th>\n",
       "      <th>ADMISSION_NUMBER</th>\n",
       "      <th>VOLUME</th>\n",
       "      <th>BLOOD_START_TIME</th>\n",
       "      <th>BLOOD_END_TIME</th>\n",
       "      <th>Gender</th>\n",
       "    </tr>\n",
       "  </thead>\n",
       "  <tbody>\n",
       "    <tr>\n",
       "      <th>0</th>\n",
       "      <td>1</td>\n",
       "      <td>2</td>\n",
       "      <td>210</td>\n",
       "      <td>121</td>\n",
       "      <td>246.97</td>\n",
       "      <td>2021-12-19 12:01:00</td>\n",
       "      <td>2021-12-19 16:00:00</td>\n",
       "      <td>F</td>\n",
       "    </tr>\n",
       "    <tr>\n",
       "      <th>1</th>\n",
       "      <td>256</td>\n",
       "      <td>2</td>\n",
       "      <td>210</td>\n",
       "      <td>121</td>\n",
       "      <td>267.00</td>\n",
       "      <td>2021-12-16 15:11:00</td>\n",
       "      <td>2021-12-16 15:16:00</td>\n",
       "      <td>F</td>\n",
       "    </tr>\n",
       "    <tr>\n",
       "      <th>2</th>\n",
       "      <td>2</td>\n",
       "      <td>17</td>\n",
       "      <td>123</td>\n",
       "      <td>143</td>\n",
       "      <td>286.00</td>\n",
       "      <td>2021-07-02 16:18:00</td>\n",
       "      <td>2021-07-02 16:23:00</td>\n",
       "      <td>M</td>\n",
       "    </tr>\n",
       "    <tr>\n",
       "      <th>3</th>\n",
       "      <td>19</td>\n",
       "      <td>17</td>\n",
       "      <td>123</td>\n",
       "      <td>143</td>\n",
       "      <td>258.00</td>\n",
       "      <td>2021-07-02 05:51:00</td>\n",
       "      <td>2021-07-02 06:15:00</td>\n",
       "      <td>M</td>\n",
       "    </tr>\n",
       "    <tr>\n",
       "      <th>4</th>\n",
       "      <td>22</td>\n",
       "      <td>17</td>\n",
       "      <td>123</td>\n",
       "      <td>143</td>\n",
       "      <td>250.00</td>\n",
       "      <td>2021-07-01 22:51:00</td>\n",
       "      <td>2021-07-01 22:56:00</td>\n",
       "      <td>M</td>\n",
       "    </tr>\n",
       "    <tr>\n",
       "      <th>...</th>\n",
       "      <td>...</td>\n",
       "      <td>...</td>\n",
       "      <td>...</td>\n",
       "      <td>...</td>\n",
       "      <td>...</td>\n",
       "      <td>...</td>\n",
       "      <td>...</td>\n",
       "      <td>...</td>\n",
       "    </tr>\n",
       "    <tr>\n",
       "      <th>247</th>\n",
       "      <td>176</td>\n",
       "      <td>1</td>\n",
       "      <td>255</td>\n",
       "      <td>91</td>\n",
       "      <td>332.00</td>\n",
       "      <td>2022-03-30 01:25:00</td>\n",
       "      <td>2022-03-30 03:24:00</td>\n",
       "      <td>M</td>\n",
       "    </tr>\n",
       "    <tr>\n",
       "      <th>248</th>\n",
       "      <td>182</td>\n",
       "      <td>2</td>\n",
       "      <td>30</td>\n",
       "      <td>54</td>\n",
       "      <td>272.00</td>\n",
       "      <td>2022-07-21 11:54:00</td>\n",
       "      <td>2022-07-21 11:59:00</td>\n",
       "      <td>F</td>\n",
       "    </tr>\n",
       "    <tr>\n",
       "      <th>249</th>\n",
       "      <td>195</td>\n",
       "      <td>2</td>\n",
       "      <td>30</td>\n",
       "      <td>54</td>\n",
       "      <td>323.63</td>\n",
       "      <td>2022-07-23 12:42:00</td>\n",
       "      <td>2022-07-23 16:27:00</td>\n",
       "      <td>F</td>\n",
       "    </tr>\n",
       "    <tr>\n",
       "      <th>250</th>\n",
       "      <td>185</td>\n",
       "      <td>1</td>\n",
       "      <td>135</td>\n",
       "      <td>172</td>\n",
       "      <td>382.00</td>\n",
       "      <td>2022-04-08 03:49:00</td>\n",
       "      <td>2022-04-19 07:37:00</td>\n",
       "      <td>M</td>\n",
       "    </tr>\n",
       "    <tr>\n",
       "      <th>251</th>\n",
       "      <td>219</td>\n",
       "      <td>1</td>\n",
       "      <td>32</td>\n",
       "      <td>174</td>\n",
       "      <td>250.00</td>\n",
       "      <td>2022-03-04 02:00:00</td>\n",
       "      <td>2022-03-04 04:00:00</td>\n",
       "      <td>F</td>\n",
       "    </tr>\n",
       "  </tbody>\n",
       "</table>\n",
       "<p>252 rows × 8 columns</p>\n",
       "</div>"
      ],
      "text/plain": [
       "     TRANSFUSION_NUMBER  blood_transfusion_counts  PATIENT_NUMBER  \\\n",
       "0                     1                         2             210   \n",
       "1                   256                         2             210   \n",
       "2                     2                        17             123   \n",
       "3                    19                        17             123   \n",
       "4                    22                        17             123   \n",
       "..                  ...                       ...             ...   \n",
       "247                 176                         1             255   \n",
       "248                 182                         2              30   \n",
       "249                 195                         2              30   \n",
       "250                 185                         1             135   \n",
       "251                 219                         1              32   \n",
       "\n",
       "     ADMISSION_NUMBER  VOLUME    BLOOD_START_TIME      BLOOD_END_TIME Gender  \n",
       "0                 121  246.97 2021-12-19 12:01:00 2021-12-19 16:00:00      F  \n",
       "1                 121  267.00 2021-12-16 15:11:00 2021-12-16 15:16:00      F  \n",
       "2                 143  286.00 2021-07-02 16:18:00 2021-07-02 16:23:00      M  \n",
       "3                 143  258.00 2021-07-02 05:51:00 2021-07-02 06:15:00      M  \n",
       "4                 143  250.00 2021-07-01 22:51:00 2021-07-01 22:56:00      M  \n",
       "..                ...     ...                 ...                 ...    ...  \n",
       "247                91  332.00 2022-03-30 01:25:00 2022-03-30 03:24:00      M  \n",
       "248                54  272.00 2022-07-21 11:54:00 2022-07-21 11:59:00      F  \n",
       "249                54  323.63 2022-07-23 12:42:00 2022-07-23 16:27:00      F  \n",
       "250               172  382.00 2022-04-08 03:49:00 2022-04-19 07:37:00      M  \n",
       "251               174  250.00 2022-03-04 02:00:00 2022-03-04 04:00:00      F  \n",
       "\n",
       "[252 rows x 8 columns]"
      ]
     },
     "execution_count": 6,
     "metadata": {},
     "output_type": "execute_result"
    }
   ],
   "source": [
    "df_transfusions.insert(1, 'blood_transfusion_counts', df_transfusions.groupby(['ADMISSION_NUMBER'])['BLOOD_START_TIME'].transform('count'))\n",
    "df_transfusions\n",
    "\n"
   ]
  },
  {
   "cell_type": "code",
   "execution_count": 7,
   "metadata": {},
   "outputs": [],
   "source": [
    "blood_transfusion_count = df_transfusions.blood_transfusion_counts.values\n",
    "np.save('EPIC_blood_transfusion_count', blood_transfusion_count)\n",
    "\n",
    "blood_transfusion_count_male = df_transfusions.loc[df_transfusions.Gender=='M'].blood_transfusion_counts.values\n",
    "np.save('EPIC_blood_transfusion_count_male', blood_transfusion_count_male)\n",
    "\n",
    "blood_transfusion_count_female = df_transfusions.loc[df_transfusions.Gender=='F'].blood_transfusion_counts.values\n",
    "np.save('EPIC_blood_transfusion_count_female', blood_transfusion_count_female)"
   ]
  },
  {
   "cell_type": "code",
   "execution_count": 8,
   "metadata": {},
   "outputs": [],
   "source": [
    "# the increase to additiona rows is caused by patient having multiple surgeries but it's ok\n",
    "df_transfusions_merged= pd.merge(df_transfusions,df_bypass_surgeries[[\"PATIENT_NUMBER\",\"ADMISSION_NUMBER\",\"FINISH_TIME\"]], on=[\"PATIENT_NUMBER\",\"ADMISSION_NUMBER\"],how = \"inner\")"
   ]
  },
  {
   "cell_type": "code",
   "execution_count": 9,
   "metadata": {},
   "outputs": [
    {
     "data": {
      "text/plain": [
       "65"
      ]
     },
     "execution_count": 9,
     "metadata": {},
     "output_type": "execute_result"
    }
   ],
   "source": [
    "## eliminate transfusion that's been done before the CABGsurgery is commenced\n",
    "df_transfusions_merged = df_transfusions_merged.loc[df_transfusions_merged[\"BLOOD_START_TIME\"] > df_transfusions_merged[\"FINISH_TIME\"]]\n",
    "## the update list shows that there are 67 patients that has underwent blood transfusion after surgery\n",
    "df_transfusions_merged[\"PATIENT_NUMBER\"].nunique()"
   ]
  },
  {
   "cell_type": "code",
   "execution_count": 10,
   "metadata": {},
   "outputs": [],
   "source": [
    "## Q1, keep the earliest blood transfusion time for each patient, and search for the most recent hb test\n",
    "first_transfusion = df_transfusions_merged.groupby([\"PATIENT_NUMBER\"])[[\"BLOOD_START_TIME\",\"VOLUME\",\"Gender\"]].agg(\"min\")\n",
    "first_transfusion = pd.DataFrame(first_transfusion)\n"
   ]
  },
  {
   "cell_type": "code",
   "execution_count": 11,
   "metadata": {},
   "outputs": [
    {
     "data": {
      "text/html": [
       "<div>\n",
       "<style scoped>\n",
       "    .dataframe tbody tr th:only-of-type {\n",
       "        vertical-align: middle;\n",
       "    }\n",
       "\n",
       "    .dataframe tbody tr th {\n",
       "        vertical-align: top;\n",
       "    }\n",
       "\n",
       "    .dataframe thead th {\n",
       "        text-align: right;\n",
       "    }\n",
       "</style>\n",
       "<table border=\"1\" class=\"dataframe\">\n",
       "  <thead>\n",
       "    <tr style=\"text-align: right;\">\n",
       "      <th></th>\n",
       "      <th>BLOOD_START_TIME</th>\n",
       "      <th>VOLUME</th>\n",
       "      <th>Gender</th>\n",
       "    </tr>\n",
       "    <tr>\n",
       "      <th>PATIENT_NUMBER</th>\n",
       "      <th></th>\n",
       "      <th></th>\n",
       "      <th></th>\n",
       "    </tr>\n",
       "  </thead>\n",
       "  <tbody>\n",
       "    <tr>\n",
       "      <th>6</th>\n",
       "      <td>2021-09-25 10:06:00</td>\n",
       "      <td>258.00</td>\n",
       "      <td>F</td>\n",
       "    </tr>\n",
       "    <tr>\n",
       "      <th>16</th>\n",
       "      <td>2022-04-10 17:59:00</td>\n",
       "      <td>271.97</td>\n",
       "      <td>M</td>\n",
       "    </tr>\n",
       "    <tr>\n",
       "      <th>17</th>\n",
       "      <td>2021-12-14 19:02:00</td>\n",
       "      <td>255.00</td>\n",
       "      <td>M</td>\n",
       "    </tr>\n",
       "    <tr>\n",
       "      <th>18</th>\n",
       "      <td>2022-04-05 17:50:00</td>\n",
       "      <td>250.00</td>\n",
       "      <td>M</td>\n",
       "    </tr>\n",
       "    <tr>\n",
       "      <th>23</th>\n",
       "      <td>2021-06-02 10:17:00</td>\n",
       "      <td>244.00</td>\n",
       "      <td>M</td>\n",
       "    </tr>\n",
       "    <tr>\n",
       "      <th>...</th>\n",
       "      <td>...</td>\n",
       "      <td>...</td>\n",
       "      <td>...</td>\n",
       "    </tr>\n",
       "    <tr>\n",
       "      <th>253</th>\n",
       "      <td>2021-09-01 10:20:00</td>\n",
       "      <td>261.00</td>\n",
       "      <td>M</td>\n",
       "    </tr>\n",
       "    <tr>\n",
       "      <th>255</th>\n",
       "      <td>2022-03-30 01:25:00</td>\n",
       "      <td>332.00</td>\n",
       "      <td>M</td>\n",
       "    </tr>\n",
       "    <tr>\n",
       "      <th>258</th>\n",
       "      <td>2021-11-29 12:26:00</td>\n",
       "      <td>247.00</td>\n",
       "      <td>M</td>\n",
       "    </tr>\n",
       "    <tr>\n",
       "      <th>263</th>\n",
       "      <td>2021-07-31 10:46:00</td>\n",
       "      <td>338.67</td>\n",
       "      <td>M</td>\n",
       "    </tr>\n",
       "    <tr>\n",
       "      <th>264</th>\n",
       "      <td>2021-10-19 17:31:00</td>\n",
       "      <td>240.00</td>\n",
       "      <td>M</td>\n",
       "    </tr>\n",
       "  </tbody>\n",
       "</table>\n",
       "<p>65 rows × 3 columns</p>\n",
       "</div>"
      ],
      "text/plain": [
       "                  BLOOD_START_TIME  VOLUME Gender\n",
       "PATIENT_NUMBER                                   \n",
       "6              2021-09-25 10:06:00  258.00      F\n",
       "16             2022-04-10 17:59:00  271.97      M\n",
       "17             2021-12-14 19:02:00  255.00      M\n",
       "18             2022-04-05 17:50:00  250.00      M\n",
       "23             2021-06-02 10:17:00  244.00      M\n",
       "...                            ...     ...    ...\n",
       "253            2021-09-01 10:20:00  261.00      M\n",
       "255            2022-03-30 01:25:00  332.00      M\n",
       "258            2021-11-29 12:26:00  247.00      M\n",
       "263            2021-07-31 10:46:00  338.67      M\n",
       "264            2021-10-19 17:31:00  240.00      M\n",
       "\n",
       "[65 rows x 3 columns]"
      ]
     },
     "execution_count": 11,
     "metadata": {},
     "output_type": "execute_result"
    }
   ],
   "source": [
    "first_transfusion"
   ]
  },
  {
   "cell_type": "code",
   "execution_count": 12,
   "metadata": {},
   "outputs": [],
   "source": [
    "first_blood_transfusion_volumn = first_transfusion.VOLUME.values\n",
    "np.save('EPIC_first_blood_transfusion_volumn', first_blood_transfusion_volumn)\n",
    "\n",
    "first_blood_transfusion_volumn_male = first_transfusion.loc[first_transfusion.Gender=='M'].VOLUME.values\n",
    "np.save('EPIC_blood_transfusion_volumn_male', first_blood_transfusion_volumn_male)\n",
    "\n",
    "first_blood_transfusion_volumn_female = first_transfusion.loc[first_transfusion.Gender=='F'].VOLUME.values\n",
    "np.save('EPIC_blood_transfusion_volumn_female', first_blood_transfusion_volumn_female)"
   ]
  },
  {
   "cell_type": "code",
   "execution_count": 13,
   "metadata": {},
   "outputs": [],
   "source": [
    "# the product of 2 timedate transforms the data into timedelta\n",
    "## the hb value is the patient most recent hb value before the first blood transfusion\n",
    "hb_value = []\n",
    "for row_index, row in first_transfusion.iterrows():\n",
    "    temp_df = df_haemoglobins.loc[df_haemoglobins[\"PATIENT_NUMBER\"] == row_index] \n",
    "    ## find hb test that happened before the first blood transfusion\n",
    "    temp_df = temp_df.loc[(row[\"BLOOD_START_TIME\"]-temp_df[\"RESULT_TIME\"]).dt.total_seconds() > 0]\n",
    "    \n",
    "    ## pick the most recent or the largest time \n",
    "    hb_value.append(float(temp_df.loc[temp_df[\"RESULT_TIME\"] == temp_df[\"RESULT_TIME\"].max()][\"RESULT\"]))\n",
    "first_transfusion['pre_trans_hb'] = hb_value"
   ]
  },
  {
   "cell_type": "code",
   "execution_count": 14,
   "metadata": {},
   "outputs": [
    {
     "data": {
      "text/html": [
       "<div>\n",
       "<style scoped>\n",
       "    .dataframe tbody tr th:only-of-type {\n",
       "        vertical-align: middle;\n",
       "    }\n",
       "\n",
       "    .dataframe tbody tr th {\n",
       "        vertical-align: top;\n",
       "    }\n",
       "\n",
       "    .dataframe thead th {\n",
       "        text-align: right;\n",
       "    }\n",
       "</style>\n",
       "<table border=\"1\" class=\"dataframe\">\n",
       "  <thead>\n",
       "    <tr style=\"text-align: right;\">\n",
       "      <th></th>\n",
       "      <th>BLOOD_START_TIME</th>\n",
       "      <th>VOLUME</th>\n",
       "      <th>Gender</th>\n",
       "      <th>pre_trans_hb</th>\n",
       "    </tr>\n",
       "    <tr>\n",
       "      <th>PATIENT_NUMBER</th>\n",
       "      <th></th>\n",
       "      <th></th>\n",
       "      <th></th>\n",
       "      <th></th>\n",
       "    </tr>\n",
       "  </thead>\n",
       "  <tbody>\n",
       "    <tr>\n",
       "      <th>6</th>\n",
       "      <td>2021-09-25 10:06:00</td>\n",
       "      <td>258.00</td>\n",
       "      <td>F</td>\n",
       "      <td>7.6</td>\n",
       "    </tr>\n",
       "    <tr>\n",
       "      <th>16</th>\n",
       "      <td>2022-04-10 17:59:00</td>\n",
       "      <td>271.97</td>\n",
       "      <td>M</td>\n",
       "      <td>6.9</td>\n",
       "    </tr>\n",
       "    <tr>\n",
       "      <th>17</th>\n",
       "      <td>2021-12-14 19:02:00</td>\n",
       "      <td>255.00</td>\n",
       "      <td>M</td>\n",
       "      <td>7.4</td>\n",
       "    </tr>\n",
       "    <tr>\n",
       "      <th>18</th>\n",
       "      <td>2022-04-05 17:50:00</td>\n",
       "      <td>250.00</td>\n",
       "      <td>M</td>\n",
       "      <td>6.8</td>\n",
       "    </tr>\n",
       "    <tr>\n",
       "      <th>23</th>\n",
       "      <td>2021-06-02 10:17:00</td>\n",
       "      <td>244.00</td>\n",
       "      <td>M</td>\n",
       "      <td>6.7</td>\n",
       "    </tr>\n",
       "    <tr>\n",
       "      <th>...</th>\n",
       "      <td>...</td>\n",
       "      <td>...</td>\n",
       "      <td>...</td>\n",
       "      <td>...</td>\n",
       "    </tr>\n",
       "    <tr>\n",
       "      <th>253</th>\n",
       "      <td>2021-09-01 10:20:00</td>\n",
       "      <td>261.00</td>\n",
       "      <td>M</td>\n",
       "      <td>7.1</td>\n",
       "    </tr>\n",
       "    <tr>\n",
       "      <th>255</th>\n",
       "      <td>2022-03-30 01:25:00</td>\n",
       "      <td>332.00</td>\n",
       "      <td>M</td>\n",
       "      <td>7.3</td>\n",
       "    </tr>\n",
       "    <tr>\n",
       "      <th>258</th>\n",
       "      <td>2021-11-29 12:26:00</td>\n",
       "      <td>247.00</td>\n",
       "      <td>M</td>\n",
       "      <td>7.3</td>\n",
       "    </tr>\n",
       "    <tr>\n",
       "      <th>263</th>\n",
       "      <td>2021-07-31 10:46:00</td>\n",
       "      <td>338.67</td>\n",
       "      <td>M</td>\n",
       "      <td>7.5</td>\n",
       "    </tr>\n",
       "    <tr>\n",
       "      <th>264</th>\n",
       "      <td>2021-10-19 17:31:00</td>\n",
       "      <td>240.00</td>\n",
       "      <td>M</td>\n",
       "      <td>7.3</td>\n",
       "    </tr>\n",
       "  </tbody>\n",
       "</table>\n",
       "<p>65 rows × 4 columns</p>\n",
       "</div>"
      ],
      "text/plain": [
       "                  BLOOD_START_TIME  VOLUME Gender  pre_trans_hb\n",
       "PATIENT_NUMBER                                                 \n",
       "6              2021-09-25 10:06:00  258.00      F           7.6\n",
       "16             2022-04-10 17:59:00  271.97      M           6.9\n",
       "17             2021-12-14 19:02:00  255.00      M           7.4\n",
       "18             2022-04-05 17:50:00  250.00      M           6.8\n",
       "23             2021-06-02 10:17:00  244.00      M           6.7\n",
       "...                            ...     ...    ...           ...\n",
       "253            2021-09-01 10:20:00  261.00      M           7.1\n",
       "255            2022-03-30 01:25:00  332.00      M           7.3\n",
       "258            2021-11-29 12:26:00  247.00      M           7.3\n",
       "263            2021-07-31 10:46:00  338.67      M           7.5\n",
       "264            2021-10-19 17:31:00  240.00      M           7.3\n",
       "\n",
       "[65 rows x 4 columns]"
      ]
     },
     "execution_count": 14,
     "metadata": {},
     "output_type": "execute_result"
    }
   ],
   "source": [
    "first_transfusion"
   ]
  },
  {
   "cell_type": "code",
   "execution_count": 15,
   "metadata": {},
   "outputs": [],
   "source": [
    "pre_transfusion = hb_value\n",
    "np.save('EPIC_first_pre_transfusion', pre_transfusion)\n",
    "\n",
    "first_pre_transfusion_male = first_transfusion.loc[first_transfusion.Gender == 'M'].pre_trans_hb.values\n",
    "np.save('EPIC_first_pre_transfusion_male', first_pre_transfusion_male)\n",
    "\n",
    "first_pre_transfusion_female = first_transfusion.loc[first_transfusion.Gender == 'F'].pre_trans_hb.values\n",
    "np.save('EPIC_first_pre_transfusion_female', first_pre_transfusion_female)"
   ]
  },
  {
   "cell_type": "code",
   "execution_count": 17,
   "metadata": {},
   "outputs": [
    {
     "name": "stdout",
     "output_type": "stream",
     "text": [
      "mean is 7.42 and std is 0.73 and max is 10.9\n"
     ]
    },
    {
     "data": {
      "image/png": "[encoded data removed]",
      "text/plain": [
       "<Figure size 360x360 with 1 Axes>"
      ]
     },
     "metadata": {
      "needs_background": "light"
     },
     "output_type": "display_data"
    }
   ],
   "source": [
    "## plot for Q1\n",
    "# sns.histplot(hb_value,stat=\"probability\") \n",
    "sns.displot(data=first_transfusion, x=\"pre_trans_hb\", stat=\"probability\")\n",
    "print(f'mean is {round(np.mean(first_transfusion.pre_trans_hb.values),2)} and std is {round(np.std(first_transfusion.pre_trans_hb.values),2)} and max is {round(np.max(first_transfusion.pre_trans_hb.values),2)}')\n",
    "    \n",
    "# sns.histplot(first_transfusion,x = \"pre_trans_hb\",stat=\"probability\",element=\"step\",common_norm=False)\n",
    "plt.title('Last Measured Hb Value before First Blood Transfusion')\n",
    "plt.xlabel(\"Hemoglobin Value (g/dl)\")\n",
    "plt.ylabel('Proportion')\n",
    "plt.show()"
   ]
  },
  {
   "cell_type": "code",
   "execution_count": 18,
   "metadata": {},
   "outputs": [
    {
     "name": "stdout",
     "output_type": "stream",
     "text": [
      "7.424615384615384 0.7270659200313311\n"
     ]
    }
   ],
   "source": [
    "## mean/std for the hb value of q1\n",
    "\n",
    "print(np.mean(hb_value),np.std(hb_value))"
   ]
  },
  {
   "cell_type": "code",
   "execution_count": 20,
   "metadata": {},
   "outputs": [
    {
     "name": "stdout",
     "output_type": "stream",
     "text": [
      "mean is 291.03 and std is 125.36\n"
     ]
    },
    {
     "data": {
      "image/png": "[encoded data removed]",
      "text/plain": [
       "<Figure size 432x288 with 1 Axes>"
      ]
     },
     "metadata": {
      "needs_background": "light"
     },
     "output_type": "display_data"
    }
   ],
   "source": [
    "##q2\n",
    "# sns.histplot(first_transfusion[\"VOLUME\"],stat=\"probability\")\n",
    "sns.histplot(first_transfusion,x = \"VOLUME\",stat=\"probability\",element=\"step\",common_norm=False)\n",
    "print(f'mean is {round(np.mean(first_transfusion.VOLUME.values),2)} and std is {round(np.std(first_transfusion.VOLUME.values),2)}')\n",
    "    \n",
    "plt.title('Volume of Blood Given during the First Blood Transfusion')\n",
    "plt.xlabel(\"Volume (ml)\")\n",
    "plt.ylabel('Proportion')\n",
    "plt.show()"
   ]
  },
  {
   "cell_type": "code",
   "execution_count": 78,
   "metadata": {},
   "outputs": [
    {
     "data": {
      "text/plain": [
       "291.03061538461543"
      ]
     },
     "execution_count": 78,
     "metadata": {},
     "output_type": "execute_result"
    }
   ],
   "source": [
    "# ## mean/std of total_volume\n",
    "# np.mean(first_transfusion[\"VOLUME\"])"
   ]
  },
  {
   "cell_type": "code",
   "execution_count": 21,
   "metadata": {},
   "outputs": [
    {
     "name": "stdout",
     "output_type": "stream",
     "text": [
      "For female mean is 305.65 and std is 104.16\n",
      "For male mean is 287 and std is 130.3\n"
     ]
    },
    {
     "data": {
      "image/png": "[encoded data removed]",
      "text/plain": [
       "<Figure size 432x288 with 1 Axes>"
      ]
     },
     "metadata": {
      "needs_background": "light"
     },
     "output_type": "display_data"
    }
   ],
   "source": [
    "# ##q2 with gender\n",
    "sns.histplot(first_transfusion,x = \"VOLUME\",stat=\"probability\",hue = \"Gender\",element=\"step\",common_norm=False)\n",
    "female = first_transfusion.loc[first_transfusion['Gender'] =='F']\n",
    "male = first_transfusion.loc[first_transfusion['Gender'] =='M']\n",
    "print(f'For female mean is {round(np.mean(female.VOLUME.values),2)} and std is {round(np.std(female.VOLUME.values),2)}')\n",
    "print(f'For male mean is {round(np.mean(male.VOLUME.values))} and std is {round(np.std(male.VOLUME.values),2)}')\n",
    "      \n",
    "plt.title('Volume of Blood Given during the First Blood Transfusion by Gender')\n",
    "plt.xlabel(\"Volume (ml)\")\n",
    "plt.ylabel('Proportion')\n",
    "plt.show()"
   ]
  },
  {
   "cell_type": "code",
   "execution_count": 22,
   "metadata": {},
   "outputs": [
    {
     "name": "stdout",
     "output_type": "stream",
     "text": [
      "287.01705882352945\n",
      "130.2972243590139\n",
      "305.65142857142854\n",
      "104.16065996177956\n"
     ]
    }
   ],
   "source": [
    "\n",
    "print(np.mean(first_transfusion.loc[first_transfusion[\"Gender\"] == \"M\"][\"VOLUME\"]))\n",
    "print(np.std(first_transfusion.loc[first_transfusion[\"Gender\"] == \"M\"][\"VOLUME\"]))\n",
    "print(np.mean(first_transfusion.loc[first_transfusion[\"Gender\"] == \"F\"][\"VOLUME\"]))\n",
    "print(np.std(first_transfusion.loc[first_transfusion[\"Gender\"] == \"F\"][\"VOLUME\"]))"
   ]
  },
  {
   "cell_type": "code",
   "execution_count": 23,
   "metadata": {},
   "outputs": [],
   "source": [
    "difference = []\n",
    "pretrans_value = []\n",
    "for row_index, row in df_transfusions_merged.iterrows():\n",
    "    temp_df = df_haemoglobins.loc[df_haemoglobins[\"PATIENT_NUMBER\"] == row[\"PATIENT_NUMBER\"]] \n",
    "    temp_df_pretrans = temp_df.loc[(row[\"BLOOD_START_TIME\"]-temp_df[\"RESULT_TIME\"]).dt.total_seconds() > 0]\n",
    "    \n",
    "    pretrans = float(temp_df_pretrans.loc[temp_df_pretrans[\"RESULT_TIME\"] == temp_df_pretrans[\"RESULT_TIME\"].max()][\"RESULT\"])\n",
    "    pretrans_value.append(pretrans) \n",
    "    temp_df_postrans = temp_df.loc[(row[\"BLOOD_START_TIME\"]-temp_df[\"RESULT_TIME\"]).dt.total_seconds() < 0]\n",
    "    postrans = float(temp_df_postrans.loc[temp_df_postrans[\"RESULT_TIME\"] == temp_df_postrans[\"RESULT_TIME\"].min()][\"RESULT\"])\n",
    "    difference.append(round(postrans- pretrans,4))\n"
   ]
  },
  {
   "cell_type": "code",
   "execution_count": 24,
   "metadata": {},
   "outputs": [],
   "source": [
    "df_transfusions_merged[\"hb_diff\"] = difference\n",
    "df_transfusions_merged[\"pre_trans_hb\"] = pretrans_value"
   ]
  },
  {
   "cell_type": "code",
   "execution_count": 25,
   "metadata": {
    "scrolled": true
   },
   "outputs": [
    {
     "name": "stdout",
     "output_type": "stream",
     "text": [
      "For female mean is 7.55 and std is 0.97\n",
      "For male mean is 8 and std is 0.9\n"
     ]
    },
    {
     "data": {
      "image/png": "[encoded data removed]",
      "text/plain": [
       "<Figure size 432x288 with 1 Axes>"
      ]
     },
     "metadata": {
      "needs_background": "light"
     },
     "output_type": "display_data"
    }
   ],
   "source": [
    "#q3 plot\n",
    "sns.histplot(df_transfusions_merged,x = \"pre_trans_hb\",stat=\"probability\",hue = \"Gender\",element=\"step\",common_norm=False)\n",
    "female = df_transfusions_merged.loc[df_transfusions_merged['Gender'] =='F']\n",
    "male = df_transfusions_merged.loc[df_transfusions_merged['Gender'] =='M']\n",
    "print(f'For female mean is {round(np.mean(female.pre_trans_hb.values),2)} and std is {round(np.std(female.pre_trans_hb.values),2)}')\n",
    "print(f'For male mean is {round(np.mean(male.pre_trans_hb.values))} and std is {round(np.std(male.pre_trans_hb.values),2)}')\n",
    "   \n",
    "plt.title('Last Measured Hb Value before Any Blood Transfusion')\n",
    "plt.xlabel(\"Hemoglobin Value (g/dL)\")\n",
    "plt.ylabel('Proportion')\n",
    "plt.show()"
   ]
  },
  {
   "cell_type": "code",
   "execution_count": 26,
   "metadata": {},
   "outputs": [
    {
     "name": "stdout",
     "output_type": "stream",
     "text": [
      "7.607482993197274\n",
      "0.9017811879470865\n",
      "7.553333333333334\n",
      "0.9708186694171517\n"
     ]
    }
   ],
   "source": [
    "# q3 mean/std based on gender\n",
    "print(np.mean(df_transfusions_merged.loc[df_transfusions_merged[\"Gender\"] == \"M\"][\"pre_trans_hb\"]))\n",
    "print(np.std(df_transfusions_merged.loc[df_transfusions_merged[\"Gender\"] == \"M\"][\"pre_trans_hb\"]))\n",
    "print(np.mean(df_transfusions_merged.loc[df_transfusions_merged[\"Gender\"] == \"F\"][\"pre_trans_hb\"]))\n",
    "print(np.std(df_transfusions_merged.loc[df_transfusions_merged[\"Gender\"] == \"F\"][\"pre_trans_hb\"]))"
   ]
  },
  {
   "cell_type": "code",
   "execution_count": 32,
   "metadata": {},
   "outputs": [
    {
     "name": "stdout",
     "output_type": "stream",
     "text": [
      "mean is 0.81 and std is 1.13\n"
     ]
    },
    {
     "data": {
      "image/png": "[encoded data removed]",
      "text/plain": [
       "<Figure size 360x360 with 1 Axes>"
      ]
     },
     "metadata": {
      "needs_background": "light"
     },
     "output_type": "display_data"
    }
   ],
   "source": [
    "#plot of question 4\n",
    "# sns.histplot(df_transfusions_merged, x = \"hb_diff\",stat=\"probability\") \n",
    "sns.displot(data=df_transfusions_merged, x=\"hb_diff\", stat=\"probability\")\n",
    "# sns.histplot(df_transfusions_merged,x = \"hb_diff\",stat=\"probability\",element=\"step\",common_norm=False)\n",
    "print(f'mean is {round(np.mean(df_transfusions_merged.hb_diff.values),2)} and std is {round(np.std(df_transfusions_merged.hb_diff.values),2)}')\n",
    "\n",
    "plt.title('Hb Value Difference between Pre-transfusion and Post-transfusion')\n",
    "plt.xlabel(\"Hb Value Difference (g/dL)\")\n",
    "plt.ylabel('Proportion')\n",
    "plt.show()"
   ]
  },
  {
   "cell_type": "code",
   "execution_count": 28,
   "metadata": {},
   "outputs": [
    {
     "name": "stdout",
     "output_type": "stream",
     "text": [
      "0.8104166666666665\n",
      "1.1279571474080432\n"
     ]
    }
   ],
   "source": [
    "print(np.mean(df_transfusions_merged[\"hb_diff\"]))\n",
    "print(np.std(df_transfusions_merged[\"hb_diff\"]))"
   ]
  },
  {
   "cell_type": "code",
   "execution_count": 29,
   "metadata": {},
   "outputs": [],
   "source": [
    "df_transfusions_merged= df_transfusions_merged.sort_values(by=['Gender'] ,ascending = False)"
   ]
  },
  {
   "cell_type": "code",
   "execution_count": 31,
   "metadata": {},
   "outputs": [
    {
     "name": "stdout",
     "output_type": "stream",
     "text": [
      "For female mean is 0.78 and std is 1.32\n",
      "For male mean is 1 and std is 1.06\n"
     ]
    },
    {
     "data": {
      "image/png": "[encoded data removed]",
      "text/plain": [
       "<Figure size 432x288 with 1 Axes>"
      ]
     },
     "metadata": {
      "needs_background": "light"
     },
     "output_type": "display_data"
    }
   ],
   "source": [
    "#plot for questions 5\n",
    "## it seems to indicate that there are female patient that suffers from severer blood loss which require multiple blood transfusion\n",
    "## there are 45 instances of female blood transfusion, and patient number holds the majority of the numbers of 25, this essentially\n",
    "## makes the female density seems to have a high anoumaly because the hypothesis should be that female will have a positive increase\n",
    "## in the diffrence between pre transfusion and post\n",
    "sns.histplot(df_transfusions_merged,x = \"hb_diff\",stat=\"probability\",hue = \"Gender\",element=\"step\",common_norm=False)\n",
    "female = df_transfusions_merged.loc[df_transfusions_merged['Gender'] =='F']\n",
    "male = df_transfusions_merged.loc[df_transfusions_merged['Gender'] =='M']\n",
    "print(f'For female mean is {round(np.mean(female.hb_diff.values),2)} and std is {round(np.std(female.hb_diff.values),2)}')\n",
    "print(f'For male mean is {round(np.mean(male.hb_diff.values))} and std is {round(np.std(male.hb_diff.values),2)}')\n",
    "\n",
    "plt.title('Hb Value Difference between Pre-transfusion and Post-transfusion')\n",
    "plt.xlabel(\"Hb Value Difference (g/dL)\")\n",
    "plt.ylabel('Proportion')\n",
    "plt.show()"
   ]
  },
  {
   "cell_type": "code",
   "execution_count": 33,
   "metadata": {},
   "outputs": [
    {
     "name": "stdout",
     "output_type": "stream",
     "text": [
      "0.8204081632653059\n",
      "1.0605439995112638\n",
      "0.7777777777777778\n",
      "1.3239484529893295\n"
     ]
    }
   ],
   "source": [
    "print(np.mean(df_transfusions_merged.loc[df_transfusions_merged[\"Gender\"] == \"M\"][\"hb_diff\"]))\n",
    "print(np.std(df_transfusions_merged.loc[df_transfusions_merged[\"Gender\"] == \"M\"][\"hb_diff\"]))\n",
    "print(np.mean(df_transfusions_merged.loc[df_transfusions_merged[\"Gender\"] == \"F\"][\"hb_diff\"]))\n",
    "print(np.std(df_transfusions_merged.loc[df_transfusions_merged[\"Gender\"] == \"F\"][\"hb_diff\"]))"
   ]
  },
  {
   "cell_type": "code",
   "execution_count": 34,
   "metadata": {},
   "outputs": [],
   "source": [
    "df_transfusions_merged\n",
    "pre_transfusion = df_transfusions_merged.pre_trans_hb.values\n",
    "np.save('EPIC_pre_transfusion', pre_transfusion)\n",
    "\n",
    "pre_transfusion_male = df_transfusions_merged.loc[df_transfusions_merged.Gender == 'M'].pre_trans_hb.values\n",
    "np.save('EPIC_pre_transfusion_male', pre_transfusion_male)\n",
    "\n",
    "pre_transfusion_female = df_transfusions_merged.loc[df_transfusions_merged.Gender == 'F'].pre_trans_hb.values\n",
    "np.save('EPIC_pre_transfusion_female', pre_transfusion_female)\n",
    "\n",
    "\n",
    "value_diff = df_transfusions_merged.hb_diff.values\n",
    "np.save('EPIC_value_diff', value_diff)\n",
    "\n",
    "value_diff_male = df_transfusions_merged.loc[df_transfusions_merged.Gender == 'M'].hb_diff.values\n",
    "np.save('EPIC_value_diff_male', value_diff_male)\n",
    "\n",
    "value_diff_female = df_transfusions_merged.loc[df_transfusions_merged.Gender == 'F'].hb_diff.values\n",
    "np.save('EPIC_value_diff_female', value_diff_female)"
   ]
  },
  {
   "cell_type": "code",
   "execution_count": 35,
   "metadata": {},
   "outputs": [],
   "source": [
    "# plot for self investigated EDA \n",
    "# number of hb measure in the first 24 hours of ICU\n",
    "# correaltion between hb difference in pre transfusion value\n",
    "\n"
   ]
  },
  {
   "cell_type": "code",
   "execution_count": 36,
   "metadata": {},
   "outputs": [],
   "source": [
    "# time diffrence between pre transfusion and blood transfusion \n",
    "time = []\n",
    "\n",
    "for row_index, row in df_transfusions_merged.iterrows():\n",
    "    temp_df = df_haemoglobins.loc[df_haemoglobins[\"PATIENT_NUMBER\"] == row[\"PATIENT_NUMBER\"]] \n",
    "    temp_df_pretrans = temp_df.loc[(row[\"BLOOD_START_TIME\"]-temp_df[\"RESULT_TIME\"]).dt.total_seconds() > 0]\n",
    "    pretrans = temp_df_pretrans.loc[temp_df_pretrans[\"RESULT_TIME\"] == temp_df_pretrans[\"RESULT_TIME\"].max()][\"RESULT_TIME\"]\n",
    "    pretrans = round(float((row[\"BLOOD_START_TIME\"] -pretrans).dt.total_seconds()/60),2)\n",
    "    time.append(pretrans)\n",
    "df_transfusions_merged[\"time\"] = time"
   ]
  },
  {
   "cell_type": "code",
   "execution_count": 37,
   "metadata": {},
   "outputs": [],
   "source": [
    "first_transfusion = df_transfusions_merged.groupby([\"PATIENT_NUMBER\"])[[\"BLOOD_START_TIME\",\"VOLUME\",\"Gender\",\"time\"]].agg(\"min\")\n",
    "first_transfusion = first_transfusion.sort_values(by=['Gender'] ,ascending = False)"
   ]
  },
  {
   "cell_type": "code",
   "execution_count": 39,
   "metadata": {},
   "outputs": [
    {
     "name": "stdout",
     "output_type": "stream",
     "text": [
      "mean is 130.81 and std is 223.36\n"
     ]
    },
    {
     "data": {
      "image/png": "[encoded data removed]",
      "text/plain": [
       "<Figure size 432x288 with 1 Axes>"
      ]
     },
     "metadata": {
      "needs_background": "light"
     },
     "output_type": "display_data"
    }
   ],
   "source": [
    "## time interval using gender \n",
    "# sns.histplot(first_transfusion,x = \"time\",stat=\"probability\")\n",
    "sns.histplot(first_transfusion,x = \"time\",stat=\"probability\",element=\"step\",common_norm=False)\n",
    "print(f'mean is {round(np.mean(df_transfusions_merged.time.values),2)} and std is {round(np.std(df_transfusions_merged.time.values),2)}')\n",
    "\n",
    "plt.title('Time Interval between First-blood Transfusion and the Latest Hb Test')\n",
    "plt.xlabel(\"Time Interval (Minutes)\")\n",
    "plt.ylabel('Proportion')\n",
    "plt.show()"
   ]
  },
  {
   "cell_type": "code",
   "execution_count": 40,
   "metadata": {},
   "outputs": [
    {
     "data": {
      "text/plain": [
       "129.33846153846153"
      ]
     },
     "execution_count": 40,
     "metadata": {},
     "output_type": "execute_result"
    }
   ],
   "source": [
    "np.mean(first_transfusion[\"time\"])"
   ]
  },
  {
   "cell_type": "code",
   "execution_count": 41,
   "metadata": {},
   "outputs": [
    {
     "name": "stdout",
     "output_type": "stream",
     "text": [
      "For female mean is 103.22 and std is 141.52\n",
      "For male mean is 139 and std is 242.34\n"
     ]
    },
    {
     "data": {
      "image/png": "[encoded data removed]",
      "text/plain": [
       "<Figure size 432x288 with 1 Axes>"
      ]
     },
     "metadata": {
      "needs_background": "light"
     },
     "output_type": "display_data"
    }
   ],
   "source": [
    "sns.histplot(first_transfusion,x = \"time\",stat=\"probability\",hue = \"Gender\",element=\"step\",common_norm=False)\n",
    "female = df_transfusions_merged.loc[df_transfusions_merged['Gender'] =='F']\n",
    "male = df_transfusions_merged.loc[df_transfusions_merged['Gender'] =='M']\n",
    "print(f'For female mean is {round(np.mean(female.time.values),2)} and std is {round(np.std(female.time.values),2)}')\n",
    "print(f'For male mean is {round(np.mean(male.time.values))} and std is {round(np.std(male.time.values),2)}')\n",
    "\n",
    "plt.title('Time Interval between First-blood Transfusion and the Latest Hb Test')\n",
    "plt.xlabel(\"Time Interval (Minutes)\")\n",
    "plt.ylabel('Proportion')\n",
    "plt.show()"
   ]
  },
  {
   "cell_type": "code",
   "execution_count": 42,
   "metadata": {},
   "outputs": [
    {
     "data": {
      "text/html": [
       "<div>\n",
       "<style scoped>\n",
       "    .dataframe tbody tr th:only-of-type {\n",
       "        vertical-align: middle;\n",
       "    }\n",
       "\n",
       "    .dataframe tbody tr th {\n",
       "        vertical-align: top;\n",
       "    }\n",
       "\n",
       "    .dataframe thead th {\n",
       "        text-align: right;\n",
       "    }\n",
       "</style>\n",
       "<table border=\"1\" class=\"dataframe\">\n",
       "  <thead>\n",
       "    <tr style=\"text-align: right;\">\n",
       "      <th></th>\n",
       "      <th>BLOOD_START_TIME</th>\n",
       "      <th>VOLUME</th>\n",
       "      <th>Gender</th>\n",
       "      <th>time</th>\n",
       "    </tr>\n",
       "    <tr>\n",
       "      <th>PATIENT_NUMBER</th>\n",
       "      <th></th>\n",
       "      <th></th>\n",
       "      <th></th>\n",
       "      <th></th>\n",
       "    </tr>\n",
       "  </thead>\n",
       "  <tbody>\n",
       "    <tr>\n",
       "      <th>150</th>\n",
       "      <td>2021-05-19 19:55:00</td>\n",
       "      <td>277.08</td>\n",
       "      <td>M</td>\n",
       "      <td>53.0</td>\n",
       "    </tr>\n",
       "    <tr>\n",
       "      <th>135</th>\n",
       "      <td>2022-04-08 03:49:00</td>\n",
       "      <td>382.00</td>\n",
       "      <td>M</td>\n",
       "      <td>188.0</td>\n",
       "    </tr>\n",
       "    <tr>\n",
       "      <th>16</th>\n",
       "      <td>2022-04-10 17:59:00</td>\n",
       "      <td>271.97</td>\n",
       "      <td>M</td>\n",
       "      <td>712.0</td>\n",
       "    </tr>\n",
       "    <tr>\n",
       "      <th>161</th>\n",
       "      <td>2021-12-14 11:40:00</td>\n",
       "      <td>257.00</td>\n",
       "      <td>M</td>\n",
       "      <td>52.0</td>\n",
       "    </tr>\n",
       "    <tr>\n",
       "      <th>163</th>\n",
       "      <td>2022-04-21 09:41:00</td>\n",
       "      <td>440.00</td>\n",
       "      <td>M</td>\n",
       "      <td>197.0</td>\n",
       "    </tr>\n",
       "    <tr>\n",
       "      <th>...</th>\n",
       "      <td>...</td>\n",
       "      <td>...</td>\n",
       "      <td>...</td>\n",
       "      <td>...</td>\n",
       "    </tr>\n",
       "    <tr>\n",
       "      <th>228</th>\n",
       "      <td>2022-03-27 16:07:00</td>\n",
       "      <td>255.00</td>\n",
       "      <td>F</td>\n",
       "      <td>51.0</td>\n",
       "    </tr>\n",
       "    <tr>\n",
       "      <th>210</th>\n",
       "      <td>2021-12-19 12:01:00</td>\n",
       "      <td>246.97</td>\n",
       "      <td>F</td>\n",
       "      <td>95.0</td>\n",
       "    </tr>\n",
       "    <tr>\n",
       "      <th>181</th>\n",
       "      <td>2022-03-31 02:48:00</td>\n",
       "      <td>231.00</td>\n",
       "      <td>F</td>\n",
       "      <td>2.0</td>\n",
       "    </tr>\n",
       "    <tr>\n",
       "      <th>119</th>\n",
       "      <td>2021-10-23 01:10:00</td>\n",
       "      <td>562.00</td>\n",
       "      <td>F</td>\n",
       "      <td>48.0</td>\n",
       "    </tr>\n",
       "    <tr>\n",
       "      <th>6</th>\n",
       "      <td>2021-09-25 10:06:00</td>\n",
       "      <td>258.00</td>\n",
       "      <td>F</td>\n",
       "      <td>268.0</td>\n",
       "    </tr>\n",
       "  </tbody>\n",
       "</table>\n",
       "<p>65 rows × 4 columns</p>\n",
       "</div>"
      ],
      "text/plain": [
       "                  BLOOD_START_TIME  VOLUME Gender   time\n",
       "PATIENT_NUMBER                                          \n",
       "150            2021-05-19 19:55:00  277.08      M   53.0\n",
       "135            2022-04-08 03:49:00  382.00      M  188.0\n",
       "16             2022-04-10 17:59:00  271.97      M  712.0\n",
       "161            2021-12-14 11:40:00  257.00      M   52.0\n",
       "163            2022-04-21 09:41:00  440.00      M  197.0\n",
       "...                            ...     ...    ...    ...\n",
       "228            2022-03-27 16:07:00  255.00      F   51.0\n",
       "210            2021-12-19 12:01:00  246.97      F   95.0\n",
       "181            2022-03-31 02:48:00  231.00      F    2.0\n",
       "119            2021-10-23 01:10:00  562.00      F   48.0\n",
       "6              2021-09-25 10:06:00  258.00      F  268.0\n",
       "\n",
       "[65 rows x 4 columns]"
      ]
     },
     "execution_count": 42,
     "metadata": {},
     "output_type": "execute_result"
    }
   ],
   "source": [
    "first_transfusion"
   ]
  },
  {
   "cell_type": "code",
   "execution_count": 43,
   "metadata": {},
   "outputs": [],
   "source": [
    "time_first_pre_transfusion = first_transfusion.time.values\n",
    "np.save('EPIC_time_first_pre_transfusion', time_first_pre_transfusion)\n",
    "\n",
    "time_first_pre_transfusion_male = first_transfusion.loc[first_transfusion.Gender == 'M'].time.values\n",
    "np.save('EPIC_time_first_pre_transfusion_male', time_first_pre_transfusion_male)\n",
    "\n",
    "time_first_pre_transfusion_female = first_transfusion.loc[first_transfusion.Gender == 'F'].time.values\n",
    "np.save('EPIC_time_first_pre_transfusion_female', time_first_pre_transfusion_female)"
   ]
  },
  {
   "cell_type": "code",
   "execution_count": 44,
   "metadata": {},
   "outputs": [
    {
     "name": "stdout",
     "output_type": "stream",
     "text": [
      "122.86274509803921\n",
      "151.34754441452816\n",
      "152.92857142857142\n",
      "171.55360023940634\n"
     ]
    }
   ],
   "source": [
    "print(np.mean(first_transfusion.loc[first_transfusion[\"Gender\"] == \"M\"][\"time\"]))\n",
    "print(np.std(first_transfusion.loc[first_transfusion[\"Gender\"] == \"M\"][\"time\"]))\n",
    "print(np.mean(first_transfusion.loc[first_transfusion[\"Gender\"] == \"F\"][\"time\"]))\n",
    "print(np.std(first_transfusion.loc[first_transfusion[\"Gender\"] == \"F\"][\"time\"]))"
   ]
  },
  {
   "cell_type": "code",
   "execution_count": 47,
   "metadata": {},
   "outputs": [
    {
     "data": {
      "image/png": "[encoded data removed]",
      "text/plain": [
       "<Figure size 504x504 with 1 Axes>"
      ]
     },
     "metadata": {
      "needs_background": "light"
     },
     "output_type": "display_data"
    }
   ],
   "source": [
    "## correaltion between hb difference in pre transfusion hb value\n",
    "plt.figure(figsize=(7,7))\n",
    "sns.scatterplot(data = df_transfusions_merged, y = \"hb_diff\", x='pre_trans_hb',hue=\"Gender\")\n",
    "plt.title('Correaltion between Hb Difference in Pre-transfusion Hb Value (g/dL)')\n",
    "plt.xlabel(\"Hemoglobin Value (g/dL)\")\n",
    "plt.ylabel('Hb Difference (g/dL)')\n",
    "plt.show()"
   ]
  },
  {
   "cell_type": "code",
   "execution_count": 48,
   "metadata": {},
   "outputs": [],
   "source": [
    "## number of hb measure in the first 24 hours of ICU\n",
    "## duplicate rows with same patient_num+admission num but different ICU_stay num\n",
    "df_icu = df_icu_stays\n",
    "df_icu = pd.merge(df_icu,df_patients[[\"PATIENT_NUMBER\",\"Gender\"]], on=[\"PATIENT_NUMBER\"],how = \"inner\")\n"
   ]
  },
  {
   "cell_type": "code",
   "execution_count": 49,
   "metadata": {},
   "outputs": [],
   "source": [
    "hb_measure = []\n",
    "\n",
    "for row_index, row in df_icu.iterrows():\n",
    "    temp_df = df_haemoglobins.loc[df_haemoglobins[\"PATIENT_NUMBER\"] == row[\"PATIENT_NUMBER\"]] \n",
    "    temp_df = temp_df.loc[temp_df[\"RESULT_TIME\"] <= row[\"ICU_START_TIME\"]+datetime.timedelta(days=1)]\n",
    "    temp_df = temp_df.loc[temp_df[\"RESULT_TIME\"] > row[\"ICU_START_TIME\"]]\n",
    "    hb_measure.append(len(temp_df))\n",
    "\n",
    "df_icu[\"hb_measure\"] = hb_measure"
   ]
  },
  {
   "cell_type": "code",
   "execution_count": 52,
   "metadata": {
    "scrolled": true
   },
   "outputs": [
    {
     "data": {
      "image/png": "[encoded data removed]",
      "text/plain": [
       "<Figure size 432x288 with 1 Axes>"
      ]
     },
     "metadata": {
      "needs_background": "light"
     },
     "output_type": "display_data"
    }
   ],
   "source": [
    "sns.histplot(df_icu,x = \"hb_measure\",stat=\"probability\",hue = \"Gender\",element=\"step\",common_norm=False)\n",
    "plt.title('Number of Hb Measurements within the First 24 Hours of ICU')\n",
    "plt.xlabel(\"Number of Hemoglobin Measurements\")\n",
    "plt.ylabel('Proportion')\n",
    "plt.show()"
   ]
  },
  {
   "cell_type": "code",
   "execution_count": 53,
   "metadata": {
    "scrolled": true
   },
   "outputs": [
    {
     "name": "stdout",
     "output_type": "stream",
     "text": [
      "11.07909604519774\n",
      "11.026490066225165\n",
      "3.5527193574335163\n",
      "11.384615384615385\n",
      "3.0009860312509473\n"
     ]
    }
   ],
   "source": [
    "print(np.mean(df_icu[\"hb_measure\"]))\n",
    "print(np.mean(df_icu.loc[df_icu[\"Gender\"] == \"M\"][\"hb_measure\"]))\n",
    "print(np.std(df_icu.loc[df_icu[\"Gender\"] == \"M\"][\"hb_measure\"]))\n",
    "print(np.mean(df_icu.loc[df_icu[\"Gender\"] == \"F\"][\"hb_measure\"]))\n",
    "print(np.std(df_icu.loc[df_icu[\"Gender\"] == \"F\"][\"hb_measure\"]))"
   ]
  },
  {
   "cell_type": "code",
   "execution_count": 54,
   "metadata": {},
   "outputs": [
    {
     "data": {
      "text/html": [
       "<div>\n",
       "<style scoped>\n",
       "    .dataframe tbody tr th:only-of-type {\n",
       "        vertical-align: middle;\n",
       "    }\n",
       "\n",
       "    .dataframe tbody tr th {\n",
       "        vertical-align: top;\n",
       "    }\n",
       "\n",
       "    .dataframe thead th {\n",
       "        text-align: right;\n",
       "    }\n",
       "</style>\n",
       "<table border=\"1\" class=\"dataframe\">\n",
       "  <thead>\n",
       "    <tr style=\"text-align: right;\">\n",
       "      <th></th>\n",
       "      <th>ICU_STAY_NUMBER</th>\n",
       "      <th>PATIENT_NUMBER</th>\n",
       "      <th>ADMISSION_NUMBER</th>\n",
       "      <th>ICU_START_TIME</th>\n",
       "      <th>ICU_END_TIME</th>\n",
       "      <th>Gender</th>\n",
       "      <th>hb_measure</th>\n",
       "      <th>icu_stay_time</th>\n",
       "    </tr>\n",
       "  </thead>\n",
       "  <tbody>\n",
       "    <tr>\n",
       "      <th>0</th>\n",
       "      <td>1</td>\n",
       "      <td>87</td>\n",
       "      <td>115</td>\n",
       "      <td>2021-08-05 17:49:00</td>\n",
       "      <td>2021-08-06 12:22:00</td>\n",
       "      <td>M</td>\n",
       "      <td>12</td>\n",
       "      <td>18.550000</td>\n",
       "    </tr>\n",
       "    <tr>\n",
       "      <th>1</th>\n",
       "      <td>2</td>\n",
       "      <td>192</td>\n",
       "      <td>245</td>\n",
       "      <td>2021-08-23 13:50:00</td>\n",
       "      <td>2021-08-25 16:49:00</td>\n",
       "      <td>M</td>\n",
       "      <td>10</td>\n",
       "      <td>2.983333</td>\n",
       "    </tr>\n",
       "    <tr>\n",
       "      <th>2</th>\n",
       "      <td>3</td>\n",
       "      <td>224</td>\n",
       "      <td>170</td>\n",
       "      <td>2021-11-17 17:31:00</td>\n",
       "      <td>2021-11-18 15:57:00</td>\n",
       "      <td>M</td>\n",
       "      <td>14</td>\n",
       "      <td>22.433333</td>\n",
       "    </tr>\n",
       "    <tr>\n",
       "      <th>3</th>\n",
       "      <td>4</td>\n",
       "      <td>88</td>\n",
       "      <td>31</td>\n",
       "      <td>2022-02-14 12:58:00</td>\n",
       "      <td>2022-02-15 13:13:00</td>\n",
       "      <td>M</td>\n",
       "      <td>12</td>\n",
       "      <td>0.250000</td>\n",
       "    </tr>\n",
       "    <tr>\n",
       "      <th>4</th>\n",
       "      <td>5</td>\n",
       "      <td>223</td>\n",
       "      <td>160</td>\n",
       "      <td>2021-12-03 12:55:00</td>\n",
       "      <td>2021-12-04 15:53:00</td>\n",
       "      <td>M</td>\n",
       "      <td>11</td>\n",
       "      <td>2.966667</td>\n",
       "    </tr>\n",
       "    <tr>\n",
       "      <th>...</th>\n",
       "      <td>...</td>\n",
       "      <td>...</td>\n",
       "      <td>...</td>\n",
       "      <td>...</td>\n",
       "      <td>...</td>\n",
       "      <td>...</td>\n",
       "      <td>...</td>\n",
       "      <td>...</td>\n",
       "    </tr>\n",
       "    <tr>\n",
       "      <th>172</th>\n",
       "      <td>172</td>\n",
       "      <td>125</td>\n",
       "      <td>202</td>\n",
       "      <td>2021-04-29 13:41:00</td>\n",
       "      <td>2021-04-30 18:51:00</td>\n",
       "      <td>M</td>\n",
       "      <td>9</td>\n",
       "      <td>5.166667</td>\n",
       "    </tr>\n",
       "    <tr>\n",
       "      <th>173</th>\n",
       "      <td>173</td>\n",
       "      <td>173</td>\n",
       "      <td>16</td>\n",
       "      <td>2021-06-23 13:26:00</td>\n",
       "      <td>2021-06-24 15:10:00</td>\n",
       "      <td>M</td>\n",
       "      <td>8</td>\n",
       "      <td>1.733333</td>\n",
       "    </tr>\n",
       "    <tr>\n",
       "      <th>174</th>\n",
       "      <td>174</td>\n",
       "      <td>142</td>\n",
       "      <td>162</td>\n",
       "      <td>2021-10-23 11:51:00</td>\n",
       "      <td>2021-10-24 19:11:00</td>\n",
       "      <td>M</td>\n",
       "      <td>6</td>\n",
       "      <td>7.333333</td>\n",
       "    </tr>\n",
       "    <tr>\n",
       "      <th>175</th>\n",
       "      <td>175</td>\n",
       "      <td>240</td>\n",
       "      <td>159</td>\n",
       "      <td>2022-05-04 17:07:00</td>\n",
       "      <td>2022-05-05 16:52:00</td>\n",
       "      <td>M</td>\n",
       "      <td>12</td>\n",
       "      <td>23.750000</td>\n",
       "    </tr>\n",
       "    <tr>\n",
       "      <th>176</th>\n",
       "      <td>176</td>\n",
       "      <td>65</td>\n",
       "      <td>60</td>\n",
       "      <td>2022-02-28 18:52:00</td>\n",
       "      <td>2022-03-06 14:06:00</td>\n",
       "      <td>M</td>\n",
       "      <td>13</td>\n",
       "      <td>19.233333</td>\n",
       "    </tr>\n",
       "  </tbody>\n",
       "</table>\n",
       "<p>177 rows × 8 columns</p>\n",
       "</div>"
      ],
      "text/plain": [
       "     ICU_STAY_NUMBER  PATIENT_NUMBER  ADMISSION_NUMBER      ICU_START_TIME  \\\n",
       "0                  1              87               115 2021-08-05 17:49:00   \n",
       "1                  2             192               245 2021-08-23 13:50:00   \n",
       "2                  3             224               170 2021-11-17 17:31:00   \n",
       "3                  4              88                31 2022-02-14 12:58:00   \n",
       "4                  5             223               160 2021-12-03 12:55:00   \n",
       "..               ...             ...               ...                 ...   \n",
       "172              172             125               202 2021-04-29 13:41:00   \n",
       "173              173             173                16 2021-06-23 13:26:00   \n",
       "174              174             142               162 2021-10-23 11:51:00   \n",
       "175              175             240               159 2022-05-04 17:07:00   \n",
       "176              176              65                60 2022-02-28 18:52:00   \n",
       "\n",
       "           ICU_END_TIME Gender  hb_measure  icu_stay_time  \n",
       "0   2021-08-06 12:22:00      M          12      18.550000  \n",
       "1   2021-08-25 16:49:00      M          10       2.983333  \n",
       "2   2021-11-18 15:57:00      M          14      22.433333  \n",
       "3   2022-02-15 13:13:00      M          12       0.250000  \n",
       "4   2021-12-04 15:53:00      M          11       2.966667  \n",
       "..                  ...    ...         ...            ...  \n",
       "172 2021-04-30 18:51:00      M           9       5.166667  \n",
       "173 2021-06-24 15:10:00      M           8       1.733333  \n",
       "174 2021-10-24 19:11:00      M           6       7.333333  \n",
       "175 2022-05-05 16:52:00      M          12      23.750000  \n",
       "176 2022-03-06 14:06:00      M          13      19.233333  \n",
       "\n",
       "[177 rows x 8 columns]"
      ]
     },
     "execution_count": 54,
     "metadata": {},
     "output_type": "execute_result"
    }
   ],
   "source": [
    "df_icu['icu_stay_time'] = (df_icu['ICU_END_TIME'] - df_icu['ICU_START_TIME']).dt.seconds/3600\n",
    "df_icu"
   ]
  },
  {
   "cell_type": "code",
   "execution_count": 55,
   "metadata": {},
   "outputs": [],
   "source": [
    "EPIC_icu_stay_time = df_icu.icu_stay_time.values\n",
    "np.save('EPIC_icu_stay_time_days', EPIC_icu_stay_time)\n",
    "\n",
    "EPIC_icu_stay_time_male = df_icu.loc[df_icu.Gender == 'M'].icu_stay_time.values\n",
    "np.save('EPIC_icu_stay_time_days_male', EPIC_icu_stay_time_male)\n",
    "\n",
    "EPIC_icu_stay_time_female =df_icu.loc[df_icu.Gender == 'F'].icu_stay_time.values\n",
    "np.save('EPIC_icu_stay_time_days_female', EPIC_icu_stay_time_female)\n"
   ]
  },
  {
   "cell_type": "code",
   "execution_count": 56,
   "metadata": {},
   "outputs": [
    {
     "data": {
      "text/html": [
       "<div>\n",
       "<style scoped>\n",
       "    .dataframe tbody tr th:only-of-type {\n",
       "        vertical-align: middle;\n",
       "    }\n",
       "\n",
       "    .dataframe tbody tr th {\n",
       "        vertical-align: top;\n",
       "    }\n",
       "\n",
       "    .dataframe thead th {\n",
       "        text-align: right;\n",
       "    }\n",
       "</style>\n",
       "<table border=\"1\" class=\"dataframe\">\n",
       "  <thead>\n",
       "    <tr style=\"text-align: right;\">\n",
       "      <th></th>\n",
       "      <th>ICU_STAY_NUMBER</th>\n",
       "      <th>PATIENT_NUMBER</th>\n",
       "      <th>ADMISSION_NUMBER</th>\n",
       "      <th>ICU_START_TIME</th>\n",
       "      <th>ICU_END_TIME</th>\n",
       "      <th>Gender</th>\n",
       "      <th>hb_measure</th>\n",
       "      <th>icu_stay_time</th>\n",
       "    </tr>\n",
       "  </thead>\n",
       "  <tbody>\n",
       "    <tr>\n",
       "      <th>0</th>\n",
       "      <td>1</td>\n",
       "      <td>87</td>\n",
       "      <td>115</td>\n",
       "      <td>2021-08-05 17:49:00</td>\n",
       "      <td>2021-08-06 12:22:00</td>\n",
       "      <td>M</td>\n",
       "      <td>12</td>\n",
       "      <td>18.550000</td>\n",
       "    </tr>\n",
       "    <tr>\n",
       "      <th>1</th>\n",
       "      <td>2</td>\n",
       "      <td>192</td>\n",
       "      <td>245</td>\n",
       "      <td>2021-08-23 13:50:00</td>\n",
       "      <td>2021-08-25 16:49:00</td>\n",
       "      <td>M</td>\n",
       "      <td>10</td>\n",
       "      <td>2.983333</td>\n",
       "    </tr>\n",
       "    <tr>\n",
       "      <th>2</th>\n",
       "      <td>3</td>\n",
       "      <td>224</td>\n",
       "      <td>170</td>\n",
       "      <td>2021-11-17 17:31:00</td>\n",
       "      <td>2021-11-18 15:57:00</td>\n",
       "      <td>M</td>\n",
       "      <td>14</td>\n",
       "      <td>22.433333</td>\n",
       "    </tr>\n",
       "    <tr>\n",
       "      <th>3</th>\n",
       "      <td>4</td>\n",
       "      <td>88</td>\n",
       "      <td>31</td>\n",
       "      <td>2022-02-14 12:58:00</td>\n",
       "      <td>2022-02-15 13:13:00</td>\n",
       "      <td>M</td>\n",
       "      <td>12</td>\n",
       "      <td>0.250000</td>\n",
       "    </tr>\n",
       "    <tr>\n",
       "      <th>4</th>\n",
       "      <td>5</td>\n",
       "      <td>223</td>\n",
       "      <td>160</td>\n",
       "      <td>2021-12-03 12:55:00</td>\n",
       "      <td>2021-12-04 15:53:00</td>\n",
       "      <td>M</td>\n",
       "      <td>11</td>\n",
       "      <td>2.966667</td>\n",
       "    </tr>\n",
       "    <tr>\n",
       "      <th>...</th>\n",
       "      <td>...</td>\n",
       "      <td>...</td>\n",
       "      <td>...</td>\n",
       "      <td>...</td>\n",
       "      <td>...</td>\n",
       "      <td>...</td>\n",
       "      <td>...</td>\n",
       "      <td>...</td>\n",
       "    </tr>\n",
       "    <tr>\n",
       "      <th>172</th>\n",
       "      <td>172</td>\n",
       "      <td>125</td>\n",
       "      <td>202</td>\n",
       "      <td>2021-04-29 13:41:00</td>\n",
       "      <td>2021-04-30 18:51:00</td>\n",
       "      <td>M</td>\n",
       "      <td>9</td>\n",
       "      <td>5.166667</td>\n",
       "    </tr>\n",
       "    <tr>\n",
       "      <th>173</th>\n",
       "      <td>173</td>\n",
       "      <td>173</td>\n",
       "      <td>16</td>\n",
       "      <td>2021-06-23 13:26:00</td>\n",
       "      <td>2021-06-24 15:10:00</td>\n",
       "      <td>M</td>\n",
       "      <td>8</td>\n",
       "      <td>1.733333</td>\n",
       "    </tr>\n",
       "    <tr>\n",
       "      <th>174</th>\n",
       "      <td>174</td>\n",
       "      <td>142</td>\n",
       "      <td>162</td>\n",
       "      <td>2021-10-23 11:51:00</td>\n",
       "      <td>2021-10-24 19:11:00</td>\n",
       "      <td>M</td>\n",
       "      <td>6</td>\n",
       "      <td>7.333333</td>\n",
       "    </tr>\n",
       "    <tr>\n",
       "      <th>175</th>\n",
       "      <td>175</td>\n",
       "      <td>240</td>\n",
       "      <td>159</td>\n",
       "      <td>2022-05-04 17:07:00</td>\n",
       "      <td>2022-05-05 16:52:00</td>\n",
       "      <td>M</td>\n",
       "      <td>12</td>\n",
       "      <td>23.750000</td>\n",
       "    </tr>\n",
       "    <tr>\n",
       "      <th>176</th>\n",
       "      <td>176</td>\n",
       "      <td>65</td>\n",
       "      <td>60</td>\n",
       "      <td>2022-02-28 18:52:00</td>\n",
       "      <td>2022-03-06 14:06:00</td>\n",
       "      <td>M</td>\n",
       "      <td>13</td>\n",
       "      <td>19.233333</td>\n",
       "    </tr>\n",
       "  </tbody>\n",
       "</table>\n",
       "<p>177 rows × 8 columns</p>\n",
       "</div>"
      ],
      "text/plain": [
       "     ICU_STAY_NUMBER  PATIENT_NUMBER  ADMISSION_NUMBER      ICU_START_TIME  \\\n",
       "0                  1              87               115 2021-08-05 17:49:00   \n",
       "1                  2             192               245 2021-08-23 13:50:00   \n",
       "2                  3             224               170 2021-11-17 17:31:00   \n",
       "3                  4              88                31 2022-02-14 12:58:00   \n",
       "4                  5             223               160 2021-12-03 12:55:00   \n",
       "..               ...             ...               ...                 ...   \n",
       "172              172             125               202 2021-04-29 13:41:00   \n",
       "173              173             173                16 2021-06-23 13:26:00   \n",
       "174              174             142               162 2021-10-23 11:51:00   \n",
       "175              175             240               159 2022-05-04 17:07:00   \n",
       "176              176              65                60 2022-02-28 18:52:00   \n",
       "\n",
       "           ICU_END_TIME Gender  hb_measure  icu_stay_time  \n",
       "0   2021-08-06 12:22:00      M          12      18.550000  \n",
       "1   2021-08-25 16:49:00      M          10       2.983333  \n",
       "2   2021-11-18 15:57:00      M          14      22.433333  \n",
       "3   2022-02-15 13:13:00      M          12       0.250000  \n",
       "4   2021-12-04 15:53:00      M          11       2.966667  \n",
       "..                  ...    ...         ...            ...  \n",
       "172 2021-04-30 18:51:00      M           9       5.166667  \n",
       "173 2021-06-24 15:10:00      M           8       1.733333  \n",
       "174 2021-10-24 19:11:00      M           6       7.333333  \n",
       "175 2022-05-05 16:52:00      M          12      23.750000  \n",
       "176 2022-03-06 14:06:00      M          13      19.233333  \n",
       "\n",
       "[177 rows x 8 columns]"
      ]
     },
     "execution_count": 56,
     "metadata": {},
     "output_type": "execute_result"
    }
   ],
   "source": [
    "df_icu"
   ]
  },
  {
   "cell_type": "code",
   "execution_count": 64,
   "metadata": {},
   "outputs": [],
   "source": [
    "def boxplot_icu_stay_time(df,name):\n",
    "    \n",
    "    \n",
    "    sns.histplot(df, x=\"icu_stay_time\", element=\"step\",\n",
    "    stat=\"probability\", common_norm=False,)  \n",
    "    plt.title(\"Distribution of ICU Stay Time\")\n",
    "    plt.ylabel('Proportion')\n",
    "    plt.xlabel('ICU Stay Time (Minutes)')\n",
    "    plt.show()\n",
    "    plt.figure(figsize=(7,7))\n",
    "    sns.boxplot(data=df, y=\"icu_stay_time\")\n",
    "    print(f'mean is {round(np.mean(df.icu_stay_time.values),2)} and std is {round(np.std(df.icu_stay_time.values),2)}')\n",
    "    #sns.histplot(data=icu_stay_time_blood_counts, x=\"icu_stay_time\")\n",
    "    plt.title(\"ICU Stay Time Distribution\")\n",
    "    plt.ylabel('ICU Stay Time (Minutes)')\n",
    "    plt.savefig(f'Additional_CABG_plots/{name}_boxtplot_icu_stay_time.png')\n",
    "    plt.show()"
   ]
  },
  {
   "cell_type": "code",
   "execution_count": 65,
   "metadata": {},
   "outputs": [
    {
     "data": {
      "image/png": "[encoded data removed]",
      "text/plain": [
       "<Figure size 432x288 with 1 Axes>"
      ]
     },
     "metadata": {
      "needs_background": "light"
     },
     "output_type": "display_data"
    },
    {
     "name": "stdout",
     "output_type": "stream",
     "text": [
      "mean is 12.0 and std is 8.79\n"
     ]
    },
    {
     "data": {
      "image/png": "[encoded data removed]",
      "text/plain": [
       "<Figure size 504x504 with 1 Axes>"
      ]
     },
     "metadata": {
      "needs_background": "light"
     },
     "output_type": "display_data"
    }
   ],
   "source": [
    "boxplot_icu_stay_time(df_icu,\"EPIC\")"
   ]
  },
  {
   "cell_type": "code",
   "execution_count": 66,
   "metadata": {},
   "outputs": [],
   "source": [
    "EPIC_hemoglobin_24h_Hb_count = df_icu.hb_measure.values\n",
    "np.save('EPIC_hemoglobin_24h_Hb_count', EPIC_hemoglobin_24h_Hb_count)\n",
    "\n",
    "EPIC_hemoglobin_24h_Hb_count_male = df_icu.loc[df_icu.Gender == 'M'].hb_measure.values\n",
    "np.save('EPIC_hemoglobin_24h_Hb_count_male', EPIC_hemoglobin_24h_Hb_count_male)\n",
    "\n",
    "EPIC_hemoglobin_24h_Hb_count_female =df_icu.loc[df_icu.Gender == 'F'].hb_measure.values\n",
    "np.save('EPIC_hemoglobin_24h_Hb_count_female', EPIC_hemoglobin_24h_Hb_count_female)"
   ]
  },
  {
   "cell_type": "code",
   "execution_count": 68,
   "metadata": {},
   "outputs": [],
   "source": [
    "def histplot_24H_Hb_measurement(df,name):\n",
    "    # without gender\n",
    "#     plt.figure(figsize=(7,7))\n",
    "#     sns.displot(data=df, x=\"counts\", stat=\"probability\")\n",
    "#     sns.histplot(data=df, x=\"counts\", kde=True)\n",
    "    sns.histplot(df, x=\"counts\", element=\"step\",\n",
    "    stat=\"probability\", common_norm=False,bins=14)  \n",
    "    print(f'mean is {round(np.mean(df.counts.values),2)} and std is {round(np.std(df.counts.values),2)}')\n",
    "\n",
    "    plt.title('Number of Hemoglobin Measurements from \\n the Beginning of the Surgery to the First 24 Hours of the Intensive Care')\n",
    "    plt.xlabel('Number of Hemoglobin Measurements')\n",
    "    plt.ylabel('Proportion')\n",
    "    plt.savefig(f'Additional_Hb_plots/histplot_numberOfHBmeasurement24H.png')\n",
    "    plt.show() \n",
    "    \n",
    "    \n",
    "    # for gender\n",
    "    sns.histplot(df, x=\"counts\", hue=\"gender\", element=\"step\",\n",
    "    stat=\"probability\", common_norm=False,bins=14)  \n",
    "    female = df.loc[df['gender'] =='F']\n",
    "    male = df.loc[df['gender'] =='M']\n",
    "    print(f'For female mean is {round(np.mean(female.counts.values),2)} and std is {round(np.std(female.counts.values),2)}')\n",
    "    print(f'For male mean is {round(np.mean(male.counts.values))} and std is {round(np.std(male.counts.values),2)}')\n",
    "   \n",
    "    plt.title('Number of Hemoglobin Measurements from \\n the Beginning of the Surgery to the First 24 Hours of the Intensive Care')\n",
    "    plt.xlabel('Number of Hemoglobin Measurements')\n",
    "    plt.ylabel('Proportion')\n",
    "    plt.savefig(f'Additional_Hb_plots/histplot_numberOfHBmeasurement24H_gender.png')\n",
    "    plt.show()\n",
    "    \n",
    "    \n",
    "    \n",
    "    sns.boxplot(x=\"gender\", y='counts', data=df)\n",
    "    plt.title(\"Number of Hemoglobin Measurements\")\n",
    "    plt.ylabel('Number of Hemoglobin Measurements')\n",
    "    plt.savefig(f'Additional_Hb_plots/boxplot_numberOfHBmeasurement24H_gender.png')\n",
    "    plt.show()\n",
    "\n"
   ]
  },
  {
   "cell_type": "code",
   "execution_count": 69,
   "metadata": {},
   "outputs": [
    {
     "data": {
      "text/html": [
       "<div>\n",
       "<style scoped>\n",
       "    .dataframe tbody tr th:only-of-type {\n",
       "        vertical-align: middle;\n",
       "    }\n",
       "\n",
       "    .dataframe tbody tr th {\n",
       "        vertical-align: top;\n",
       "    }\n",
       "\n",
       "    .dataframe thead th {\n",
       "        text-align: right;\n",
       "    }\n",
       "</style>\n",
       "<table border=\"1\" class=\"dataframe\">\n",
       "  <thead>\n",
       "    <tr style=\"text-align: right;\">\n",
       "      <th></th>\n",
       "      <th>ICU_STAY_NUMBER</th>\n",
       "      <th>PATIENT_NUMBER</th>\n",
       "      <th>ADMISSION_NUMBER</th>\n",
       "      <th>ICU_START_TIME</th>\n",
       "      <th>ICU_END_TIME</th>\n",
       "      <th>Gender</th>\n",
       "      <th>hb_measure</th>\n",
       "      <th>icu_stay_time</th>\n",
       "    </tr>\n",
       "  </thead>\n",
       "  <tbody>\n",
       "    <tr>\n",
       "      <th>0</th>\n",
       "      <td>1</td>\n",
       "      <td>87</td>\n",
       "      <td>115</td>\n",
       "      <td>2021-08-05 17:49:00</td>\n",
       "      <td>2021-08-06 12:22:00</td>\n",
       "      <td>M</td>\n",
       "      <td>12</td>\n",
       "      <td>18.550000</td>\n",
       "    </tr>\n",
       "    <tr>\n",
       "      <th>1</th>\n",
       "      <td>2</td>\n",
       "      <td>192</td>\n",
       "      <td>245</td>\n",
       "      <td>2021-08-23 13:50:00</td>\n",
       "      <td>2021-08-25 16:49:00</td>\n",
       "      <td>M</td>\n",
       "      <td>10</td>\n",
       "      <td>2.983333</td>\n",
       "    </tr>\n",
       "    <tr>\n",
       "      <th>2</th>\n",
       "      <td>3</td>\n",
       "      <td>224</td>\n",
       "      <td>170</td>\n",
       "      <td>2021-11-17 17:31:00</td>\n",
       "      <td>2021-11-18 15:57:00</td>\n",
       "      <td>M</td>\n",
       "      <td>14</td>\n",
       "      <td>22.433333</td>\n",
       "    </tr>\n",
       "    <tr>\n",
       "      <th>3</th>\n",
       "      <td>4</td>\n",
       "      <td>88</td>\n",
       "      <td>31</td>\n",
       "      <td>2022-02-14 12:58:00</td>\n",
       "      <td>2022-02-15 13:13:00</td>\n",
       "      <td>M</td>\n",
       "      <td>12</td>\n",
       "      <td>0.250000</td>\n",
       "    </tr>\n",
       "    <tr>\n",
       "      <th>4</th>\n",
       "      <td>5</td>\n",
       "      <td>223</td>\n",
       "      <td>160</td>\n",
       "      <td>2021-12-03 12:55:00</td>\n",
       "      <td>2021-12-04 15:53:00</td>\n",
       "      <td>M</td>\n",
       "      <td>11</td>\n",
       "      <td>2.966667</td>\n",
       "    </tr>\n",
       "    <tr>\n",
       "      <th>...</th>\n",
       "      <td>...</td>\n",
       "      <td>...</td>\n",
       "      <td>...</td>\n",
       "      <td>...</td>\n",
       "      <td>...</td>\n",
       "      <td>...</td>\n",
       "      <td>...</td>\n",
       "      <td>...</td>\n",
       "    </tr>\n",
       "    <tr>\n",
       "      <th>172</th>\n",
       "      <td>172</td>\n",
       "      <td>125</td>\n",
       "      <td>202</td>\n",
       "      <td>2021-04-29 13:41:00</td>\n",
       "      <td>2021-04-30 18:51:00</td>\n",
       "      <td>M</td>\n",
       "      <td>9</td>\n",
       "      <td>5.166667</td>\n",
       "    </tr>\n",
       "    <tr>\n",
       "      <th>173</th>\n",
       "      <td>173</td>\n",
       "      <td>173</td>\n",
       "      <td>16</td>\n",
       "      <td>2021-06-23 13:26:00</td>\n",
       "      <td>2021-06-24 15:10:00</td>\n",
       "      <td>M</td>\n",
       "      <td>8</td>\n",
       "      <td>1.733333</td>\n",
       "    </tr>\n",
       "    <tr>\n",
       "      <th>174</th>\n",
       "      <td>174</td>\n",
       "      <td>142</td>\n",
       "      <td>162</td>\n",
       "      <td>2021-10-23 11:51:00</td>\n",
       "      <td>2021-10-24 19:11:00</td>\n",
       "      <td>M</td>\n",
       "      <td>6</td>\n",
       "      <td>7.333333</td>\n",
       "    </tr>\n",
       "    <tr>\n",
       "      <th>175</th>\n",
       "      <td>175</td>\n",
       "      <td>240</td>\n",
       "      <td>159</td>\n",
       "      <td>2022-05-04 17:07:00</td>\n",
       "      <td>2022-05-05 16:52:00</td>\n",
       "      <td>M</td>\n",
       "      <td>12</td>\n",
       "      <td>23.750000</td>\n",
       "    </tr>\n",
       "    <tr>\n",
       "      <th>176</th>\n",
       "      <td>176</td>\n",
       "      <td>65</td>\n",
       "      <td>60</td>\n",
       "      <td>2022-02-28 18:52:00</td>\n",
       "      <td>2022-03-06 14:06:00</td>\n",
       "      <td>M</td>\n",
       "      <td>13</td>\n",
       "      <td>19.233333</td>\n",
       "    </tr>\n",
       "  </tbody>\n",
       "</table>\n",
       "<p>177 rows × 8 columns</p>\n",
       "</div>"
      ],
      "text/plain": [
       "     ICU_STAY_NUMBER  PATIENT_NUMBER  ADMISSION_NUMBER      ICU_START_TIME  \\\n",
       "0                  1              87               115 2021-08-05 17:49:00   \n",
       "1                  2             192               245 2021-08-23 13:50:00   \n",
       "2                  3             224               170 2021-11-17 17:31:00   \n",
       "3                  4              88                31 2022-02-14 12:58:00   \n",
       "4                  5             223               160 2021-12-03 12:55:00   \n",
       "..               ...             ...               ...                 ...   \n",
       "172              172             125               202 2021-04-29 13:41:00   \n",
       "173              173             173                16 2021-06-23 13:26:00   \n",
       "174              174             142               162 2021-10-23 11:51:00   \n",
       "175              175             240               159 2022-05-04 17:07:00   \n",
       "176              176              65                60 2022-02-28 18:52:00   \n",
       "\n",
       "           ICU_END_TIME Gender  hb_measure  icu_stay_time  \n",
       "0   2021-08-06 12:22:00      M          12      18.550000  \n",
       "1   2021-08-25 16:49:00      M          10       2.983333  \n",
       "2   2021-11-18 15:57:00      M          14      22.433333  \n",
       "3   2022-02-15 13:13:00      M          12       0.250000  \n",
       "4   2021-12-04 15:53:00      M          11       2.966667  \n",
       "..                  ...    ...         ...            ...  \n",
       "172 2021-04-30 18:51:00      M           9       5.166667  \n",
       "173 2021-06-24 15:10:00      M           8       1.733333  \n",
       "174 2021-10-24 19:11:00      M           6       7.333333  \n",
       "175 2022-05-05 16:52:00      M          12      23.750000  \n",
       "176 2022-03-06 14:06:00      M          13      19.233333  \n",
       "\n",
       "[177 rows x 8 columns]"
      ]
     },
     "execution_count": 69,
     "metadata": {},
     "output_type": "execute_result"
    }
   ],
   "source": [
    "df_icu"
   ]
  },
  {
   "cell_type": "code",
   "execution_count": 72,
   "metadata": {},
   "outputs": [],
   "source": [
    "\n",
    "def histplot_hb_measure(df,name):\n",
    "    \n",
    "    sns.histplot(df, x=\"hb_measure\", element=\"step\",\n",
    "    stat=\"probability\", common_norm=False,)\n",
    "    print(f'mean is {round(np.mean(df.hb_measure.values),2)} and std is {round(np.std(df.hb_measure.values),2)}')\n",
    "    \n",
    "    plt.title('Number of Hb Measurements within the First 24 Hours of ICU')\n",
    "    plt.xlabel(\"Amount of Hemoglobin Measurements\")\n",
    "    plt.ylabel('Proportion')\n",
    "#     plt.savefig(f'Bloodtransfusion_plots/{name}_histplot_numberOfbloodTransfusion.png')\n",
    "    plt.show()\n",
    "    \n",
    " \n",
    "    sns.histplot(df, x=\"hb_measure\", hue=\"Gender\", element=\"step\",\n",
    "    stat=\"probability\", common_norm=False,)\n",
    "    female = df.loc[df['Gender'] =='F']\n",
    "    male = df.loc[df['Gender'] =='M']\n",
    "    print(f'For female mean is {round(np.mean(female.hb_measure.values),2)} and std is {round(np.std(female.hb_measure.values),2)}')\n",
    "    print(f'For male mean is {round(np.mean(male.hb_measure.values))} and std is {round(np.std(male.hb_measure.values),2)}')\n",
    "              \n",
    "    plt.title('Number of Hb Measurements within the First 24 Hours of ICU')\n",
    "    plt.xlabel(\"Amount of Hemoglobin Measurements\")\n",
    "    plt.ylabel('Proportion')\n",
    "#     plt.savefig(f'Bloodtransfusion_plots/{name}_histplot_numberOfbloodTransfusion_gender.png')\n",
    "    plt.show()\n",
    "    \n",
    "    \n",
    "\n",
    "\n",
    "    sns.boxplot(x=\"Gender\", y='hb_measure', data=df)\n",
    "    plt.title('Number of Hb Measurements within the First 24 Hours of ICU')\n",
    "    plt.ylabel(\"Amount of Hemoglobin Measurements\")\n",
    "#     plt.ylabel('Proportion')\n",
    "#     plt.savefig(f'Bloodtransfusion_plots/{name}_boxplot_numberOfbloodTransfusion_gender.png')\n",
    "    plt.show()\n",
    "    "
   ]
  },
  {
   "cell_type": "code",
   "execution_count": 73,
   "metadata": {},
   "outputs": [
    {
     "name": "stdout",
     "output_type": "stream",
     "text": [
      "mean is 11.08 and std is 3.48\n"
     ]
    },
    {
     "data": {
      "image/png": "[encoded data removed]",
      "text/plain": [
       "<Figure size 432x288 with 1 Axes>"
      ]
     },
     "metadata": {
      "needs_background": "light"
     },
     "output_type": "display_data"
    },
    {
     "name": "stdout",
     "output_type": "stream",
     "text": [
      "For female mean is 11.38 and std is 3.0\n",
      "For male mean is 11 and std is 3.55\n"
     ]
    },
    {
     "data": {
      "image/png": "[encoded data removed]",
      "text/plain": [
       "<Figure size 432x288 with 1 Axes>"
      ]
     },
     "metadata": {
      "needs_background": "light"
     },
     "output_type": "display_data"
    },
    {
     "data": {
      "image/png": "[encoded data removed]",
      "text/plain": [
       "<Figure size 432x288 with 1 Axes>"
      ]
     },
     "metadata": {
      "needs_background": "light"
     },
     "output_type": "display_data"
    }
   ],
   "source": [
    "histplot_hb_measure(df_icu,'EPIC')"
   ]
  },
  {
   "cell_type": "code",
   "execution_count": 74,
   "metadata": {},
   "outputs": [
    {
     "ename": "NameError",
     "evalue": "name 'histplot_bloodtransfusion_counts' is not defined",
     "output_type": "error",
     "traceback": [
      "\u001b[0;31m---------------------------------------------------------------------------\u001b[0m",
      "\u001b[0;31mNameError\u001b[0m                                 Traceback (most recent call last)",
      "\u001b[0;32m/var/folders/p0/jx_f4_wx39gdhmtt0qjtcw2r0000gn/T/ipykernel_5635/4096285325.py\u001b[0m in \u001b[0;36m<module>\u001b[0;34m\u001b[0m\n\u001b[1;32m      1\u001b[0m \u001b[0mdf_transfusions\u001b[0m \u001b[0;34m=\u001b[0m \u001b[0mdf_transfusions\u001b[0m\u001b[0;34m.\u001b[0m\u001b[0msort_values\u001b[0m\u001b[0;34m(\u001b[0m\u001b[0mby\u001b[0m\u001b[0;34m=\u001b[0m\u001b[0;34m[\u001b[0m\u001b[0;34m'Gender'\u001b[0m\u001b[0;34m]\u001b[0m \u001b[0;34m,\u001b[0m\u001b[0mascending\u001b[0m \u001b[0;34m=\u001b[0m \u001b[0;32mFalse\u001b[0m\u001b[0;34m)\u001b[0m\u001b[0;34m\u001b[0m\u001b[0;34m\u001b[0m\u001b[0m\n\u001b[0;32m----> 2\u001b[0;31m \u001b[0mhistplot_bloodtransfusion_counts\u001b[0m\u001b[0;34m(\u001b[0m\u001b[0mdf_transfusions\u001b[0m\u001b[0;34m,\u001b[0m\u001b[0;34m\"EPIC\"\u001b[0m\u001b[0;34m)\u001b[0m\u001b[0;34m\u001b[0m\u001b[0;34m\u001b[0m\u001b[0m\n\u001b[0m\u001b[1;32m      3\u001b[0m \u001b[0;31m# # boxplot_bloodtransfusion_counts(blood_transfusion_count,\"MIMIC\")\u001b[0m\u001b[0;34m\u001b[0m\u001b[0;34m\u001b[0m\u001b[0m\n\u001b[1;32m      4\u001b[0m \u001b[0mdf_transfusions\u001b[0m\u001b[0;34m\u001b[0m\u001b[0;34m\u001b[0m\u001b[0m\n",
      "\u001b[0;31mNameError\u001b[0m: name 'histplot_bloodtransfusion_counts' is not defined"
     ]
    }
   ],
   "source": [
    "df_transfusions = df_transfusions.sort_values(by=['Gender'] ,ascending = False)\n",
    "histplot_bloodtransfusion_counts(df_transfusions,\"EPIC\")\n",
    "# # boxplot_bloodtransfusion_counts(blood_transfusion_count,\"MIMIC\")\n",
    "df_transfusions"
   ]
  },
  {
   "cell_type": "code",
   "execution_count": 159,
   "metadata": {},
   "outputs": [],
   "source": [
    "df_transfusions_merged = df_transfusions_merged.rename(columns = {'ADMISSION_NUMBER':'hadm_id','Gender':'gender','hb_diff':'value_diff','pre_trans_hb':'pre_transfusion','blood_transfusion_counts':'blood_counts'})\n"
   ]
  },
  {
   "cell_type": "code",
   "execution_count": 75,
   "metadata": {},
   "outputs": [],
   "source": [
    "def multiline_Pretransfusion_Bloodtransfusion(df,name):\n",
    "    row = 3\n",
    "    col = 1\n",
    "    fig, axes = plt.subplots(row,sharex=True, figsize=(16,8))\n",
    "    fig.suptitle('Pre-transfusion value for patient with different number of blood transfusion')\n",
    "\n",
    "\n",
    "    for axes_num1 in range(3):\n",
    "\n",
    "        count = axes_num1+1\n",
    "\n",
    "        if(count==3):\n",
    "            partial_fbt_time_differece_Hb = df.loc[(df.blood_counts >= count)]\n",
    "        else:\n",
    "            partial_fbt_time_differece_Hb = df.loc[(df.blood_counts == count)]\n",
    "\n",
    "\n",
    "        sns.kdeplot(ax=axes[axes_num1],x= partial_fbt_time_differece_Hb['pre_transfusion'],label='All')\n",
    "        mean= partial_fbt_time_differece_Hb.mean().pre_transfusion\n",
    "\n",
    "        if(count==3):\n",
    "            axes[axes_num1].set_title('Blood transfusion >='+str(count)+ '|Patients '+str(len(partial_fbt_time_differece_Hb))+'| Mean ' + str(round(mean,3)))\n",
    "        else:\n",
    "            axes[axes_num1].set_title('Blood transfusion '+str(count)+ '|Patients '+str(len(partial_fbt_time_differece_Hb))+'| Mean ' + str(round(mean,3)))\n",
    "\n",
    "        axes[2].set_xlabel(\"Pre-transfusion value\")\n",
    "        axes[axes_num1].legend(loc='upper right')\n",
    "    fig.savefig(f'labevent_plots/{name}_multiline_Pretransfusion_Bloodtransfusion.png')\n",
    "    fig.show()\n",
    "\n",
    "def multiline_Pretransfusion_Bloodtransfusion_gender(df,name):\n",
    "    row = 3\n",
    "    col = 1\n",
    "    fig, axes = plt.subplots(row,sharex=True, figsize=(16,8))\n",
    "    fig.suptitle('Pre-transfusion value for patient with different number of blood transfusion')\n",
    "\n",
    "\n",
    "    for axes_num1 in range(3):\n",
    "        count = axes_num1+1\n",
    "\n",
    "        if(count==3):\n",
    "            partial_fbt_time_differece_Hb = df.loc[(df.blood_counts >= count)]\n",
    "        else:\n",
    "            partial_fbt_time_differece_Hb = df.loc[(df.blood_counts == count)]\n",
    "\n",
    "        male_Hb = partial_fbt_time_differece_Hb[partial_fbt_time_differece_Hb.gender == 'M']\n",
    "        sns.kdeplot(ax=axes[axes_num1],x=male_Hb['pre_transfusion'], label='male')\n",
    "        female_Hb =partial_fbt_time_differece_Hb[partial_fbt_time_differece_Hb.gender == 'F']\n",
    "        sns.kdeplot(ax=axes[axes_num1],x=female_Hb['pre_transfusion'],label='female')\n",
    "        sns.kdeplot(ax=axes[axes_num1],x= partial_fbt_time_differece_Hb['pre_transfusion'],label='All')\n",
    "        mean= partial_fbt_time_differece_Hb.mean().pre_transfusion\n",
    "        fmean = female_Hb.pre_transfusion.mean()\n",
    "        mmean= male_Hb.pre_transfusion.mean()\n",
    "\n",
    "        if(count==3):\n",
    "            axes[axes_num1].set_title('Blood transfusion >='+str(count)+ '|Patients '+str(len(partial_fbt_time_differece_Hb))+ '| Mean ' + str(round(mean,3)) +'| F Mean '+str(round(fmean,3)) + '| M Mean '+str(round(mmean,3)))\n",
    "        else:\n",
    "            axes[axes_num1].set_title('Blood transfusion '+str(count)+ '|Patients '+str(len(partial_fbt_time_differece_Hb))+'| Mean ' + str(round(mean,3)) +'| F Mean '+str(round(fmean,3)) + '| M Mean '+str(round(mmean,3)))\n",
    "\n",
    "\n",
    "        axes[2].set_xlabel(\"Pre-transfusion value\")\n",
    "        axes[axes_num1].legend(loc='upper right')\n",
    "    fig.savefig(f'labevent_plots/{name}_multiline_Pretransfusion_Bloodtransfusion_gender.png')\n",
    "    fig.show()"
   ]
  },
  {
   "cell_type": "code",
   "execution_count": 76,
   "metadata": {},
   "outputs": [
    {
     "ename": "AttributeError",
     "evalue": "'DataFrame' object has no attribute 'blood_counts'",
     "output_type": "error",
     "traceback": [
      "\u001b[0;31m---------------------------------------------------------------------------\u001b[0m",
      "\u001b[0;31mAttributeError\u001b[0m                            Traceback (most recent call last)",
      "\u001b[0;32m/var/folders/p0/jx_f4_wx39gdhmtt0qjtcw2r0000gn/T/ipykernel_5635/2655579871.py\u001b[0m in \u001b[0;36m<module>\u001b[0;34m\u001b[0m\n\u001b[0;32m----> 1\u001b[0;31m \u001b[0mmultiline_Pretransfusion_Bloodtransfusion\u001b[0m\u001b[0;34m(\u001b[0m\u001b[0mdf_transfusions_merged\u001b[0m\u001b[0;34m,\u001b[0m\u001b[0;34m'EPIC'\u001b[0m\u001b[0;34m)\u001b[0m\u001b[0;34m\u001b[0m\u001b[0;34m\u001b[0m\u001b[0m\n\u001b[0m\u001b[1;32m      2\u001b[0m \u001b[0mmultiline_Pretransfusion_Bloodtransfusion_gender\u001b[0m\u001b[0;34m(\u001b[0m\u001b[0mdf_transfusions_merged\u001b[0m\u001b[0;34m,\u001b[0m\u001b[0;34m'EPIC'\u001b[0m\u001b[0;34m)\u001b[0m\u001b[0;34m\u001b[0m\u001b[0;34m\u001b[0m\u001b[0m\n",
      "\u001b[0;32m/var/folders/p0/jx_f4_wx39gdhmtt0qjtcw2r0000gn/T/ipykernel_5635/385050065.py\u001b[0m in \u001b[0;36mmultiline_Pretransfusion_Bloodtransfusion\u001b[0;34m(df, name)\u001b[0m\n\u001b[1;32m     13\u001b[0m             \u001b[0mpartial_fbt_time_differece_Hb\u001b[0m \u001b[0;34m=\u001b[0m \u001b[0mdf\u001b[0m\u001b[0;34m.\u001b[0m\u001b[0mloc\u001b[0m\u001b[0;34m[\u001b[0m\u001b[0;34m(\u001b[0m\u001b[0mdf\u001b[0m\u001b[0;34m.\u001b[0m\u001b[0mblood_counts\u001b[0m \u001b[0;34m>=\u001b[0m \u001b[0mcount\u001b[0m\u001b[0;34m)\u001b[0m\u001b[0;34m]\u001b[0m\u001b[0;34m\u001b[0m\u001b[0;34m\u001b[0m\u001b[0m\n\u001b[1;32m     14\u001b[0m         \u001b[0;32melse\u001b[0m\u001b[0;34m:\u001b[0m\u001b[0;34m\u001b[0m\u001b[0;34m\u001b[0m\u001b[0m\n\u001b[0;32m---> 15\u001b[0;31m             \u001b[0mpartial_fbt_time_differece_Hb\u001b[0m \u001b[0;34m=\u001b[0m \u001b[0mdf\u001b[0m\u001b[0;34m.\u001b[0m\u001b[0mloc\u001b[0m\u001b[0;34m[\u001b[0m\u001b[0;34m(\u001b[0m\u001b[0mdf\u001b[0m\u001b[0;34m.\u001b[0m\u001b[0mblood_counts\u001b[0m \u001b[0;34m==\u001b[0m \u001b[0mcount\u001b[0m\u001b[0;34m)\u001b[0m\u001b[0;34m]\u001b[0m\u001b[0;34m\u001b[0m\u001b[0;34m\u001b[0m\u001b[0m\n\u001b[0m\u001b[1;32m     16\u001b[0m \u001b[0;34m\u001b[0m\u001b[0m\n\u001b[1;32m     17\u001b[0m \u001b[0;34m\u001b[0m\u001b[0m\n",
      "\u001b[0;32m~/opt/anaconda3/lib/python3.9/site-packages/pandas/core/generic.py\u001b[0m in \u001b[0;36m__getattr__\u001b[0;34m(self, name)\u001b[0m\n\u001b[1;32m   5485\u001b[0m         ):\n\u001b[1;32m   5486\u001b[0m             \u001b[0;32mreturn\u001b[0m \u001b[0mself\u001b[0m\u001b[0;34m[\u001b[0m\u001b[0mname\u001b[0m\u001b[0;34m]\u001b[0m\u001b[0;34m\u001b[0m\u001b[0;34m\u001b[0m\u001b[0m\n\u001b[0;32m-> 5487\u001b[0;31m         \u001b[0;32mreturn\u001b[0m \u001b[0mobject\u001b[0m\u001b[0;34m.\u001b[0m\u001b[0m__getattribute__\u001b[0m\u001b[0;34m(\u001b[0m\u001b[0mself\u001b[0m\u001b[0;34m,\u001b[0m \u001b[0mname\u001b[0m\u001b[0;34m)\u001b[0m\u001b[0;34m\u001b[0m\u001b[0;34m\u001b[0m\u001b[0m\n\u001b[0m\u001b[1;32m   5488\u001b[0m \u001b[0;34m\u001b[0m\u001b[0m\n\u001b[1;32m   5489\u001b[0m     \u001b[0;32mdef\u001b[0m \u001b[0m__setattr__\u001b[0m\u001b[0;34m(\u001b[0m\u001b[0mself\u001b[0m\u001b[0;34m,\u001b[0m \u001b[0mname\u001b[0m\u001b[0;34m:\u001b[0m \u001b[0mstr\u001b[0m\u001b[0;34m,\u001b[0m \u001b[0mvalue\u001b[0m\u001b[0;34m)\u001b[0m \u001b[0;34m->\u001b[0m \u001b[0;32mNone\u001b[0m\u001b[0;34m:\u001b[0m\u001b[0;34m\u001b[0m\u001b[0;34m\u001b[0m\u001b[0m\n",
      "\u001b[0;31mAttributeError\u001b[0m: 'DataFrame' object has no attribute 'blood_counts'"
     ]
    },
    {
     "data": {
      "image/png": "[encoded data removed]",
      "text/plain": [
       "<Figure size 1152x576 with 3 Axes>"
      ]
     },
     "metadata": {
      "needs_background": "light"
     },
     "output_type": "display_data"
    }
   ],
   "source": [
    "multiline_Pretransfusion_Bloodtransfusion(df_transfusions_merged,'EPIC')\n",
    "multiline_Pretransfusion_Bloodtransfusion_gender(df_transfusions_merged,'EPIC')"
   ]
  },
  {
   "cell_type": "code",
   "execution_count": null,
   "id": "cdfd9d13",
   "metadata": {},
   "outputs": [],
   "source": []
  }
 ],
 "metadata": {
  "kernelspec": {
   "display_name": "Python 3.9.7 ('base')",
   "language": "python",
   "name": "python3"
  },
  "language_info": {
   "codemirror_mode": {
    "name": "ipython",
    "version": 3
   },
   "file_extension": ".py",
   "mimetype": "text/x-python",
   "name": "python",
   "nbconvert_exporter": "python",
   "pygments_lexer": "ipython3",
   "version": "3.9.7"
  },
  "vscode": {
   "interpreter": {
    "hash": "b9d6008fa92329aaa11415060758284d944c2fab839fe22550f46b77738e47c9"
   }
  }
 },
 "nbformat": 4,
 "nbformat_minor": 5
}
