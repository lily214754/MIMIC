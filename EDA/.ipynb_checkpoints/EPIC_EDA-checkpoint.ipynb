{
 "cells": [
  {
   "cell_type": "code",
   "execution_count": 1,
   "id": "1c84cd08",
   "metadata": {},
   "outputs": [],
   "source": [
    "import pandas as pd\n",
    "import numpy as np\n",
    "from matplotlib import pyplot as plt\n",
    "import seaborn as sns\n",
    "from datetime import datetime\n",
    "\n",
    "xls = pd.ExcelFile('EPIC.xlsx')\n",
    "patients = pd.read_excel(xls, 'Patients')\n",
    "admissions = pd.read_excel(xls, 'Admissions')\n",
    "icu_stays = pd.read_excel(xls, 'ICU_Stays')\n",
    "bypass_surgeries = pd.read_excel(xls, 'Bypass_Surgeries')\n",
    "hemoblobin = pd.read_excel(xls, 'Haemoglobins')\n",
    "transfusion = pd.read_excel(xls, 'Transfusions')"
   ]
  },
  {
   "cell_type": "markdown",
   "id": "5ce8fe0b",
   "metadata": {},
   "source": [
    "- patients:\n",
    "\n",
    "'PATIENT_NUMBER', 'DOB', 'Gender'\n",
    "admissions\n",
    "'ADMISSION_NUMBER', 'PATIENT_NUMBER', 'ADMISSION_TIME',\n",
    "       'DISCHARGE_TIME'\n",
    "- icu_stays:\n",
    "\n",
    "'ICU_STAY_NUMBER', 'PATIENT_NUMBER', 'ADMISSION_NUMBER',\n",
    "       'ICU_START_TIME', 'ICU_END_TIME'\n",
    "- bypass_surgeries:\n",
    "\n",
    "'SURGERY_NUMBER', 'PATIENT_NUMBER', 'ADMISSION_NUMBER', 'START_TIME',\n",
    "       'FINISH_TIME']\n",
    "- hemoblobin:\n",
    "\n",
    "'HAEMOGLOBIN_NUMBER', 'PATIENT_NUMBER', 'ADMISSION_NUMBER', 'RESULT',\n",
    "       'REFERENCE_LOW', 'REFERENCE_HIGH', 'REFERENCE_UNIT',\n",
    "       'SPECIMEN_TAKEN_TIME', 'RESULT_TIME']\n",
    "- transfusion:\n",
    "\n",
    "'TRANSFUSION_NUMBER', 'PATIENT_NUMBER', 'ADMISSION_NUMBER', 'VOLUME',\n",
    "       'BLOOD_START_TIME', 'BLOOD_END_TIME'\n",
    "       \n",
    "patient_number= subject_id\n",
    "admission_number = hamd_id"
   ]
  },
  {
   "cell_type": "markdown",
   "id": "18f8d3a8",
   "metadata": {},
   "source": [
    "#### Analysis for packed red cell\n",
    "- blood transfusion totalamountuom distribution\n",
    "- blood transfusion count distribution\n"
   ]
  },
  {
   "cell_type": "code",
   "execution_count": 2,
   "id": "2024dc5e",
   "metadata": {},
   "outputs": [],
   "source": [
    "def histplot_bloodtransfusion_volume(packed_red_cells,name):\n",
    "    female = packed_red_cells.loc[packed_red_cells.gender == 'F' ].totalamount\n",
    "    male = packed_red_cells.loc[packed_red_cells.gender == 'M' ].totalamount\n",
    "    plt.hist(male,  edgecolor=\"black\",label= f\"male | {len(packed_red_cells.loc[packed_red_cells.gender == 'M'])}\")\n",
    "    plt.hist(female, edgecolor=\"black\",label= f\"female | {len(packed_red_cells.loc[packed_red_cells.gender == 'F'])}\")\n",
    "    plt.xlabel(\"Blood transfusion totalamount\")\n",
    "    plt.ylabel(\"Number of Patient\")\n",
    "    plt.title(\"Number of Patient in each group\")\n",
    "    plt.legend()\n",
    "    plt.savefig(f'Bloodtransfusion_plots/{name}_histplot_bloodtransfusion_volume.png')\n",
    "    plt.show()\n"
   ]
  },
  {
   "cell_type": "code",
   "execution_count": 3,
   "id": "9622fb90",
   "metadata": {},
   "outputs": [],
   "source": [
    "\n",
    "def histplot_bloodtransfusion_counts(blood_transfusion_count,name):\n",
    "    male_Hb = blood_transfusion_count[blood_transfusion_count.gender == 'M']\n",
    "    sns.distplot(male_Hb['counts'], label='male')\n",
    "\n",
    "    female_Hb =blood_transfusion_count[blood_transfusion_count.gender == 'F']\n",
    "    sns.distplot(female_Hb['counts'],label='female')\n",
    "\n",
    "    plt.legend(prop={'size': 12})\n",
    "    plt.title('Distribution of number of blood transfusion')\n",
    "    plt.xlabel('Number of blood transfusion')\n",
    "    plt.ylabel('Density')\n",
    "    plt.savefig(f'Bloodtransfusion_plots/{name}_histplot_numberOfbloodTransfusion_gender.png')\n",
    "    plt.show()\n",
    "    \n",
    "    \n",
    "\n",
    "def boxplot_bloodtransfusion_counts(blood_transfusion_count,name):\n",
    "    sns.boxplot(x=\"gender\", y='counts', data=blood_transfusion_count)\n",
    "    plt.title(\"Number of blood transfusion\")\n",
    "    plt.ylabel('Number of blood transfusion')\n",
    "    plt.savefig(f'Bloodtransfusion_plots/{name}_boxplot_numberOfbloodTransfusion_gender.png')\n",
    "    plt.show()\n",
    "    "
   ]
  },
  {
   "cell_type": "code",
   "execution_count": 4,
   "id": "3f628307",
   "metadata": {},
   "outputs": [
    {
     "data": {
      "text/html": [
       "<div>\n",
       "<style scoped>\n",
       "    .dataframe tbody tr th:only-of-type {\n",
       "        vertical-align: middle;\n",
       "    }\n",
       "\n",
       "    .dataframe tbody tr th {\n",
       "        vertical-align: top;\n",
       "    }\n",
       "\n",
       "    .dataframe thead th {\n",
       "        text-align: right;\n",
       "    }\n",
       "</style>\n",
       "<table border=\"1\" class=\"dataframe\">\n",
       "  <thead>\n",
       "    <tr style=\"text-align: right;\">\n",
       "      <th></th>\n",
       "      <th>TRANSFUSION_NUMBER</th>\n",
       "      <th>PATIENT_NUMBER</th>\n",
       "      <th>ADMISSION_NUMBER</th>\n",
       "      <th>VOLUME</th>\n",
       "      <th>BLOOD_START_TIME</th>\n",
       "      <th>BLOOD_END_TIME</th>\n",
       "      <th>DOB</th>\n",
       "      <th>Gender</th>\n",
       "    </tr>\n",
       "  </thead>\n",
       "  <tbody>\n",
       "    <tr>\n",
       "      <th>0</th>\n",
       "      <td>1</td>\n",
       "      <td>93</td>\n",
       "      <td>45</td>\n",
       "      <td>305.00</td>\n",
       "      <td>2022-04-13 21:16:00</td>\n",
       "      <td>2022-04-13 21:21:00</td>\n",
       "      <td>1952-07-14</td>\n",
       "      <td>F</td>\n",
       "    </tr>\n",
       "    <tr>\n",
       "      <th>1</th>\n",
       "      <td>2</td>\n",
       "      <td>90</td>\n",
       "      <td>239</td>\n",
       "      <td>325.60</td>\n",
       "      <td>2021-04-13 05:53:00</td>\n",
       "      <td>2021-04-13 09:35:00</td>\n",
       "      <td>1951-05-18</td>\n",
       "      <td>M</td>\n",
       "    </tr>\n",
       "    <tr>\n",
       "      <th>2</th>\n",
       "      <td>3</td>\n",
       "      <td>93</td>\n",
       "      <td>45</td>\n",
       "      <td>268.00</td>\n",
       "      <td>2022-04-16 09:37:00</td>\n",
       "      <td>2022-04-16 12:00:00</td>\n",
       "      <td>1952-07-14</td>\n",
       "      <td>F</td>\n",
       "    </tr>\n",
       "    <tr>\n",
       "      <th>3</th>\n",
       "      <td>4</td>\n",
       "      <td>139</td>\n",
       "      <td>105</td>\n",
       "      <td>263.00</td>\n",
       "      <td>2022-04-02 09:55:00</td>\n",
       "      <td>2022-04-02 12:51:00</td>\n",
       "      <td>1950-07-13</td>\n",
       "      <td>M</td>\n",
       "    </tr>\n",
       "    <tr>\n",
       "      <th>4</th>\n",
       "      <td>5</td>\n",
       "      <td>99</td>\n",
       "      <td>207</td>\n",
       "      <td>255.00</td>\n",
       "      <td>2021-12-07 20:00:00</td>\n",
       "      <td>2021-12-07 20:20:00</td>\n",
       "      <td>1944-02-19</td>\n",
       "      <td>M</td>\n",
       "    </tr>\n",
       "    <tr>\n",
       "      <th>...</th>\n",
       "      <td>...</td>\n",
       "      <td>...</td>\n",
       "      <td>...</td>\n",
       "      <td>...</td>\n",
       "      <td>...</td>\n",
       "      <td>...</td>\n",
       "      <td>...</td>\n",
       "      <td>...</td>\n",
       "    </tr>\n",
       "    <tr>\n",
       "      <th>258</th>\n",
       "      <td>253</td>\n",
       "      <td>93</td>\n",
       "      <td>45</td>\n",
       "      <td>260.00</td>\n",
       "      <td>2022-04-18 16:25:00</td>\n",
       "      <td>2022-04-18 18:25:00</td>\n",
       "      <td>1952-07-14</td>\n",
       "      <td>F</td>\n",
       "    </tr>\n",
       "    <tr>\n",
       "      <th>259</th>\n",
       "      <td>254</td>\n",
       "      <td>93</td>\n",
       "      <td>45</td>\n",
       "      <td>260.00</td>\n",
       "      <td>2022-04-27 11:22:00</td>\n",
       "      <td>2022-04-27 11:27:00</td>\n",
       "      <td>1952-07-14</td>\n",
       "      <td>F</td>\n",
       "    </tr>\n",
       "    <tr>\n",
       "      <th>260</th>\n",
       "      <td>255</td>\n",
       "      <td>76</td>\n",
       "      <td>175</td>\n",
       "      <td>250.00</td>\n",
       "      <td>2021-08-31 17:50:00</td>\n",
       "      <td>2021-08-31 18:51:00</td>\n",
       "      <td>1966-08-11</td>\n",
       "      <td>M</td>\n",
       "    </tr>\n",
       "    <tr>\n",
       "      <th>261</th>\n",
       "      <td>256</td>\n",
       "      <td>90</td>\n",
       "      <td>239</td>\n",
       "      <td>496.00</td>\n",
       "      <td>2021-04-11 17:17:00</td>\n",
       "      <td>2021-04-11 20:00:00</td>\n",
       "      <td>1951-05-18</td>\n",
       "      <td>M</td>\n",
       "    </tr>\n",
       "    <tr>\n",
       "      <th>262</th>\n",
       "      <td>257</td>\n",
       "      <td>258</td>\n",
       "      <td>95</td>\n",
       "      <td>335.42</td>\n",
       "      <td>2022-04-15 14:19:00</td>\n",
       "      <td>2022-04-15 17:00:00</td>\n",
       "      <td>1966-10-07</td>\n",
       "      <td>F</td>\n",
       "    </tr>\n",
       "  </tbody>\n",
       "</table>\n",
       "<p>263 rows × 8 columns</p>\n",
       "</div>"
      ],
      "text/plain": [
       "     TRANSFUSION_NUMBER  PATIENT_NUMBER  ADMISSION_NUMBER  VOLUME  \\\n",
       "0                     1              93                45  305.00   \n",
       "1                     2              90               239  325.60   \n",
       "2                     3              93                45  268.00   \n",
       "3                     4             139               105  263.00   \n",
       "4                     5              99               207  255.00   \n",
       "..                  ...             ...               ...     ...   \n",
       "258                 253              93                45  260.00   \n",
       "259                 254              93                45  260.00   \n",
       "260                 255              76               175  250.00   \n",
       "261                 256              90               239  496.00   \n",
       "262                 257             258                95  335.42   \n",
       "\n",
       "       BLOOD_START_TIME      BLOOD_END_TIME        DOB Gender  \n",
       "0   2022-04-13 21:16:00 2022-04-13 21:21:00 1952-07-14      F  \n",
       "1   2021-04-13 05:53:00 2021-04-13 09:35:00 1951-05-18      M  \n",
       "2   2022-04-16 09:37:00 2022-04-16 12:00:00 1952-07-14      F  \n",
       "3   2022-04-02 09:55:00 2022-04-02 12:51:00 1950-07-13      M  \n",
       "4   2021-12-07 20:00:00 2021-12-07 20:20:00 1944-02-19      M  \n",
       "..                  ...                 ...        ...    ...  \n",
       "258 2022-04-18 16:25:00 2022-04-18 18:25:00 1952-07-14      F  \n",
       "259 2022-04-27 11:22:00 2022-04-27 11:27:00 1952-07-14      F  \n",
       "260 2021-08-31 17:50:00 2021-08-31 18:51:00 1966-08-11      M  \n",
       "261 2021-04-11 17:17:00 2021-04-11 20:00:00 1951-05-18      M  \n",
       "262 2022-04-15 14:19:00 2022-04-15 17:00:00 1966-10-07      F  \n",
       "\n",
       "[263 rows x 8 columns]"
      ]
     },
     "execution_count": 4,
     "metadata": {},
     "output_type": "execute_result"
    }
   ],
   "source": [
    "transfusion_patient = transfusion.merge(patients, how = 'left', on='PATIENT_NUMBER')\n",
    "transfusion_patient.loc[transfusion_patient.BLOOD_START_TIME == \"Null\", 'BLOOD_END_TIME'] = transfusion_patient.BLOOD_START_TIME\n",
    "transfusion_patient_format = transfusion_patient.rename(columns={\"ADMISSION_NUMBER\": \"hadm_id\", \"Gender\": \"gender\", \"VOLUME\": \"totalamount\", \"BLOOD_START_TIME\": \"starttime\"}, errors=\"raise\")\n",
    "\n",
    "transfusion_patient"
   ]
  },
  {
   "cell_type": "code",
   "execution_count": 5,
   "id": "f0febf1c",
   "metadata": {},
   "outputs": [
    {
     "data": {
      "image/png": "[encoded data removed]",
      "text/plain": [
       "<Figure size 432x288 with 1 Axes>"
      ]
     },
     "metadata": {
      "needs_background": "light"
     },
     "output_type": "display_data"
    }
   ],
   "source": [
    "histplot_bloodtransfusion_volume(transfusion_patient_format,\"EPIC\")"
   ]
  },
  {
   "cell_type": "code",
   "execution_count": 6,
   "id": "50e31472",
   "metadata": {},
   "outputs": [
    {
     "data": {
      "text/html": [
       "<div>\n",
       "<style scoped>\n",
       "    .dataframe tbody tr th:only-of-type {\n",
       "        vertical-align: middle;\n",
       "    }\n",
       "\n",
       "    .dataframe tbody tr th {\n",
       "        vertical-align: top;\n",
       "    }\n",
       "\n",
       "    .dataframe thead th {\n",
       "        text-align: right;\n",
       "    }\n",
       "</style>\n",
       "<table border=\"1\" class=\"dataframe\">\n",
       "  <thead>\n",
       "    <tr style=\"text-align: right;\">\n",
       "      <th></th>\n",
       "      <th>ADMISSION_NUMBER</th>\n",
       "      <th>Gender</th>\n",
       "      <th>counts</th>\n",
       "    </tr>\n",
       "  </thead>\n",
       "  <tbody>\n",
       "    <tr>\n",
       "      <th>0</th>\n",
       "      <td>2</td>\n",
       "      <td>M</td>\n",
       "      <td>5</td>\n",
       "    </tr>\n",
       "    <tr>\n",
       "      <th>1</th>\n",
       "      <td>8</td>\n",
       "      <td>M</td>\n",
       "      <td>2</td>\n",
       "    </tr>\n",
       "    <tr>\n",
       "      <th>2</th>\n",
       "      <td>12</td>\n",
       "      <td>M</td>\n",
       "      <td>1</td>\n",
       "    </tr>\n",
       "    <tr>\n",
       "      <th>3</th>\n",
       "      <td>16</td>\n",
       "      <td>M</td>\n",
       "      <td>3</td>\n",
       "    </tr>\n",
       "    <tr>\n",
       "      <th>4</th>\n",
       "      <td>18</td>\n",
       "      <td>M</td>\n",
       "      <td>1</td>\n",
       "    </tr>\n",
       "    <tr>\n",
       "      <th>...</th>\n",
       "      <td>...</td>\n",
       "      <td>...</td>\n",
       "      <td>...</td>\n",
       "    </tr>\n",
       "    <tr>\n",
       "      <th>72</th>\n",
       "      <td>249</td>\n",
       "      <td>M</td>\n",
       "      <td>1</td>\n",
       "    </tr>\n",
       "    <tr>\n",
       "      <th>73</th>\n",
       "      <td>252</td>\n",
       "      <td>M</td>\n",
       "      <td>1</td>\n",
       "    </tr>\n",
       "    <tr>\n",
       "      <th>74</th>\n",
       "      <td>257</td>\n",
       "      <td>F</td>\n",
       "      <td>2</td>\n",
       "    </tr>\n",
       "    <tr>\n",
       "      <th>75</th>\n",
       "      <td>259</td>\n",
       "      <td>M</td>\n",
       "      <td>1</td>\n",
       "    </tr>\n",
       "    <tr>\n",
       "      <th>76</th>\n",
       "      <td>262</td>\n",
       "      <td>M</td>\n",
       "      <td>2</td>\n",
       "    </tr>\n",
       "  </tbody>\n",
       "</table>\n",
       "<p>77 rows × 3 columns</p>\n",
       "</div>"
      ],
      "text/plain": [
       "    ADMISSION_NUMBER Gender  counts\n",
       "0                  2      M       5\n",
       "1                  8      M       2\n",
       "2                 12      M       1\n",
       "3                 16      M       3\n",
       "4                 18      M       1\n",
       "..               ...    ...     ...\n",
       "72               249      M       1\n",
       "73               252      M       1\n",
       "74               257      F       2\n",
       "75               259      M       1\n",
       "76               262      M       2\n",
       "\n",
       "[77 rows x 3 columns]"
      ]
     },
     "execution_count": 6,
     "metadata": {},
     "output_type": "execute_result"
    }
   ],
   "source": [
    "blood_transfusion_count = transfusion_patient.groupby(['ADMISSION_NUMBER','Gender']).size().reset_index(name='counts')\n",
    "#blood_transfusion_count = blood_transfusion_count.merge(transfusion_patient, how = 'inner', on='ADMISSION_NUMBER')\n",
    "#blood_transfusion_count = blood_transfusion_count.merge(patients, how = 'left', on='PATIENT_NUMBER')\n",
    "#hadm_id\tgender\tcounts\n",
    "blood_transfusion_count_format = blood_transfusion_count.rename(columns={\"ADMISSION_NUMBER\": \"hadm_id\", \"Gender\": \"gender\"})\n",
    "blood_transfusion_count"
   ]
  },
  {
   "cell_type": "code",
   "execution_count": 7,
   "id": "1e3bdf70",
   "metadata": {},
   "outputs": [
    {
     "name": "stderr",
     "output_type": "stream",
     "text": [
      "/usr/local/lib/python3.9/site-packages/seaborn/distributions.py:2557: FutureWarning: `distplot` is a deprecated function and will be removed in a future version. Please adapt your code to use either `displot` (a figure-level function with similar flexibility) or `histplot` (an axes-level function for histograms).\n",
      "  warnings.warn(msg, FutureWarning)\n",
      "/usr/local/lib/python3.9/site-packages/seaborn/distributions.py:2557: FutureWarning: `distplot` is a deprecated function and will be removed in a future version. Please adapt your code to use either `displot` (a figure-level function with similar flexibility) or `histplot` (an axes-level function for histograms).\n",
      "  warnings.warn(msg, FutureWarning)\n"
     ]
    },
    {
     "data": {
      "image/png": "[encoded data removed]",
      "text/plain": [
       "<Figure size 432x288 with 1 Axes>"
      ]
     },
     "metadata": {
      "needs_background": "light"
     },
     "output_type": "display_data"
    },
    {
     "data": {
      "image/png": "[encoded data removed]",
      "text/plain": [
       "<Figure size 432x288 with 1 Axes>"
      ]
     },
     "metadata": {
      "needs_background": "light"
     },
     "output_type": "display_data"
    }
   ],
   "source": [
    "histplot_bloodtransfusion_counts(blood_transfusion_count_format,\"EPIC\")\n",
    "boxplot_bloodtransfusion_counts(blood_transfusion_count_format,\"EPIC\")"
   ]
  },
  {
   "cell_type": "markdown",
   "id": "c57ec8d7",
   "metadata": {},
   "source": [
    "#### Labevent analysis\n",
    "- example as hemoglobin and can be applied to other labevent\n",
    "    - step1: get csv file from sql: just change the line95 in INR(PT) query to any other labevent label name\n",
    "\n",
    "    - step2: run function get_EDA(INR_PT,\"INR_PT\") where INR_PT is the dataframe read from csv file and \"INR_PT\" is labevent label name\n",
    "- measurements that pointed out by clinician collected and shown in the dataframe\n",
    "\n",
    "- correlation between value measurements (scatterplot)\n",
    "    - value diff vs pretransfusion\n",
    "    - value diff vs posttransfusion  \n",
    "- value measurements under different number of blood transfusion (boxplot,distribution(with and without gender feature))\n",
    "    - pretransfusion \n",
    "    - posttransfusion   \n",
    "- value measurements vs time measurements (scatterplot)\n",
    "    - posttransfusion vs time between posttransfusion and first blood transfusion\n",
    "    - pretransfusion vs time between pretransfusion and first blood transfusion\n",
    "    - value diff vs time between posttransfusion and pretransfusion\n",
    "    - value diff vs time between pretransfusion and first blood transfusion\n",
    "- time measurement distribution (distribution, boxplot)\n",
    "    - time between irst blood transfusion and posttransfusion\n",
    "    - time between pretransfusion and first blood transfusion\n",
    "    \n",
    "##### Note additional preprocess for hemoglobin\n",
    "- Hemoglobin measurements from two table labevents and charevents\n",
    "- But 4552 of the 4574 measurements in charevent are duplicates with labevent, which means we only get 22 more records\n",
    "    "
   ]
  },
  {
   "cell_type": "markdown",
   "id": "4b7c2b47",
   "metadata": {},
   "source": [
    "### This PART is inside epic_hemoglobin\n",
    "-----"
   ]
  },
  {
   "cell_type": "markdown",
   "id": "e97d429e",
   "metadata": {},
   "source": [
    "### Additional analysis on value under different number of blood transfusion\n",
    "- number of procedures taken\n",
    "- icu stay time\n",
    "- number of times enter icu\n"
   ]
  },
  {
   "cell_type": "markdown",
   "id": "d527eed0",
   "metadata": {},
   "source": [
    "#### number of procedures taken"
   ]
  },
  {
   "cell_type": "markdown",
   "id": "a6232d89",
   "metadata": {},
   "source": [
    "#### Icu stay time\n"
   ]
  },
  {
   "cell_type": "code",
   "execution_count": null,
   "id": "d85780b5",
   "metadata": {},
   "outputs": [],
   "source": [
    "def boxplot_icu_stay_time(icu_stay_time_blood_counts,name):\n",
    "    \n",
    "    plt.figure(figsize=(7,7))\n",
    "    sns.boxplot(data=icu_stay_time_blood_counts, y=\"icu_stay_time\")\n",
    "    #sns.histplot(data=icu_stay_time_blood_counts, x=\"icu_stay_time\")\n",
    "    plt.title(\"Icu stay time distribution\")\n",
    "    plt.savefig(f'Additional_CABG_plots/{name}_boxtplot_icu_stay_time.png')\n",
    "    plt.show()"
   ]
  },
  {
   "cell_type": "code",
   "execution_count": null,
   "id": "64bb4e2c",
   "metadata": {},
   "outputs": [],
   "source": [
    "def boxplots_icu_stay_time_bloodtransfusion(icu_stay_time_blood_counts,name):\n",
    "    \n",
    "    plt.figure(figsize=(7,7))\n",
    "    sns.boxplot(data=icu_stay_time_blood_counts, x=\"counts\", y=\"icu_stay_time\")\n",
    "    plt.title(\"Boxplot for icu stay time under different number of blood transfusion\")\n",
    "    plt.savefig(f'Additional_CABG_plots/{name}_boxplot_icu_stay_time_bloodtransfusion.png')\n",
    "    plt.show()"
   ]
  },
  {
   "cell_type": "code",
   "execution_count": null,
   "id": "8586cd2a",
   "metadata": {},
   "outputs": [],
   "source": [
    "def boxplots_enter_icu__time_bloodtransfusion(enter_icu_timesblood_counts,name):\n",
    "    plt.figure(figsize=(7,7))\n",
    "    sns.boxplot(data=enter_icu_timesblood_counts, x=\"number_of_enter_icu\", y=\"counts\")\n",
    "    plt.title(\"Boxplot for number of blood transfusion under different times of entering icu\")\n",
    "    plt.savefig(f'Additional_CABG_plots/{name}_boxplot_enter_icu_times_bloodtransfusion.png')\n",
    "    plt.show()"
   ]
  },
  {
   "cell_type": "code",
   "execution_count": null,
   "id": "2d5b54b5",
   "metadata": {},
   "outputs": [],
   "source": [
    "#icu_stays_patient\n",
    "icu_stays_noicunumber=icu_stays.drop(columns=['ICU_STAY_NUMBER'])\n",
    "# there is some duplicate rows \n",
    "icu_stays_noicunumber = icu_stays_noicunumber.drop_duplicates()\n",
    "icu_stays_noicunumber"
   ]
  },
  {
   "cell_type": "code",
   "execution_count": null,
   "id": "39656525",
   "metadata": {},
   "outputs": [],
   "source": [
    "icu_stays_patient = icu_stays_noicunumber.merge(patients, how = 'left', on='PATIENT_NUMBER')\n",
    "icu_stays_patient['ICU_START_TIME'] = pd.to_datetime(icu_stays_patient['ICU_START_TIME'])\n",
    "icu_stays_patient['ICU_END_TIME'] = pd.to_datetime(icu_stays_patient['ICU_END_TIME'])\n",
    "icu_stays_patient['icu_stay_time'] = (icu_stays_patient['ICU_END_TIME'] - icu_stays_patient['ICU_START_TIME']).dt.seconds/3600\n",
    "icu_total_stay_format = icu_stays_patient.rename(columns={\"ADMISSION_NUMBER\": \"hadm_id\", \"Gender\": \"gender\"})\n",
    "icu_total_stay_format"
   ]
  },
  {
   "cell_type": "code",
   "execution_count": null,
   "id": "70efb651",
   "metadata": {},
   "outputs": [],
   "source": [
    "boxplot_icu_stay_time(icu_total_stay_format,\"EPIC\")"
   ]
  },
  {
   "cell_type": "code",
   "execution_count": null,
   "id": "f478c05c",
   "metadata": {},
   "outputs": [],
   "source": [
    "icu_stays_patient_bloodtransfusion = icu_stays_patient.merge(blood_transfusion_count, how = 'inner', on=['ADMISSION_NUMBER','Gender'])\n",
    "icu_stays_patient_bloodtransfusionformat = icu_stays_patient_bloodtransfusion.rename(columns={\"ADMISSION_NUMBER\": \"hadm_id\", \"Gender\": \"gender\"})\n",
    "icu_stays_patient_bloodtransfusion"
   ]
  },
  {
   "cell_type": "code",
   "execution_count": null,
   "id": "74e6d81e",
   "metadata": {},
   "outputs": [],
   "source": [
    "boxplots_icu_stay_time_bloodtransfusion(icu_stays_patient_bloodtransfusion,\"EPIC\")"
   ]
  },
  {
   "cell_type": "code",
   "execution_count": null,
   "id": "03ff3a18",
   "metadata": {},
   "outputs": [],
   "source": [
    "icu_stays_times = icu_stays_patient.groupby(['ADMISSION_NUMBER','Gender']).size().reset_index(name='number_of_enter_icu')\n",
    "icu_stays_times"
   ]
  },
  {
   "cell_type": "code",
   "execution_count": null,
   "id": "4b8bd0f3",
   "metadata": {},
   "outputs": [],
   "source": [
    "icu_stays_times = icu_stays_times.merge(blood_transfusion_count, how = 'inner', on='ADMISSION_NUMBER')\n",
    "icu_stays_timesformat = icu_stays_times.rename(columns={\"ADMISSION_NUMBER\": \"hadm_id\", \"Gender\": \"gender\"})\n",
    "icu_stays_times"
   ]
  },
  {
   "cell_type": "code",
   "execution_count": null,
   "id": "b8bcb90e",
   "metadata": {},
   "outputs": [],
   "source": [
    "boxplots_enter_icu__time_bloodtransfusion(icu_stays_timesformat,\"EPIC\")"
   ]
  },
  {
   "cell_type": "code",
   "execution_count": null,
   "id": "a640adbe",
   "metadata": {},
   "outputs": [],
   "source": [
    "icu_total_stay=icu_stays_patient.groupby(['ADMISSION_NUMBER','Gender'])['icu_stay_time'].agg(icu_stay_time='sum')\n",
    "#icu_total_stay = icu_total_stay.merge(icu_stays_patient, how = 'left', on='ADMISSION_NUMBER')\n",
    "#icu_total_stay = icu_total_stay.merge(blood_transfusion_count, how = 'left', on='ADMISSION_NUMBER')\n",
    "icu_total_stay = icu_total_stay.merge(blood_transfusion_count, how = 'inner', on='ADMISSION_NUMBER')\n",
    "\n",
    "icu_total_stay_format = icu_total_stay.rename(columns={\"ADMISSION_NUMBER\": \"hadm_id\", \"Gender\": \"gender\"})\n",
    "#hadm_id\ticu_stay_time\tgender\tcounts\n",
    "icu_total_stay"
   ]
  },
  {
   "cell_type": "code",
   "execution_count": null,
   "id": "3bf37a89",
   "metadata": {},
   "outputs": [],
   "source": [
    "bypass_surgeries\n",
    "bypass_surgeries_patient = bypass_surgeries.merge(patients, how = 'left', on='PATIENT_NUMBER')\n",
    "bypass_surgeries_patient"
   ]
  },
  {
   "cell_type": "code",
   "execution_count": null,
   "id": "4ffd17dd",
   "metadata": {},
   "outputs": [],
   "source": [
    "bypass_surgeries_patient = bypass_surgeries_patient.groupby(['ADMISSION_NUMBER','Gender']).size().reset_index(name='procedure_counts')\n",
    "bypass_surgeries_patient"
   ]
  },
  {
   "cell_type": "code",
   "execution_count": null,
   "id": "ee56f6fa",
   "metadata": {},
   "outputs": [],
   "source": [
    "sns.boxplot(data=bypass_surgeries_patient, y=\"procedure_counts\")\n",
    "\n",
    "#plt.title('For drugs, proportion of patientunder three groups')"
   ]
  }
 ],
 "metadata": {
  "kernelspec": {
   "display_name": "Python 3 (ipykernel)",
   "language": "python",
   "name": "python3"
  },
  "language_info": {
   "codemirror_mode": {
    "name": "ipython",
    "version": 3
   },
   "file_extension": ".py",
   "mimetype": "text/x-python",
   "name": "python",
   "nbconvert_exporter": "python",
   "pygments_lexer": "ipython3",
   "version": "3.9.13"
  }
 },
 "nbformat": 4,
 "nbformat_minor": 5
}
