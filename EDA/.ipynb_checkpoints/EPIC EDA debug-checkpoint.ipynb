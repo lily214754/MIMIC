{
 "cells": [
  {
   "cell_type": "code",
   "execution_count": 1,
   "id": "4e7d8a33",
   "metadata": {},
   "outputs": [],
   "source": [
    "import pandas as pd\n",
    "import numpy as np\n",
    "from matplotlib import pyplot as plt\n",
    "import seaborn as sns\n",
    "import datetime"
   ]
  },
  {
   "cell_type": "code",
   "execution_count": 76,
   "id": "06998f1a",
   "metadata": {},
   "outputs": [],
   "source": [
    "df_patients = pd.read_excel('Export 2022-10-22.xlsx', sheet_name=0)\n",
    "df_admissions = pd.read_excel('Export 2022-10-22.xlsx', sheet_name=1)\n",
    "df_icu_stays = pd.read_excel('Export 2022-10-22.xlsx', sheet_name=2)\n",
    "df_bypass_surgeries = pd.read_excel('Export 2022-10-22.xlsx', sheet_name=3)\n",
    "df_haemoglobins = pd.read_excel('Export 2022-10-22.xlsx', sheet_name=4)\n",
    "df_transfusions = pd.read_excel('Export 2022-10-22.xlsx', sheet_name=5)"
   ]
  },
  {
   "cell_type": "code",
   "execution_count": 77,
   "id": "f0385208",
   "metadata": {},
   "outputs": [],
   "source": [
    "# change metrics from g/l into g/dl\n",
    "df_haemoglobins['REFERENCE_LOW'] = df_haemoglobins['REFERENCE_LOW']/10\n",
    "df_haemoglobins['REFERENCE_HIGH'] = df_haemoglobins['REFERENCE_HIGH']/10\n",
    "df_haemoglobins['RESULT'] = df_haemoglobins['RESULT']/10"
   ]
  },
  {
   "cell_type": "code",
   "execution_count": 78,
   "id": "162a9a57",
   "metadata": {},
   "outputs": [
    {
     "name": "stdout",
     "output_type": "stream",
     "text": [
      "265 265\n",
      "268 265\n"
     ]
    }
   ],
   "source": [
    "df_transfusions = df_transfusions.dropna()\n",
    "\n",
    "print(df_admissions[\"PATIENT_NUMBER\"].nunique(),df_admissions[\"ADMISSION_NUMBER\"].nunique())\n",
    "print(len(df_bypass_surgeries[\"SURGERY_NUMBER\"]),df_admissions[\"PATIENT_NUMBER\"].nunique())"
   ]
  },
  {
   "cell_type": "code",
   "execution_count": 79,
   "id": "ecb75b8d",
   "metadata": {},
   "outputs": [],
   "source": [
    "df_transfusions = pd.merge(df_transfusions,df_patients[[\"PATIENT_NUMBER\",\"Gender\"]], on=[\"PATIENT_NUMBER\"],how = \"inner\")"
   ]
  },
  {
   "cell_type": "markdown",
   "id": "b20daaaf",
   "metadata": {},
   "source": [
    "There seems to be 3 admission numbers that has given to more than one patient, i don't know if this is intended.\n",
    "\n",
    "There seems to be surgery numbers which appoints to multiple patient with the same admission number, i don't know if this is intended"
   ]
  },
  {
   "cell_type": "code",
   "execution_count": 80,
   "id": "0dfab332",
   "metadata": {},
   "outputs": [],
   "source": [
    "# the increase to additiona rows is caused by patient having multiple surgeries but it's ok\n",
    "df_transfusions_merged= pd.merge(df_transfusions,df_bypass_surgeries[[\"PATIENT_NUMBER\",\"ADMISSION_NUMBER\",\"FINISH_TIME\"]], on=[\"PATIENT_NUMBER\",\"ADMISSION_NUMBER\"],how = \"inner\")"
   ]
  },
  {
   "cell_type": "code",
   "execution_count": 81,
   "id": "870a818c",
   "metadata": {},
   "outputs": [
    {
     "data": {
      "text/plain": [
       "65"
      ]
     },
     "execution_count": 81,
     "metadata": {},
     "output_type": "execute_result"
    }
   ],
   "source": [
    "## eliminate transfusion that's been done before the CABGsurgery is commenced\n",
    "df_transfusions_merged = df_transfusions_merged.loc[df_transfusions_merged[\"BLOOD_START_TIME\"] > df_transfusions_merged[\"FINISH_TIME\"]]\n",
    "## the update list shows that there are 67 patients that has underwent blood transfusion after surgery\n",
    "df_transfusions_merged[\"PATIENT_NUMBER\"].nunique()"
   ]
  },
  {
   "cell_type": "code",
   "execution_count": 82,
   "id": "a807d508",
   "metadata": {},
   "outputs": [],
   "source": [
    "## Q1, keep the earliest blood transfusion time for each patient, and search for the most recent hb test\n",
    "first_transfusion = df_transfusions_merged.groupby([\"PATIENT_NUMBER\"])[[\"BLOOD_START_TIME\",\"VOLUME\",\"Gender\"]].agg(\"min\")\n",
    "first_transfusion = pd.DataFrame(first_transfusion)\n"
   ]
  },
  {
   "cell_type": "code",
   "execution_count": 83,
   "id": "ca6405cc",
   "metadata": {},
   "outputs": [
    {
     "data": {
      "text/html": [
       "<div>\n",
       "<style scoped>\n",
       "    .dataframe tbody tr th:only-of-type {\n",
       "        vertical-align: middle;\n",
       "    }\n",
       "\n",
       "    .dataframe tbody tr th {\n",
       "        vertical-align: top;\n",
       "    }\n",
       "\n",
       "    .dataframe thead th {\n",
       "        text-align: right;\n",
       "    }\n",
       "</style>\n",
       "<table border=\"1\" class=\"dataframe\">\n",
       "  <thead>\n",
       "    <tr style=\"text-align: right;\">\n",
       "      <th></th>\n",
       "      <th>BLOOD_START_TIME</th>\n",
       "      <th>VOLUME</th>\n",
       "      <th>Gender</th>\n",
       "    </tr>\n",
       "    <tr>\n",
       "      <th>PATIENT_NUMBER</th>\n",
       "      <th></th>\n",
       "      <th></th>\n",
       "      <th></th>\n",
       "    </tr>\n",
       "  </thead>\n",
       "  <tbody>\n",
       "    <tr>\n",
       "      <th>6</th>\n",
       "      <td>2021-09-25 10:06:00</td>\n",
       "      <td>258.00</td>\n",
       "      <td>F</td>\n",
       "    </tr>\n",
       "    <tr>\n",
       "      <th>16</th>\n",
       "      <td>2022-04-10 17:59:00</td>\n",
       "      <td>271.97</td>\n",
       "      <td>M</td>\n",
       "    </tr>\n",
       "    <tr>\n",
       "      <th>17</th>\n",
       "      <td>2021-12-14 19:02:00</td>\n",
       "      <td>255.00</td>\n",
       "      <td>M</td>\n",
       "    </tr>\n",
       "    <tr>\n",
       "      <th>18</th>\n",
       "      <td>2022-04-05 17:50:00</td>\n",
       "      <td>250.00</td>\n",
       "      <td>M</td>\n",
       "    </tr>\n",
       "    <tr>\n",
       "      <th>23</th>\n",
       "      <td>2021-06-02 10:17:00</td>\n",
       "      <td>244.00</td>\n",
       "      <td>M</td>\n",
       "    </tr>\n",
       "    <tr>\n",
       "      <th>...</th>\n",
       "      <td>...</td>\n",
       "      <td>...</td>\n",
       "      <td>...</td>\n",
       "    </tr>\n",
       "    <tr>\n",
       "      <th>253</th>\n",
       "      <td>2021-09-01 10:20:00</td>\n",
       "      <td>261.00</td>\n",
       "      <td>M</td>\n",
       "    </tr>\n",
       "    <tr>\n",
       "      <th>255</th>\n",
       "      <td>2022-03-30 01:25:00</td>\n",
       "      <td>332.00</td>\n",
       "      <td>M</td>\n",
       "    </tr>\n",
       "    <tr>\n",
       "      <th>258</th>\n",
       "      <td>2021-11-29 12:26:00</td>\n",
       "      <td>247.00</td>\n",
       "      <td>M</td>\n",
       "    </tr>\n",
       "    <tr>\n",
       "      <th>263</th>\n",
       "      <td>2021-07-31 10:46:00</td>\n",
       "      <td>338.67</td>\n",
       "      <td>M</td>\n",
       "    </tr>\n",
       "    <tr>\n",
       "      <th>264</th>\n",
       "      <td>2021-10-19 17:31:00</td>\n",
       "      <td>240.00</td>\n",
       "      <td>M</td>\n",
       "    </tr>\n",
       "  </tbody>\n",
       "</table>\n",
       "<p>65 rows × 3 columns</p>\n",
       "</div>"
      ],
      "text/plain": [
       "                  BLOOD_START_TIME  VOLUME Gender\n",
       "PATIENT_NUMBER                                   \n",
       "6              2021-09-25 10:06:00  258.00      F\n",
       "16             2022-04-10 17:59:00  271.97      M\n",
       "17             2021-12-14 19:02:00  255.00      M\n",
       "18             2022-04-05 17:50:00  250.00      M\n",
       "23             2021-06-02 10:17:00  244.00      M\n",
       "...                            ...     ...    ...\n",
       "253            2021-09-01 10:20:00  261.00      M\n",
       "255            2022-03-30 01:25:00  332.00      M\n",
       "258            2021-11-29 12:26:00  247.00      M\n",
       "263            2021-07-31 10:46:00  338.67      M\n",
       "264            2021-10-19 17:31:00  240.00      M\n",
       "\n",
       "[65 rows x 3 columns]"
      ]
     },
     "execution_count": 83,
     "metadata": {},
     "output_type": "execute_result"
    }
   ],
   "source": [
    "first_transfusion"
   ]
  },
  {
   "cell_type": "code",
   "execution_count": 84,
   "id": "2816284b",
   "metadata": {},
   "outputs": [],
   "source": [
    "# the product of 2 timedate transforms the data into timedelta\n",
    "## the hb value is the patient most recent hb value before the first blood transfusion\n",
    "hb_value = []\n",
    "for row_index, row in first_transfusion.iterrows():\n",
    "    temp_df = df_haemoglobins.loc[df_haemoglobins[\"PATIENT_NUMBER\"] == row_index] \n",
    "    ## find hb test that happened before the first blood transfusion\n",
    "    temp_df = temp_df.loc[(row[\"BLOOD_START_TIME\"]-temp_df[\"RESULT_TIME\"]).dt.total_seconds() > 0]\n",
    "    \n",
    "    ## pick the most recent or the largest time \n",
    "    hb_value.append(float(temp_df.loc[temp_df[\"RESULT_TIME\"] == temp_df[\"RESULT_TIME\"].max()][\"RESULT\"]))"
   ]
  },
  {
   "cell_type": "code",
   "execution_count": null,
   "id": "c1c16b3e",
   "metadata": {},
   "outputs": [],
   "source": []
  },
  {
   "cell_type": "code",
   "execution_count": 85,
   "id": "db7661ba",
   "metadata": {},
   "outputs": [
    {
     "data": {
      "image/png": "[encoded data removed]",
      "text/plain": [
       "<Figure size 432x288 with 1 Axes>"
      ]
     },
     "metadata": {
      "needs_background": "light"
     },
     "output_type": "display_data"
    }
   ],
   "source": [
    "## plot for Q1\n",
    "sns.histplot(hb_value,stat=\"density\") \n",
    "plt.title('last measured hb value before first blood transfusion')\n",
    "plt.xlabel(\"hemoglobin value in g/dl\")\n",
    "plt.ylabel('Density')\n",
    "plt.show()"
   ]
  },
  {
   "cell_type": "code",
   "execution_count": 86,
   "id": "bdbf4a94",
   "metadata": {},
   "outputs": [
    {
     "name": "stdout",
     "output_type": "stream",
     "text": [
      "7.424615384615384 0.7270659200313311\n"
     ]
    }
   ],
   "source": [
    "## mean/std for the hb value of q1\n",
    "\n",
    "print(np.mean(hb_value),np.std(hb_value))"
   ]
  },
  {
   "cell_type": "code",
   "execution_count": 87,
   "id": "a7e7ec7e",
   "metadata": {},
   "outputs": [
    {
     "data": {
      "text/plain": [
       "<AxesSubplot:xlabel='VOLUME', ylabel='Density'>"
      ]
     },
     "execution_count": 87,
     "metadata": {},
     "output_type": "execute_result"
    },
    {
     "data": {
      "image/png": "[encoded data removed]",
      "text/plain": [
       "<Figure size 432x288 with 1 Axes>"
      ]
     },
     "metadata": {
      "needs_background": "light"
     },
     "output_type": "display_data"
    }
   ],
   "source": [
    "##q2\n",
    "sns.histplot(first_transfusion[\"VOLUME\"],stat=\"density\")"
   ]
  },
  {
   "cell_type": "code",
   "execution_count": 88,
   "id": "d58ec1c6",
   "metadata": {},
   "outputs": [
    {
     "data": {
      "text/plain": [
       "291.0306153846154"
      ]
     },
     "execution_count": 88,
     "metadata": {},
     "output_type": "execute_result"
    }
   ],
   "source": [
    "## mean/std of total_volume\n",
    "np.mean(first_transfusion[\"VOLUME\"])"
   ]
  },
  {
   "cell_type": "code",
   "execution_count": 89,
   "id": "8ec6c16b",
   "metadata": {},
   "outputs": [
    {
     "data": {
      "text/plain": [
       "<AxesSubplot:xlabel='VOLUME', ylabel='Density'>"
      ]
     },
     "execution_count": 89,
     "metadata": {},
     "output_type": "execute_result"
    },
    {
     "data": {
      "image/png": "[encoded data removed]",
      "text/plain": [
       "<Figure size 432x288 with 1 Axes>"
      ]
     },
     "metadata": {
      "needs_background": "light"
     },
     "output_type": "display_data"
    }
   ],
   "source": [
    "##q2 with gender\n",
    "sns.histplot(first_transfusion,x = \"VOLUME\",stat=\"density\",hue = \"Gender\",element=\"step\",common_norm=False)"
   ]
  },
  {
   "cell_type": "code",
   "execution_count": 90,
   "id": "6010f9b2",
   "metadata": {},
   "outputs": [
    {
     "name": "stdout",
     "output_type": "stream",
     "text": [
      "287.01705882352945\n",
      "130.2972243590139\n",
      "305.65142857142854\n",
      "104.16065996177956\n"
     ]
    }
   ],
   "source": [
    "\n",
    "print(np.mean(first_transfusion.loc[first_transfusion[\"Gender\"] == \"M\"][\"VOLUME\"]))\n",
    "print(np.std(first_transfusion.loc[first_transfusion[\"Gender\"] == \"M\"][\"VOLUME\"]))\n",
    "print(np.mean(first_transfusion.loc[first_transfusion[\"Gender\"] == \"F\"][\"VOLUME\"]))\n",
    "print(np.std(first_transfusion.loc[first_transfusion[\"Gender\"] == \"F\"][\"VOLUME\"]))"
   ]
  },
  {
   "cell_type": "code",
   "execution_count": 91,
   "id": "2f18b590",
   "metadata": {},
   "outputs": [],
   "source": [
    "difference = []\n",
    "pretrans_value = []\n",
    "for row_index, row in df_transfusions_merged.iterrows():\n",
    "    temp_df = df_haemoglobins.loc[df_haemoglobins[\"PATIENT_NUMBER\"] == row[\"PATIENT_NUMBER\"]] \n",
    "    temp_df_pretrans = temp_df.loc[(row[\"BLOOD_START_TIME\"]-temp_df[\"RESULT_TIME\"]).dt.total_seconds() > 0]\n",
    "    \n",
    "    pretrans = float(temp_df_pretrans.loc[temp_df_pretrans[\"RESULT_TIME\"] == temp_df_pretrans[\"RESULT_TIME\"].max()][\"RESULT\"])\n",
    "    pretrans_value.append(pretrans) \n",
    "    temp_df_postrans = temp_df.loc[(row[\"BLOOD_START_TIME\"]-temp_df[\"RESULT_TIME\"]).dt.total_seconds() < 0]\n",
    "    postrans = float(temp_df_postrans.loc[temp_df_postrans[\"RESULT_TIME\"] == temp_df_postrans[\"RESULT_TIME\"].min()][\"RESULT\"])\n",
    "    difference.append(round(postrans- pretrans,4))\n"
   ]
  },
  {
   "cell_type": "code",
   "execution_count": 92,
   "id": "536d0e46",
   "metadata": {},
   "outputs": [],
   "source": [
    "df_transfusions_merged[\"hb_diff\"] = difference\n",
    "df_transfusions_merged[\"pre_trans_hb\"] = pretrans_value"
   ]
  },
  {
   "cell_type": "code",
   "execution_count": null,
   "id": "aed24ac1",
   "metadata": {},
   "outputs": [],
   "source": [
    "\n"
   ]
  },
  {
   "cell_type": "code",
   "execution_count": 93,
   "id": "3b012ffb",
   "metadata": {
    "scrolled": true
   },
   "outputs": [
    {
     "data": {
      "image/png": "[encoded data removed]",
      "text/plain": [
       "<Figure size 432x288 with 1 Axes>"
      ]
     },
     "metadata": {
      "needs_background": "light"
     },
     "output_type": "display_data"
    }
   ],
   "source": [
    "#q3 plot\n",
    "sns.histplot(df_transfusions_merged,x = \"pre_trans_hb\",stat=\"density\",hue = \"Gender\",element=\"step\",common_norm=False)\n",
    "plt.title('last measured hb value before any blood transfusion')\n",
    "plt.xlabel(\"hemoglobin value\")\n",
    "plt.ylabel('Density')\n",
    "plt.show()"
   ]
  },
  {
   "cell_type": "code",
   "execution_count": 94,
   "id": "cde96e9a",
   "metadata": {},
   "outputs": [
    {
     "name": "stdout",
     "output_type": "stream",
     "text": [
      "7.607482993197274\n",
      "0.9017811879470865\n",
      "7.553333333333334\n",
      "0.9708186694171517\n"
     ]
    }
   ],
   "source": [
    "# q3 mean/std based on gender\n",
    "print(np.mean(df_transfusions_merged.loc[df_transfusions_merged[\"Gender\"] == \"M\"][\"pre_trans_hb\"]))\n",
    "print(np.std(df_transfusions_merged.loc[df_transfusions_merged[\"Gender\"] == \"M\"][\"pre_trans_hb\"]))\n",
    "print(np.mean(df_transfusions_merged.loc[df_transfusions_merged[\"Gender\"] == \"F\"][\"pre_trans_hb\"]))\n",
    "print(np.std(df_transfusions_merged.loc[df_transfusions_merged[\"Gender\"] == \"F\"][\"pre_trans_hb\"]))"
   ]
  },
  {
   "cell_type": "code",
   "execution_count": null,
   "id": "f84021a4",
   "metadata": {},
   "outputs": [],
   "source": []
  },
  {
   "cell_type": "code",
   "execution_count": 95,
   "id": "0193bef1",
   "metadata": {},
   "outputs": [
    {
     "data": {
      "image/png": "[encoded data removed]",
      "text/plain": [
       "<Figure size 432x288 with 1 Axes>"
      ]
     },
     "metadata": {
      "needs_background": "light"
     },
     "output_type": "display_data"
    }
   ],
   "source": [
    "#plot of question 4\n",
    "sns.histplot(df_transfusions_merged, x = \"hb_diff\",stat=\"density\") \n",
    "plt.title('hb value difference between pre transfusion and post transfusion/dl')\n",
    "plt.xlabel(\"hemoglobin value\")\n",
    "plt.ylabel('Density')\n",
    "plt.show()"
   ]
  },
  {
   "cell_type": "code",
   "execution_count": 96,
   "id": "e9adfebc",
   "metadata": {},
   "outputs": [
    {
     "name": "stdout",
     "output_type": "stream",
     "text": [
      "0.8104166666666665\n",
      "1.1279571474080432\n"
     ]
    }
   ],
   "source": [
    "print(np.mean(df_transfusions_merged[\"hb_diff\"]))\n",
    "print(np.std(df_transfusions_merged[\"hb_diff\"]))"
   ]
  },
  {
   "cell_type": "code",
   "execution_count": 97,
   "id": "a21ff917",
   "metadata": {},
   "outputs": [],
   "source": [
    "df_transfusions_merged= df_transfusions_merged.sort_values(by=['Gender'] ,ascending = False)"
   ]
  },
  {
   "cell_type": "code",
   "execution_count": 98,
   "id": "9a579983",
   "metadata": {},
   "outputs": [
    {
     "data": {
      "image/png": "[encoded data removed]",
      "text/plain": [
       "<Figure size 432x288 with 1 Axes>"
      ]
     },
     "metadata": {
      "needs_background": "light"
     },
     "output_type": "display_data"
    }
   ],
   "source": [
    "#plot for questions 5\n",
    "## it seems to indicate that there are female patient that suffers from severer blood loss which require multiple blood transfusion\n",
    "## there are 45 instances of female blood transfusion, and patient number holds the majority of the numbers of 25, this essentially\n",
    "## makes the female density seems to have a high anoumaly because the hypothesis should be that female will have a positive increase\n",
    "## in the diffrence between pre transfusion and post\n",
    "sns.histplot(df_transfusions_merged,x = \"hb_diff\",stat=\"density\",hue = \"Gender\",element=\"step\",common_norm=False)\n",
    "plt.title('hb value difference between pre transfusion and post transfusion/dl')\n",
    "plt.xlabel(\"hemoglobin value\")\n",
    "plt.ylabel('Density')\n",
    "plt.show()"
   ]
  },
  {
   "cell_type": "code",
   "execution_count": 99,
   "id": "40425404",
   "metadata": {},
   "outputs": [
    {
     "name": "stdout",
     "output_type": "stream",
     "text": [
      "0.8204081632653059\n",
      "1.0605439995112638\n",
      "0.7777777777777778\n",
      "1.3239484529893295\n"
     ]
    }
   ],
   "source": [
    "print(np.mean(df_transfusions_merged.loc[df_transfusions_merged[\"Gender\"] == \"M\"][\"hb_diff\"]))\n",
    "print(np.std(df_transfusions_merged.loc[df_transfusions_merged[\"Gender\"] == \"M\"][\"hb_diff\"]))\n",
    "print(np.mean(df_transfusions_merged.loc[df_transfusions_merged[\"Gender\"] == \"F\"][\"hb_diff\"]))\n",
    "print(np.std(df_transfusions_merged.loc[df_transfusions_merged[\"Gender\"] == \"F\"][\"hb_diff\"]))"
   ]
  },
  {
   "cell_type": "code",
   "execution_count": 100,
   "id": "9df219fb",
   "metadata": {},
   "outputs": [],
   "source": [
    "# plot for self investigated EDA \n",
    "# number of hb measure in the first 24 hours of ICU\n",
    "# correaltion between hb difference in pre transfusion value\n",
    "\n"
   ]
  },
  {
   "cell_type": "code",
   "execution_count": 101,
   "id": "03f80e0b",
   "metadata": {},
   "outputs": [],
   "source": [
    "# time diffrence between pre transfusion and blood transfusion \n",
    "time = []\n",
    "\n",
    "for row_index, row in df_transfusions_merged.iterrows():\n",
    "    temp_df = df_haemoglobins.loc[df_haemoglobins[\"PATIENT_NUMBER\"] == row[\"PATIENT_NUMBER\"]] \n",
    "    temp_df_pretrans = temp_df.loc[(row[\"BLOOD_START_TIME\"]-temp_df[\"RESULT_TIME\"]).dt.total_seconds() > 0]\n",
    "    pretrans = temp_df_pretrans.loc[temp_df_pretrans[\"RESULT_TIME\"] == temp_df_pretrans[\"RESULT_TIME\"].max()][\"RESULT_TIME\"]\n",
    "    pretrans = round(float((row[\"BLOOD_START_TIME\"] -pretrans).dt.total_seconds()/60),2)\n",
    "    time.append(pretrans)\n",
    "df_transfusions_merged[\"time\"] = time"
   ]
  },
  {
   "cell_type": "code",
   "execution_count": 102,
   "id": "6edb26d4",
   "metadata": {},
   "outputs": [],
   "source": [
    "first_transfusion = df_transfusions_merged.groupby([\"PATIENT_NUMBER\"])[[\"BLOOD_START_TIME\",\"VOLUME\",\"Gender\",\"time\"]].agg(\"min\")"
   ]
  },
  {
   "cell_type": "code",
   "execution_count": 103,
   "id": "5b962886",
   "metadata": {},
   "outputs": [
    {
     "data": {
      "image/png": "[encoded data removed]",
      "text/plain": [
       "<Figure size 432x288 with 1 Axes>"
      ]
     },
     "metadata": {
      "needs_background": "light"
     },
     "output_type": "display_data"
    }
   ],
   "source": [
    "sns.histplot(first_transfusion,x = \"time\")\n",
    "plt.title('Time interval between first-blood transfusion and the latest hb test')\n",
    "plt.xlabel(\"Time in minutes\")\n",
    "plt.ylabel('Density')\n",
    "plt.show()"
   ]
  },
  {
   "cell_type": "code",
   "execution_count": 104,
   "id": "1f4ecaf6",
   "metadata": {},
   "outputs": [
    {
     "data": {
      "image/png": "[encoded data removed]",
      "text/plain": [
       "<Figure size 432x288 with 1 Axes>"
      ]
     },
     "metadata": {
      "needs_background": "light"
     },
     "output_type": "display_data"
    }
   ],
   "source": [
    "## correaltion between hb difference in pre transfusion hb value\n",
    "sns.scatterplot(data = df_transfusions_merged, y = \"hb_diff\", x='pre_trans_hb',hue=\"Gender\")\n",
    "plt.title('correaltion between hb difference in pre transfusion hb value g/dl')\n",
    "plt.xlabel(\"hemoglobin value in g/dl\")\n",
    "plt.ylabel('Difference')\n",
    "plt.show()"
   ]
  },
  {
   "cell_type": "code",
   "execution_count": 122,
   "id": "a56ab37b",
   "metadata": {},
   "outputs": [],
   "source": [
    "## number of hb measure in the first 24 hours of ICU\n",
    "## duplicate rows with same patient_num+admission num but different ICU_stay num\n",
    "df_icu = df_icu_stays\n",
    "df_icu = pd.merge(df_icu,df_patients[[\"PATIENT_NUMBER\",\"Gender\"]], on=[\"PATIENT_NUMBER\"],how = \"inner\")\n"
   ]
  },
  {
   "cell_type": "code",
   "execution_count": 138,
   "id": "1673638a",
   "metadata": {},
   "outputs": [
    {
     "data": {
      "text/html": [
       "<div>\n",
       "<style scoped>\n",
       "    .dataframe tbody tr th:only-of-type {\n",
       "        vertical-align: middle;\n",
       "    }\n",
       "\n",
       "    .dataframe tbody tr th {\n",
       "        vertical-align: top;\n",
       "    }\n",
       "\n",
       "    .dataframe thead th {\n",
       "        text-align: right;\n",
       "    }\n",
       "</style>\n",
       "<table border=\"1\" class=\"dataframe\">\n",
       "  <thead>\n",
       "    <tr style=\"text-align: right;\">\n",
       "      <th></th>\n",
       "      <th>ICU_STAY_NUMBER</th>\n",
       "      <th>PATIENT_NUMBER</th>\n",
       "      <th>ADMISSION_NUMBER</th>\n",
       "      <th>ICU_START_TIME</th>\n",
       "      <th>ICU_END_TIME</th>\n",
       "      <th>Gender</th>\n",
       "      <th>hb_measure</th>\n",
       "    </tr>\n",
       "  </thead>\n",
       "  <tbody>\n",
       "    <tr>\n",
       "      <th>0</th>\n",
       "      <td>1</td>\n",
       "      <td>87</td>\n",
       "      <td>115</td>\n",
       "      <td>2021-08-05 17:49:00</td>\n",
       "      <td>2021-08-06 12:22:00</td>\n",
       "      <td>M</td>\n",
       "      <td>21</td>\n",
       "    </tr>\n",
       "    <tr>\n",
       "      <th>1</th>\n",
       "      <td>2</td>\n",
       "      <td>192</td>\n",
       "      <td>245</td>\n",
       "      <td>2021-08-23 13:50:00</td>\n",
       "      <td>2021-08-25 16:49:00</td>\n",
       "      <td>M</td>\n",
       "      <td>20</td>\n",
       "    </tr>\n",
       "    <tr>\n",
       "      <th>2</th>\n",
       "      <td>3</td>\n",
       "      <td>224</td>\n",
       "      <td>170</td>\n",
       "      <td>2021-11-17 17:31:00</td>\n",
       "      <td>2021-11-18 15:57:00</td>\n",
       "      <td>M</td>\n",
       "      <td>19</td>\n",
       "    </tr>\n",
       "    <tr>\n",
       "      <th>3</th>\n",
       "      <td>4</td>\n",
       "      <td>88</td>\n",
       "      <td>31</td>\n",
       "      <td>2022-02-14 12:58:00</td>\n",
       "      <td>2022-02-15 13:13:00</td>\n",
       "      <td>M</td>\n",
       "      <td>27</td>\n",
       "    </tr>\n",
       "    <tr>\n",
       "      <th>4</th>\n",
       "      <td>5</td>\n",
       "      <td>223</td>\n",
       "      <td>160</td>\n",
       "      <td>2021-12-03 12:55:00</td>\n",
       "      <td>2021-12-04 15:53:00</td>\n",
       "      <td>M</td>\n",
       "      <td>14</td>\n",
       "    </tr>\n",
       "    <tr>\n",
       "      <th>...</th>\n",
       "      <td>...</td>\n",
       "      <td>...</td>\n",
       "      <td>...</td>\n",
       "      <td>...</td>\n",
       "      <td>...</td>\n",
       "      <td>...</td>\n",
       "      <td>...</td>\n",
       "    </tr>\n",
       "    <tr>\n",
       "      <th>172</th>\n",
       "      <td>172</td>\n",
       "      <td>125</td>\n",
       "      <td>202</td>\n",
       "      <td>2021-04-29 13:41:00</td>\n",
       "      <td>2021-04-30 18:51:00</td>\n",
       "      <td>M</td>\n",
       "      <td>15</td>\n",
       "    </tr>\n",
       "    <tr>\n",
       "      <th>173</th>\n",
       "      <td>173</td>\n",
       "      <td>173</td>\n",
       "      <td>16</td>\n",
       "      <td>2021-06-23 13:26:00</td>\n",
       "      <td>2021-06-24 15:10:00</td>\n",
       "      <td>M</td>\n",
       "      <td>12</td>\n",
       "    </tr>\n",
       "    <tr>\n",
       "      <th>174</th>\n",
       "      <td>174</td>\n",
       "      <td>142</td>\n",
       "      <td>162</td>\n",
       "      <td>2021-10-23 11:51:00</td>\n",
       "      <td>2021-10-24 19:11:00</td>\n",
       "      <td>M</td>\n",
       "      <td>11</td>\n",
       "    </tr>\n",
       "    <tr>\n",
       "      <th>175</th>\n",
       "      <td>175</td>\n",
       "      <td>240</td>\n",
       "      <td>159</td>\n",
       "      <td>2022-05-04 17:07:00</td>\n",
       "      <td>2022-05-05 16:52:00</td>\n",
       "      <td>M</td>\n",
       "      <td>23</td>\n",
       "    </tr>\n",
       "    <tr>\n",
       "      <th>176</th>\n",
       "      <td>176</td>\n",
       "      <td>65</td>\n",
       "      <td>60</td>\n",
       "      <td>2022-02-28 18:52:00</td>\n",
       "      <td>2022-03-06 14:06:00</td>\n",
       "      <td>M</td>\n",
       "      <td>61</td>\n",
       "    </tr>\n",
       "  </tbody>\n",
       "</table>\n",
       "<p>177 rows × 7 columns</p>\n",
       "</div>"
      ],
      "text/plain": [
       "     ICU_STAY_NUMBER  PATIENT_NUMBER  ADMISSION_NUMBER      ICU_START_TIME  \\\n",
       "0                  1              87               115 2021-08-05 17:49:00   \n",
       "1                  2             192               245 2021-08-23 13:50:00   \n",
       "2                  3             224               170 2021-11-17 17:31:00   \n",
       "3                  4              88                31 2022-02-14 12:58:00   \n",
       "4                  5             223               160 2021-12-03 12:55:00   \n",
       "..               ...             ...               ...                 ...   \n",
       "172              172             125               202 2021-04-29 13:41:00   \n",
       "173              173             173                16 2021-06-23 13:26:00   \n",
       "174              174             142               162 2021-10-23 11:51:00   \n",
       "175              175             240               159 2022-05-04 17:07:00   \n",
       "176              176              65                60 2022-02-28 18:52:00   \n",
       "\n",
       "           ICU_END_TIME Gender  hb_measure  \n",
       "0   2021-08-06 12:22:00      M          21  \n",
       "1   2021-08-25 16:49:00      M          20  \n",
       "2   2021-11-18 15:57:00      M          19  \n",
       "3   2022-02-15 13:13:00      M          27  \n",
       "4   2021-12-04 15:53:00      M          14  \n",
       "..                  ...    ...         ...  \n",
       "172 2021-04-30 18:51:00      M          15  \n",
       "173 2021-06-24 15:10:00      M          12  \n",
       "174 2021-10-24 19:11:00      M          11  \n",
       "175 2022-05-05 16:52:00      M          23  \n",
       "176 2022-03-06 14:06:00      M          61  \n",
       "\n",
       "[177 rows x 7 columns]"
      ]
     },
     "execution_count": 138,
     "metadata": {},
     "output_type": "execute_result"
    }
   ],
   "source": []
  },
  {
   "cell_type": "code",
   "execution_count": 154,
   "id": "ff18e805",
   "metadata": {},
   "outputs": [],
   "source": [
    "hb_measure = []\n",
    "\n",
    "for row_index, row in df_icu.iterrows():\n",
    "    temp_df = df_haemoglobins.loc[df_haemoglobins[\"PATIENT_NUMBER\"] == row[\"PATIENT_NUMBER\"]] \n",
    "    temp_df = temp_df.loc[temp_df[\"RESULT_TIME\"] <= row[\"ICU_START_TIME\"]+datetime.timedelta(days=1)]\n",
    "    temp_df = temp_df.loc[temp_df[\"RESULT_TIME\"] > row[\"ICU_START_TIME\"]]\n",
    "    hb_measure.append(len(temp_df))\n",
    "\n",
    "df_icu[\"hb_measure\"] = hb_measure"
   ]
  },
  {
   "cell_type": "code",
   "execution_count": 155,
   "id": "1ce50293",
   "metadata": {
    "scrolled": true
   },
   "outputs": [
    {
     "data": {
      "image/png": "[encoded data removed]",
      "text/plain": [
       "<Figure size 432x288 with 1 Axes>"
      ]
     },
     "metadata": {
      "needs_background": "light"
     },
     "output_type": "display_data"
    }
   ],
   "source": [
    "sns.histplot(df_icu,x = \"hb_measure\",stat=\"density\",hue = \"Gender\",element=\"step\",common_norm=False)\n",
    "plt.title('Number of hb measure within the first 24 hours of ICU')\n",
    "plt.xlabel(\"Amount of hemoglobin measures\")\n",
    "plt.ylabel('Density')\n",
    "plt.show()"
   ]
  },
  {
   "cell_type": "code",
   "execution_count": 156,
   "id": "e01d297d",
   "metadata": {
    "scrolled": true
   },
   "outputs": [
    {
     "name": "stdout",
     "output_type": "stream",
     "text": [
      "11.07909604519774\n",
      "11.026490066225165\n",
      "3.5527193574335163\n",
      "11.384615384615385\n",
      "3.0009860312509473\n"
     ]
    }
   ],
   "source": [
    "print(np.mean(df_icu[\"hb_measure\"]))\n",
    "print(np.mean(df_icu.loc[df_icu[\"Gender\"] == \"M\"][\"hb_measure\"]))\n",
    "print(np.std(df_icu.loc[df_icu[\"Gender\"] == \"M\"][\"hb_measure\"]))\n",
    "print(np.mean(df_icu.loc[df_icu[\"Gender\"] == \"F\"][\"hb_measure\"]))\n",
    "print(np.std(df_icu.loc[df_icu[\"Gender\"] == \"F\"][\"hb_measure\"]))"
   ]
  },
  {
   "cell_type": "code",
   "execution_count": null,
   "id": "da66611e",
   "metadata": {},
   "outputs": [],
   "source": []
  },
  {
   "cell_type": "code",
   "execution_count": null,
   "id": "50c3aa71",
   "metadata": {},
   "outputs": [],
   "source": []
  },
  {
   "cell_type": "code",
   "execution_count": null,
   "id": "637733da",
   "metadata": {},
   "outputs": [],
   "source": []
  },
  {
   "cell_type": "code",
   "execution_count": null,
   "id": "22ad8e4a",
   "metadata": {},
   "outputs": [],
   "source": []
  }
 ],
 "metadata": {
  "kernelspec": {
   "display_name": "Python 3 (ipykernel)",
   "language": "python",
   "name": "python3"
  },
  "language_info": {
   "codemirror_mode": {
    "name": "ipython",
    "version": 3
   },
   "file_extension": ".py",
   "mimetype": "text/x-python",
   "name": "python",
   "nbconvert_exporter": "python",
   "pygments_lexer": "ipython3",
   "version": "3.7.3"
  }
 },
 "nbformat": 4,
 "nbformat_minor": 5
}
