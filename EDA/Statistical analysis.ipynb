{
 "cells": [
  {
   "cell_type": "code",
   "execution_count": 1,
   "metadata": {},
   "outputs": [],
   "source": [
    "import pandas as pd\n",
    "import numpy as np\n",
    "from matplotlib import pyplot as plt\n",
    "import seaborn as sns\n",
    "import datetime\n",
    "from scipy.stats import mannwhitneyu\n",
    "from scipy.stats import chisquare\n",
    "from scipy.interpolate import InterpolatedUnivariateSpline \n",
    "from scipy.stats import chi2_contingency"
   ]
  },
  {
   "cell_type": "code",
   "execution_count": 2,
   "metadata": {},
   "outputs": [],
   "source": [
    "def chi_square_test(data1,data2):\n",
    "    MIMIC = data1\n",
    "    EPIC = data2\n",
    "    all_value = sorted(np.unique(list(MIMIC)+list(EPIC)))\n",
    "    MIMIC_list = []\n",
    "    EPIC_list = []\n",
    "    for value in all_value:\n",
    "        EPIC_count = list(EPIC).count(value)\n",
    "        MIMIC_count = list(MIMIC).count(value)\n",
    "        MIMIC_list.append(MIMIC_count)\n",
    "        EPIC_list.append(EPIC_count)\n",
    "\n",
    "    obs = [MIMIC_list,EPIC_list]\n",
    "    chi2, p, dof, ex = chi2_contingency(obs)\n",
    "    print(f'Test statistics is {chi2} with degree of freedom as {dof} and p value is {p}')"
   ]
  },
  {
   "cell_type": "markdown",
   "metadata": {},
   "source": [
    "### Continuous value\n",
    "https://docs.scipy.org/doc/scipy/reference/generated/scipy.stats.mannwhitneyu.html\n",
    "- using Mann-Whitney U test\n",
    "- pretransfusion\n",
    "- value diff\n",
    "- icu stay time in days \n",
    "\n",
    "### Ordinal value\n",
    "https://docs.scipy.org/doc/scipy/reference/generated/scipy.stats.chisquare.html\n",
    "- using chi-square test tests \n",
    "-  blood transfusion volume\n",
    "- blood transfusion counts\n",
    "- 24H HB measurements\n",
    "\n"
   ]
  },
  {
   "cell_type": "markdown",
   "metadata": {},
   "source": [
    "### pre transfusion "
   ]
  },
  {
   "cell_type": "markdown",
   "metadata": {},
   "source": [
    "#### for only first blood transfusion"
   ]
  },
  {
   "cell_type": "code",
   "execution_count": 3,
   "metadata": {},
   "outputs": [
    {
     "name": "stdout",
     "output_type": "stream",
     "text": [
      "MannwhitneyuResult(statistic=13666.0, pvalue=8.15380726455595e-23)\n"
     ]
    }
   ],
   "source": [
    "EPIC_pre_transfusion = np.load('EPIC_first_pre_transfusion.npy')\n",
    "MIMIC_pre_transfusion = np.load('MIMIC_first_pre_transfusion.npy')\n",
    "# https://docs.scipy.org/doc/scipy/reference/generated/scipy.stats.mannwhitneyu.html\n",
    "result = mannwhitneyu(MIMIC_pre_transfusion,EPIC_pre_transfusion, use_continuity=False,method=\"asymptotic\")\n",
    "print(result)"
   ]
  },
  {
   "cell_type": "code",
   "execution_count": 4,
   "metadata": {},
   "outputs": [
    {
     "name": "stdout",
     "output_type": "stream",
     "text": [
      "MannwhitneyuResult(statistic=5332.0, pvalue=0.6099233301635223)\n"
     ]
    }
   ],
   "source": [
    "MIMIC_pre_transfusion_male = np.load('MIMIC_first_pre_transfusion_male.npy')\n",
    "MIMIC_pre_transfusion_female = np.load('MIMIC_first_pre_transfusion_female.npy')\n",
    "result = mannwhitneyu(MIMIC_pre_transfusion_male,MIMIC_pre_transfusion_female, use_continuity=False,method=\"asymptotic\")\n",
    "print(result)"
   ]
  },
  {
   "cell_type": "code",
   "execution_count": 5,
   "metadata": {},
   "outputs": [
    {
     "name": "stdout",
     "output_type": "stream",
     "text": [
      "MannwhitneyuResult(statistic=428.5, pvalue=0.25231490861765615)\n"
     ]
    }
   ],
   "source": [
    "EPIC_pre_transfusion_male = np.load('EPIC_first_pre_transfusion_male.npy')\n",
    "EPIC_pre_transfusion_female = np.load('EPIC_first_pre_transfusion_female.npy')\n",
    "result = mannwhitneyu(EPIC_pre_transfusion_male,EPIC_pre_transfusion_female, use_continuity=False,method=\"asymptotic\")\n",
    "print(result)"
   ]
  },
  {
   "cell_type": "code",
   "execution_count": 6,
   "metadata": {},
   "outputs": [
    {
     "name": "stdout",
     "output_type": "stream",
     "text": [
      "MannwhitneyuResult(statistic=7932.0, pvalue=7.262532455562567e-17)\n"
     ]
    }
   ],
   "source": [
    "result = mannwhitneyu(MIMIC_pre_transfusion_male,EPIC_pre_transfusion_male, use_continuity=False,method=\"asymptotic\")\n",
    "print(result)"
   ]
  },
  {
   "cell_type": "code",
   "execution_count": 7,
   "metadata": {},
   "outputs": [
    {
     "name": "stdout",
     "output_type": "stream",
     "text": [
      "MannwhitneyuResult(statistic=775.5, pvalue=1.432289664946833e-07)\n"
     ]
    }
   ],
   "source": [
    "result = mannwhitneyu(MIMIC_pre_transfusion_female,EPIC_pre_transfusion_female, use_continuity=False,method=\"asymptotic\")\n",
    "print(result)"
   ]
  },
  {
   "cell_type": "markdown",
   "metadata": {},
   "source": [
    "### for all transfusion"
   ]
  },
  {
   "cell_type": "code",
   "execution_count": 8,
   "metadata": {},
   "outputs": [
    {
     "name": "stdout",
     "output_type": "stream",
     "text": [
      "MannwhitneyuResult(statistic=84020.5, pvalue=1.4240130545444609e-44)\n"
     ]
    }
   ],
   "source": [
    "EPIC_pre_transfusion = np.load('EPIC_pre_transfusion.npy')\n",
    "MIMIC_pre_transfusion = np.load('MIMIC_pre_transfusion.npy')\n",
    "# https://docs.scipy.org/doc/scipy/reference/generated/scipy.stats.mannwhitneyu.html\n",
    "result = mannwhitneyu(MIMIC_pre_transfusion,EPIC_pre_transfusion, use_continuity=False,method=\"asymptotic\")\n",
    "print(result)"
   ]
  },
  {
   "cell_type": "code",
   "execution_count": 9,
   "metadata": {},
   "outputs": [
    {
     "name": "stdout",
     "output_type": "stream",
     "text": [
      "MannwhitneyuResult(statistic=24479.0, pvalue=0.814504289266886)\n"
     ]
    }
   ],
   "source": [
    "MIMIC_pre_transfusion_male = np.load('MIMIC_pre_transfusion_male.npy')\n",
    "MIMIC_pre_transfusion_female = np.load('MIMIC_pre_transfusion_female.npy')\n",
    "result = mannwhitneyu(MIMIC_pre_transfusion_male,MIMIC_pre_transfusion_female, use_continuity=False,method=\"asymptotic\")\n",
    "print(result)"
   ]
  },
  {
   "cell_type": "code",
   "execution_count": 10,
   "metadata": {},
   "outputs": [
    {
     "name": "stdout",
     "output_type": "stream",
     "text": [
      "MannwhitneyuResult(statistic=3719.5, pvalue=0.20588318541663164)\n"
     ]
    }
   ],
   "source": [
    "EPIC_pre_transfusion_male = np.load('EPIC_pre_transfusion_male.npy')\n",
    "EPIC_pre_transfusion_female = np.load('EPIC_pre_transfusion_female.npy')\n",
    "result = mannwhitneyu(EPIC_pre_transfusion_male,EPIC_pre_transfusion_female, use_continuity=False,method=\"asymptotic\")\n",
    "print(result)"
   ]
  },
  {
   "cell_type": "code",
   "execution_count": 11,
   "metadata": {},
   "outputs": [
    {
     "name": "stdout",
     "output_type": "stream",
     "text": [
      "MannwhitneyuResult(statistic=49043.0, pvalue=1.649227792347509e-33)\n"
     ]
    }
   ],
   "source": [
    "result = mannwhitneyu(MIMIC_pre_transfusion_male,EPIC_pre_transfusion_male, use_continuity=False,method=\"asymptotic\")\n",
    "print(result)"
   ]
  },
  {
   "cell_type": "code",
   "execution_count": 12,
   "metadata": {},
   "outputs": [
    {
     "name": "stdout",
     "output_type": "stream",
     "text": [
      "MannwhitneyuResult(statistic=4676.0, pvalue=1.2391430801785419e-12)\n"
     ]
    }
   ],
   "source": [
    "result = mannwhitneyu(MIMIC_pre_transfusion_female,EPIC_pre_transfusion_female, use_continuity=False,method=\"asymptotic\")\n",
    "print(result)"
   ]
  },
  {
   "cell_type": "markdown",
   "metadata": {},
   "source": [
    "### value diff "
   ]
  },
  {
   "cell_type": "code",
   "execution_count": 13,
   "metadata": {},
   "outputs": [
    {
     "name": "stdout",
     "output_type": "stream",
     "text": [
      "MannwhitneyuResult(statistic=53875.5, pvalue=0.08748466635362102)\n"
     ]
    }
   ],
   "source": [
    "EPIC_value_diff = np.load('EPIC_value_diff.npy')\n",
    "MIMIC_value_diff = np.load('MIMIC_value_diff.npy')\n",
    "result = mannwhitneyu(MIMIC_value_diff,EPIC_value_diff, use_continuity=False,method=\"asymptotic\")\n",
    "print(result)"
   ]
  },
  {
   "cell_type": "code",
   "execution_count": 14,
   "metadata": {},
   "outputs": [
    {
     "name": "stdout",
     "output_type": "stream",
     "text": [
      "MannwhitneyuResult(statistic=18655.5, pvalue=0.00019795118933318805)\n"
     ]
    }
   ],
   "source": [
    "MIMIC_value_diff_male = np.load('MIMIC_value_diff_male.npy')\n",
    "MIMIC_value_diff_female = np.load('MIMIC_value_diff_female.npy')\n",
    "result = mannwhitneyu(MIMIC_value_diff_male,MIMIC_value_diff_female, use_continuity=False,method=\"asymptotic\")\n",
    "print(result)"
   ]
  },
  {
   "cell_type": "code",
   "execution_count": 15,
   "metadata": {},
   "outputs": [
    {
     "name": "stdout",
     "output_type": "stream",
     "text": [
      "MannwhitneyuResult(statistic=3026.0, pvalue=0.38771319246498737)\n"
     ]
    }
   ],
   "source": [
    "EPIC_value_diff_male = np.load('EPIC_value_diff_male.npy')\n",
    "EPIC_value_diff_female = np.load('EPIC_value_diff_female.npy')\n",
    "result = mannwhitneyu(EPIC_value_diff_male,EPIC_value_diff_female, use_continuity=False,method=\"asymptotic\")\n",
    "print(result)"
   ]
  },
  {
   "cell_type": "code",
   "execution_count": 16,
   "metadata": {},
   "outputs": [
    {
     "name": "stdout",
     "output_type": "stream",
     "text": [
      "MannwhitneyuResult(statistic=30558.0, pvalue=0.3970595478967751)\n"
     ]
    }
   ],
   "source": [
    "result = mannwhitneyu(MIMIC_value_diff_male,EPIC_value_diff_male, use_continuity=False,method=\"asymptotic\")\n",
    "print(result)"
   ]
  },
  {
   "cell_type": "code",
   "execution_count": 17,
   "metadata": {},
   "outputs": [
    {
     "name": "stdout",
     "output_type": "stream",
     "text": [
      "MannwhitneyuResult(statistic=3306.5, pvalue=0.03384262478384122)\n"
     ]
    }
   ],
   "source": [
    "result = mannwhitneyu(MIMIC_value_diff_female,EPIC_value_diff_female, use_continuity=False,method=\"asymptotic\")\n",
    "print(result)"
   ]
  },
  {
   "cell_type": "markdown",
   "metadata": {},
   "source": [
    "### ICU stay time"
   ]
  },
  {
   "cell_type": "code",
   "execution_count": 18,
   "metadata": {},
   "outputs": [
    {
     "name": "stdout",
     "output_type": "stream",
     "text": [
      "MannwhitneyuResult(statistic=74305.5, pvalue=0.4174034494274639)\n"
     ]
    }
   ],
   "source": [
    "MIMIC_icu_stay_time_days = np.load('MIMIC_icu_stay_time_days.npy')\n",
    "EPIC_icu_stay_time_days = np.load('EPIC_icu_stay_time_days.npy')\n",
    "result = mannwhitneyu(MIMIC_icu_stay_time_days,EPIC_icu_stay_time_days, use_continuity=False,method=\"asymptotic\")\n",
    "print(result)"
   ]
  },
  {
   "cell_type": "code",
   "execution_count": 19,
   "metadata": {},
   "outputs": [
    {
     "name": "stdout",
     "output_type": "stream",
     "text": [
      "MannwhitneyuResult(statistic=43440.0, pvalue=0.0006363906358060763)\n"
     ]
    }
   ],
   "source": [
    "MIMIC_icu_stay_time_days_male = np.load('MIMIC_icu_stay_time_days_male.npy')\n",
    "MIMIC_icu_stay_time_days_female = np.load('MIMIC_icu_stay_time_days_female.npy')\n",
    "result = mannwhitneyu(MIMIC_icu_stay_time_days_male,MIMIC_icu_stay_time_days_female, use_continuity=False,method=\"asymptotic\")\n",
    "print(result)"
   ]
  },
  {
   "cell_type": "code",
   "execution_count": 20,
   "metadata": {},
   "outputs": [
    {
     "name": "stdout",
     "output_type": "stream",
     "text": [
      "MannwhitneyuResult(statistic=1760.5, pvalue=0.4013939847344221)\n"
     ]
    }
   ],
   "source": [
    "EPIC_icu_stay_time_days_male = np.load('EPIC_icu_stay_time_days_male.npy')\n",
    "EPIC_icu_stay_time_days_female = np.load('EPIC_icu_stay_time_days_female.npy')\n",
    "result = mannwhitneyu(EPIC_icu_stay_time_days_male,EPIC_icu_stay_time_days_female, use_continuity=False,method=\"asymptotic\")\n",
    "print(result)"
   ]
  },
  {
   "cell_type": "code",
   "execution_count": 21,
   "metadata": {},
   "outputs": [
    {
     "name": "stdout",
     "output_type": "stream",
     "text": [
      "MannwhitneyuResult(statistic=65416.5, pvalue=0.14570243513947814)\n"
     ]
    }
   ],
   "source": [
    "result = mannwhitneyu(MIMIC_icu_stay_time_days_male,EPIC_icu_stay_time_days_male, use_continuity=False,method=\"asymptotic\")\n",
    "print(result)"
   ]
  },
  {
   "cell_type": "code",
   "execution_count": 22,
   "metadata": {},
   "outputs": [
    {
     "name": "stdout",
     "output_type": "stream",
     "text": [
      "MannwhitneyuResult(statistic=1722.0, pvalue=0.8243207029489524)\n"
     ]
    }
   ],
   "source": [
    "result = mannwhitneyu(MIMIC_icu_stay_time_days_female,EPIC_icu_stay_time_days_female, use_continuity=False,method=\"asymptotic\")\n",
    "print(result)"
   ]
  },
  {
   "cell_type": "markdown",
   "metadata": {},
   "source": [
    "### Time between first blood transfusion and pretransfusion"
   ]
  },
  {
   "cell_type": "code",
   "execution_count": 23,
   "metadata": {},
   "outputs": [
    {
     "name": "stdout",
     "output_type": "stream",
     "text": [
      "MannwhitneyuResult(statistic=11377.5, pvalue=9.483276188455221e-10)\n"
     ]
    }
   ],
   "source": [
    "EPIC_time_first_pre_transfusion = np.load('EPIC_time_first_pre_transfusion.npy')\n",
    "MIMIC_time_first_pre_transfusion = np.load('MIMIC_time_first_pre_transfusion.npy')\n",
    "result = mannwhitneyu(MIMIC_time_first_pre_transfusion,EPIC_time_first_pre_transfusion, use_continuity=False,method=\"asymptotic\")\n",
    "print(result)"
   ]
  },
  {
   "cell_type": "code",
   "execution_count": 24,
   "metadata": {},
   "outputs": [
    {
     "name": "stdout",
     "output_type": "stream",
     "text": [
      "MannwhitneyuResult(statistic=4716.0, pvalue=0.38549952794848363)\n"
     ]
    }
   ],
   "source": [
    "MIMIC_time_first_pre_transfusion_male = np.load('MIMIC_time_first_pre_transfusion_male.npy')\n",
    "MIMIC_time_first_pre_transfusion_female = np.load('MIMIC_time_first_pre_transfusion_female.npy')\n",
    "result = mannwhitneyu(MIMIC_time_first_pre_transfusion_male,MIMIC_time_first_pre_transfusion_female, use_continuity=False,method=\"asymptotic\")\n",
    "print(result)"
   ]
  },
  {
   "cell_type": "code",
   "execution_count": 25,
   "metadata": {},
   "outputs": [
    {
     "name": "stdout",
     "output_type": "stream",
     "text": [
      "MannwhitneyuResult(statistic=310.0, pvalue=0.45316932757962924)\n"
     ]
    }
   ],
   "source": [
    "EPIC_time_first_pre_transfusion_male = np.load('EPIC_time_first_pre_transfusion_male.npy')\n",
    "EPIC_time_first_pre_transfusion_female = np.load('EPIC_time_first_pre_transfusion_female.npy')\n",
    "result = mannwhitneyu(EPIC_time_first_pre_transfusion_male,EPIC_time_first_pre_transfusion_female, use_continuity=False,method=\"asymptotic\")\n",
    "print(result)"
   ]
  },
  {
   "cell_type": "code",
   "execution_count": 26,
   "metadata": {},
   "outputs": [
    {
     "name": "stdout",
     "output_type": "stream",
     "text": [
      "MannwhitneyuResult(statistic=6714.5, pvalue=6.985801945637139e-08)\n"
     ]
    }
   ],
   "source": [
    "result = mannwhitneyu(MIMIC_time_first_pre_transfusion_male,EPIC_time_first_pre_transfusion_male, use_continuity=False,method=\"asymptotic\")\n",
    "print(result)"
   ]
  },
  {
   "cell_type": "code",
   "execution_count": 27,
   "metadata": {},
   "outputs": [
    {
     "name": "stdout",
     "output_type": "stream",
     "text": [
      "MannwhitneyuResult(statistic=596.0, pvalue=0.006861876533284971)\n"
     ]
    }
   ],
   "source": [
    "result = mannwhitneyu(MIMIC_time_first_pre_transfusion_female,EPIC_time_first_pre_transfusion_female, use_continuity=False,method=\"asymptotic\")\n",
    "print(result)"
   ]
  },
  {
   "cell_type": "markdown",
   "metadata": {},
   "source": [
    "### first blood transfusion volumn"
   ]
  },
  {
   "cell_type": "code",
   "execution_count": 28,
   "metadata": {},
   "outputs": [
    {
     "name": "stdout",
     "output_type": "stream",
     "text": [
      "Test statistics is 293.10039787798405 with degree of freedom as 69 and p value is 2.1056045684382066e-29\n"
     ]
    }
   ],
   "source": [
    "MIMIC_first_blood_transfusion_volumn = np.load('MIMIC_first_blood_transfusion_volumn.npy')\n",
    "EPIC_first_blood_transfusion_volumn = np.load('EPIC_first_blood_transfusion_volumn.npy')\n",
    "chi_square_test(MIMIC_first_blood_transfusion_volumn,EPIC_first_blood_transfusion_volumn)"
   ]
  },
  {
   "cell_type": "code",
   "execution_count": 29,
   "metadata": {},
   "outputs": [
    {
     "name": "stdout",
     "output_type": "stream",
     "text": [
      "Test statistics is 43.63381438894149 with degree of freedom as 24 and p value is 0.008412754355844314\n"
     ]
    }
   ],
   "source": [
    "MIMIC_blood_transfusion_volumn_male = np.load('MIMIC_blood_transfusion_volumn_male.npy')\n",
    "MIMIC_blood_transfusion_volumn_female = np.load('MIMIC_blood_transfusion_volumn_female.npy')\n",
    "chi_square_test(MIMIC_blood_transfusion_volumn_male,MIMIC_blood_transfusion_volumn_female)"
   ]
  },
  {
   "cell_type": "code",
   "execution_count": 30,
   "metadata": {},
   "outputs": [
    {
     "name": "stdout",
     "output_type": "stream",
     "text": [
      "Test statistics is 53.954248366013076 with degree of freedom as 51 and p value is 0.3621158753705871\n"
     ]
    }
   ],
   "source": [
    "EPIC_blood_transfusion_volumn_male = np.load('EPIC_blood_transfusion_volumn_male.npy')\n",
    "EPIC_blood_transfusion_volumn_female = np.load('EPIC_blood_transfusion_volumn_female.npy')\n",
    "chi_square_test(EPIC_blood_transfusion_volumn_male,EPIC_blood_transfusion_volumn_female)"
   ]
  },
  {
   "cell_type": "code",
   "execution_count": 31,
   "metadata": {},
   "outputs": [
    {
     "name": "stdout",
     "output_type": "stream",
     "text": [
      "Test statistics is 450.9999999999999 with degree of freedom as 61 and p value is 7.272578480645389e-61\n"
     ]
    }
   ],
   "source": [
    "chi_square_test(MIMIC_blood_transfusion_volumn_male,EPIC_blood_transfusion_volumn_male)"
   ]
  },
  {
   "cell_type": "code",
   "execution_count": 32,
   "metadata": {},
   "outputs": [
    {
     "name": "stdout",
     "output_type": "stream",
     "text": [
      "Test statistics is 129.620720188902 with degree of freedom as 28 and p value is 5.076201246034779e-15\n"
     ]
    }
   ],
   "source": [
    "chi_square_test(MIMIC_blood_transfusion_volumn_female,EPIC_blood_transfusion_volumn_female)"
   ]
  },
  {
   "cell_type": "markdown",
   "metadata": {},
   "source": [
    "### blood transfusion counts"
   ]
  },
  {
   "cell_type": "code",
   "execution_count": 33,
   "metadata": {},
   "outputs": [
    {
     "name": "stdout",
     "output_type": "stream",
     "text": [
      "Test statistics is 156.78857082510612 with degree of freedom as 12 and p value is 2.3673674145266455e-27\n"
     ]
    }
   ],
   "source": [
    "MIMIC_blood_transfusion_count = np.load('MIMIC_blood_transfusion_count.npy')\n",
    "EPIC_blood_transfusion_count = np.load('EPIC_blood_transfusion_count.npy')\n",
    "chi_square_test(MIMIC_blood_transfusion_count,EPIC_blood_transfusion_count)"
   ]
  },
  {
   "cell_type": "code",
   "execution_count": 34,
   "metadata": {},
   "outputs": [
    {
     "name": "stdout",
     "output_type": "stream",
     "text": [
      "Test statistics is 12.61449861363754 with degree of freedom as 7 and p value is 0.08207699495325177\n"
     ]
    }
   ],
   "source": [
    "MIMIC_blood_transfusion_count_male = np.load('MIMIC_blood_transfusion_count_male.npy')\n",
    "MIMIC_blood_transfusion_count_female = np.load('MIMIC_blood_transfusion_count_female.npy')\n",
    "chi_square_test(MIMIC_blood_transfusion_count_male,MIMIC_blood_transfusion_count_female)"
   ]
  },
  {
   "cell_type": "code",
   "execution_count": 35,
   "metadata": {},
   "outputs": [
    {
     "name": "stdout",
     "output_type": "stream",
     "text": [
      "Test statistics is 126.82844308839731 with degree of freedom as 10 and p value is 2.0697128194397147e-22\n"
     ]
    }
   ],
   "source": [
    "EPIC_blood_transfusion_count_male = np.load('EPIC_blood_transfusion_count_male.npy')\n",
    "EPIC_blood_transfusion_count_female = np.load('EPIC_blood_transfusion_count_female.npy')\n",
    "chi_square_test(EPIC_blood_transfusion_count_male,EPIC_blood_transfusion_count_female)"
   ]
  },
  {
   "cell_type": "code",
   "execution_count": 36,
   "metadata": {},
   "outputs": [
    {
     "name": "stdout",
     "output_type": "stream",
     "text": [
      "Test statistics is 79.05297665019967 with degree of freedom as 10 and p value is 7.695662344797563e-13\n"
     ]
    }
   ],
   "source": [
    "chi_square_test(MIMIC_blood_transfusion_count_female,EPIC_blood_transfusion_count_male)"
   ]
  },
  {
   "cell_type": "code",
   "execution_count": 37,
   "metadata": {},
   "outputs": [
    {
     "name": "stdout",
     "output_type": "stream",
     "text": [
      "Test statistics is 99.39037910515134 with degree of freedom as 7 and p value is 1.441494078019351e-18\n"
     ]
    }
   ],
   "source": [
    "chi_square_test(MIMIC_blood_transfusion_count_female,EPIC_blood_transfusion_count_female)"
   ]
  },
  {
   "cell_type": "markdown",
   "metadata": {},
   "source": [
    "### hemoglobin measurements in 24 H"
   ]
  },
  {
   "cell_type": "code",
   "execution_count": 38,
   "metadata": {},
   "outputs": [
    {
     "name": "stdout",
     "output_type": "stream",
     "text": [
      "Test statistics is 407.03276424057464 with degree of freedom as 20 and p value is 7.097911669011485e-74\n"
     ]
    }
   ],
   "source": [
    "MIMIC_hemoglobin_24h_Hb_count = np.load('MIMIC_hemoglobin_24h_Hb_count.npy')\n",
    "EPIC_hemoglobin_24h_Hb_count = np.load('EPIC_hemoglobin_24h_Hb_count.npy')\n",
    "chi_square_test(MIMIC_hemoglobin_24h_Hb_count,EPIC_hemoglobin_24h_Hb_count)"
   ]
  },
  {
   "cell_type": "code",
   "execution_count": 39,
   "metadata": {},
   "outputs": [
    {
     "name": "stdout",
     "output_type": "stream",
     "text": [
      "Test statistics is 17.315421621902072 with degree of freedom as 14 and p value is 0.2397583786939397\n"
     ]
    }
   ],
   "source": [
    "MIMIC_hemoglobin_24h_Hb_count_male = np.load('MIMIC_hemoglobin_24h_Hb_count_male.npy')\n",
    "MIMIC_hemoglobin_24h_Hb_count_female = np.load('MIMIC_hemoglobin_24h_Hb_count_female.npy')\n",
    "chi_square_test(MIMIC_hemoglobin_24h_Hb_count_male,MIMIC_hemoglobin_24h_Hb_count_female)"
   ]
  },
  {
   "cell_type": "code",
   "execution_count": 40,
   "metadata": {},
   "outputs": [
    {
     "name": "stdout",
     "output_type": "stream",
     "text": [
      "Test statistics is 15.523718641469866 with degree of freedom as 19 and p value is 0.6887809001539269\n"
     ]
    }
   ],
   "source": [
    "EPIC_hemoglobin_24h_Hb_count_male = np.load('EPIC_hemoglobin_24h_Hb_count_male.npy')\n",
    "EPIC_hemoglobin_24h_Hb_count_female = np.load('EPIC_hemoglobin_24h_Hb_count_female.npy')\n",
    "chi_square_test(EPIC_hemoglobin_24h_Hb_count_male,EPIC_hemoglobin_24h_Hb_count_female)"
   ]
  },
  {
   "cell_type": "code",
   "execution_count": 41,
   "metadata": {},
   "outputs": [
    {
     "name": "stdout",
     "output_type": "stream",
     "text": [
      "Test statistics is 338.4010802563972 with degree of freedom as 20 and p value is 1.0878755690068122e-59\n"
     ]
    }
   ],
   "source": [
    "chi_square_test(MIMIC_hemoglobin_24h_Hb_count_male,EPIC_hemoglobin_24h_Hb_count_male)"
   ]
  },
  {
   "cell_type": "code",
   "execution_count": 42,
   "metadata": {},
   "outputs": [
    {
     "name": "stdout",
     "output_type": "stream",
     "text": [
      "Test statistics is 82.32293659590836 with degree of freedom as 14 and p value is 1.0467952482368525e-11\n"
     ]
    }
   ],
   "source": [
    "chi_square_test(MIMIC_hemoglobin_24h_Hb_count_female,EPIC_hemoglobin_24h_Hb_count_female)"
   ]
  },
  {
   "cell_type": "code",
   "execution_count": null,
   "metadata": {},
   "outputs": [],
   "source": []
  }
 ],
 "metadata": {
  "kernelspec": {
   "display_name": "Python 3 (ipykernel)",
   "language": "python",
   "name": "python3"
  },
  "language_info": {
   "codemirror_mode": {
    "name": "ipython",
    "version": 3
   },
   "file_extension": ".py",
   "mimetype": "text/x-python",
   "name": "python",
   "nbconvert_exporter": "python",
   "pygments_lexer": "ipython3",
   "version": "3.10.8"
  }
 },
 "nbformat": 4,
 "nbformat_minor": 5
}
