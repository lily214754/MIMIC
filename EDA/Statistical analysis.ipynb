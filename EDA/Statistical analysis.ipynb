{
 "cells": [
  {
   "cell_type": "code",
   "execution_count": 2,
   "metadata": {},
   "outputs": [],
   "source": [
    "import pandas as pd\n",
    "import numpy as np\n",
    "from matplotlib import pyplot as plt\n",
    "import seaborn as sns\n",
    "import datetime\n",
    "from scipy.stats import mannwhitneyu\n",
    "from scipy.stats import chisquare\n",
    "from scipy.interpolate import InterpolatedUnivariateSpline \n",
    "from scipy.stats import chi2_contingency"
   ]
  },
  {
   "cell_type": "code",
   "execution_count": 85,
   "metadata": {},
   "outputs": [],
   "source": [
    "def chi_square_test(data1,data2):\n",
    "    MIMIC = data1\n",
    "    EPIC = data2\n",
    "    all_value = sorted(np.unique(list(MIMIC)+list(EPIC)))\n",
    "    MIMIC_list = []\n",
    "    EPIC_list = []\n",
    "    for value in all_value:\n",
    "        EPIC_count = list(EPIC).count(value)\n",
    "        MIMIC_count = list(MIMIC).count(value)\n",
    "        MIMIC_list.append(MIMIC_count)\n",
    "        EPIC_list.append(EPIC_count)\n",
    "\n",
    "    obs = [MIMIC_list,EPIC_list]\n",
    "    chi2, p, dof, ex = chi2_contingency(obs)\n",
    "    print(f'Test statistics is {chi2} with degree of freedom as {dof} and p value is {p}')"
   ]
  },
  {
   "cell_type": "markdown",
   "metadata": {},
   "source": [
    "### Continuous value\n",
    "https://docs.scipy.org/doc/scipy/reference/generated/scipy.stats.mannwhitneyu.html\n",
    "- using Mann-Whitney U test\n",
    "- pretransfusion\n",
    "- value diff\n",
    "- icu stay time in days \n",
    "\n",
    "### Ordinal value\n",
    "https://docs.scipy.org/doc/scipy/reference/generated/scipy.stats.chisquare.html\n",
    "- using chi-square test tests \n",
    "-  blood transfusion volume\n",
    "- blood transfusion counts\n",
    "- 24H HB measurements\n",
    "\n"
   ]
  },
  {
   "cell_type": "markdown",
   "metadata": {},
   "source": [
    "### pre transfusion "
   ]
  },
  {
   "cell_type": "markdown",
   "metadata": {},
   "source": [
    "#### for only first blood transfusion"
   ]
  },
  {
   "cell_type": "code",
   "execution_count": 86,
   "metadata": {},
   "outputs": [
    {
     "name": "stdout",
     "output_type": "stream",
     "text": [
      "MannwhitneyuResult(statistic=13537.5, pvalue=1.0807358625985006e-22)\n"
     ]
    }
   ],
   "source": [
    "EPIC_pre_transfusion = np.load('Analysis data/EPIC_first_pre_transfusion.npy')\n",
    "MIMIC_pre_transfusion = np.load('Analysis data/MIMIC_first_pre_transfusion.npy')\n",
    "# https://docs.scipy.org/doc/scipy/reference/generated/scipy.stats.mannwhitneyu.html\n",
    "result = mannwhitneyu(MIMIC_pre_transfusion,EPIC_pre_transfusion, use_continuity=False,method=\"asymptotic\")\n",
    "print(result)"
   ]
  },
  {
   "cell_type": "code",
   "execution_count": 87,
   "metadata": {},
   "outputs": [
    {
     "name": "stdout",
     "output_type": "stream",
     "text": [
      "MannwhitneyuResult(statistic=5233.0, pvalue=0.6725569978498058)\n"
     ]
    }
   ],
   "source": [
    "MIMIC_pre_transfusion_male = np.load('Analysis data/MIMIC_first_pre_transfusion_male.npy')\n",
    "MIMIC_pre_transfusion_female = np.load('Analysis data/MIMIC_first_pre_transfusion_female.npy')\n",
    "result = mannwhitneyu(MIMIC_pre_transfusion_male,MIMIC_pre_transfusion_female, use_continuity=False,method=\"asymptotic\")\n",
    "print(result)"
   ]
  },
  {
   "cell_type": "code",
   "execution_count": 88,
   "metadata": {},
   "outputs": [
    {
     "name": "stdout",
     "output_type": "stream",
     "text": [
      "MannwhitneyuResult(statistic=428.5, pvalue=0.25231490861765615)\n"
     ]
    }
   ],
   "source": [
    "EPIC_pre_transfusion_male = np.load('Analysis data/EPIC_first_pre_transfusion_male.npy')\n",
    "EPIC_pre_transfusion_female = np.load('Analysis data/EPIC_first_pre_transfusion_female.npy')\n",
    "result = mannwhitneyu(EPIC_pre_transfusion_male,EPIC_pre_transfusion_female, use_continuity=False,method=\"asymptotic\")\n",
    "print(result)"
   ]
  },
  {
   "cell_type": "code",
   "execution_count": 89,
   "metadata": {},
   "outputs": [
    {
     "name": "stdout",
     "output_type": "stream",
     "text": [
      "MannwhitneyuResult(statistic=7831.5, pvalue=9.86314995372479e-17)\n"
     ]
    }
   ],
   "source": [
    "result = mannwhitneyu(MIMIC_pre_transfusion_male,EPIC_pre_transfusion_male, use_continuity=False,method=\"asymptotic\")\n",
    "print(result)"
   ]
  },
  {
   "cell_type": "code",
   "execution_count": 90,
   "metadata": {},
   "outputs": [
    {
     "name": "stdout",
     "output_type": "stream",
     "text": [
      "MannwhitneyuResult(statistic=775.5, pvalue=1.432289664946833e-07)\n"
     ]
    }
   ],
   "source": [
    "result = mannwhitneyu(MIMIC_pre_transfusion_female,EPIC_pre_transfusion_female, use_continuity=False,method=\"asymptotic\")\n",
    "print(result)"
   ]
  },
  {
   "cell_type": "markdown",
   "metadata": {},
   "source": [
    "### for all transfusion"
   ]
  },
  {
   "cell_type": "code",
   "execution_count": 91,
   "metadata": {},
   "outputs": [
    {
     "name": "stdout",
     "output_type": "stream",
     "text": [
      "MannwhitneyuResult(statistic=84020.5, pvalue=1.4240130545444609e-44)\n"
     ]
    }
   ],
   "source": [
    "EPIC_pre_transfusion = np.load('Analysis data/EPIC_pre_transfusion.npy')\n",
    "MIMIC_pre_transfusion = np.load('Analysis data/MIMIC_pre_transfusion.npy')\n",
    "# https://docs.scipy.org/doc/scipy/reference/generated/scipy.stats.mannwhitneyu.html\n",
    "result = mannwhitneyu(MIMIC_pre_transfusion,EPIC_pre_transfusion, use_continuity=False,method=\"asymptotic\")\n",
    "print(result)"
   ]
  },
  {
   "cell_type": "code",
   "execution_count": 92,
   "metadata": {},
   "outputs": [
    {
     "name": "stdout",
     "output_type": "stream",
     "text": [
      "MannwhitneyuResult(statistic=24479.0, pvalue=0.814504289266886)\n"
     ]
    }
   ],
   "source": [
    "MIMIC_pre_transfusion_male = np.load('Analysis data/MIMIC_pre_transfusion_male.npy')\n",
    "MIMIC_pre_transfusion_female = np.load('Analysis data/MIMIC_pre_transfusion_female.npy')\n",
    "result = mannwhitneyu(MIMIC_pre_transfusion_male,MIMIC_pre_transfusion_female, use_continuity=False,method=\"asymptotic\")\n",
    "print(result)"
   ]
  },
  {
   "cell_type": "code",
   "execution_count": 93,
   "metadata": {},
   "outputs": [
    {
     "name": "stdout",
     "output_type": "stream",
     "text": [
      "MannwhitneyuResult(statistic=3719.5, pvalue=0.20588318541663164)\n"
     ]
    }
   ],
   "source": [
    "EPIC_pre_transfusion_male = np.load('Analysis data/EPIC_pre_transfusion_male.npy')\n",
    "EPIC_pre_transfusion_female = np.load('Analysis data/EPIC_pre_transfusion_female.npy')\n",
    "result = mannwhitneyu(EPIC_pre_transfusion_male,EPIC_pre_transfusion_female, use_continuity=False,method=\"asymptotic\")\n",
    "print(result)"
   ]
  },
  {
   "cell_type": "code",
   "execution_count": 94,
   "metadata": {},
   "outputs": [
    {
     "name": "stdout",
     "output_type": "stream",
     "text": [
      "MannwhitneyuResult(statistic=49043.0, pvalue=1.649227792347509e-33)\n"
     ]
    }
   ],
   "source": [
    "result = mannwhitneyu(MIMIC_pre_transfusion_male,EPIC_pre_transfusion_male, use_continuity=False,method=\"asymptotic\")\n",
    "print(result)"
   ]
  },
  {
   "cell_type": "code",
   "execution_count": 95,
   "metadata": {},
   "outputs": [
    {
     "name": "stdout",
     "output_type": "stream",
     "text": [
      "MannwhitneyuResult(statistic=4676.0, pvalue=1.2391430801785419e-12)\n"
     ]
    }
   ],
   "source": [
    "result = mannwhitneyu(MIMIC_pre_transfusion_female,EPIC_pre_transfusion_female, use_continuity=False,method=\"asymptotic\")\n",
    "print(result)"
   ]
  },
  {
   "cell_type": "markdown",
   "metadata": {},
   "source": [
    "### value diff "
   ]
  },
  {
   "cell_type": "code",
   "execution_count": 96,
   "metadata": {},
   "outputs": [
    {
     "name": "stdout",
     "output_type": "stream",
     "text": [
      "MannwhitneyuResult(statistic=53875.5, pvalue=0.08748466635362102)\n"
     ]
    }
   ],
   "source": [
    "EPIC_value_diff = np.load('Analysis data/EPIC_value_diff.npy')\n",
    "MIMIC_value_diff = np.load('Analysis data/MIMIC_value_diff.npy')\n",
    "result = mannwhitneyu(MIMIC_value_diff,EPIC_value_diff, use_continuity=False,method=\"asymptotic\")\n",
    "print(result)"
   ]
  },
  {
   "cell_type": "code",
   "execution_count": 97,
   "metadata": {},
   "outputs": [
    {
     "name": "stdout",
     "output_type": "stream",
     "text": [
      "MannwhitneyuResult(statistic=18655.5, pvalue=0.00019795118933318805)\n"
     ]
    }
   ],
   "source": [
    "MIMIC_value_diff_male = np.load('Analysis data/MIMIC_value_diff_male.npy')\n",
    "MIMIC_value_diff_female = np.load('Analysis data/MIMIC_value_diff_female.npy')\n",
    "result = mannwhitneyu(MIMIC_value_diff_male,MIMIC_value_diff_female, use_continuity=False,method=\"asymptotic\")\n",
    "print(result)"
   ]
  },
  {
   "cell_type": "code",
   "execution_count": 98,
   "metadata": {},
   "outputs": [
    {
     "name": "stdout",
     "output_type": "stream",
     "text": [
      "MannwhitneyuResult(statistic=3026.0, pvalue=0.38771319246498737)\n"
     ]
    }
   ],
   "source": [
    "EPIC_value_diff_male = np.load('Analysis data/EPIC_value_diff_male.npy')\n",
    "EPIC_value_diff_female = np.load('Analysis data/EPIC_value_diff_female.npy')\n",
    "result = mannwhitneyu(EPIC_value_diff_male,EPIC_value_diff_female, use_continuity=False,method=\"asymptotic\")\n",
    "print(result)"
   ]
  },
  {
   "cell_type": "code",
   "execution_count": 99,
   "metadata": {},
   "outputs": [
    {
     "name": "stdout",
     "output_type": "stream",
     "text": [
      "MannwhitneyuResult(statistic=30558.0, pvalue=0.3970595478967751)\n"
     ]
    }
   ],
   "source": [
    "result = mannwhitneyu(MIMIC_value_diff_male,EPIC_value_diff_male, use_continuity=False,method=\"asymptotic\")\n",
    "print(result)"
   ]
  },
  {
   "cell_type": "code",
   "execution_count": 100,
   "metadata": {},
   "outputs": [
    {
     "name": "stdout",
     "output_type": "stream",
     "text": [
      "MannwhitneyuResult(statistic=3306.5, pvalue=0.03384262478384122)\n"
     ]
    }
   ],
   "source": [
    "result = mannwhitneyu(MIMIC_value_diff_female,EPIC_value_diff_female, use_continuity=False,method=\"asymptotic\")\n",
    "print(result)"
   ]
  },
  {
   "cell_type": "markdown",
   "metadata": {},
   "source": [
    "### ICU stay time"
   ]
  },
  {
   "cell_type": "code",
   "execution_count": 101,
   "metadata": {},
   "outputs": [
    {
     "name": "stdout",
     "output_type": "stream",
     "text": [
      "MannwhitneyuResult(statistic=74305.5, pvalue=0.4174034494274639)\n"
     ]
    }
   ],
   "source": [
    "MIMIC_icu_stay_time_days = np.load('Analysis data/MIMIC_icu_stay_time_days.npy')\n",
    "EPIC_icu_stay_time_days = np.load('Analysis data/EPIC_icu_stay_time_days.npy')\n",
    "result = mannwhitneyu(MIMIC_icu_stay_time_days,EPIC_icu_stay_time_days, use_continuity=False,method=\"asymptotic\")\n",
    "print(result)"
   ]
  },
  {
   "cell_type": "code",
   "execution_count": 102,
   "metadata": {},
   "outputs": [
    {
     "name": "stdout",
     "output_type": "stream",
     "text": [
      "MannwhitneyuResult(statistic=43440.0, pvalue=0.0006363906358060763)\n"
     ]
    }
   ],
   "source": [
    "MIMIC_icu_stay_time_days_male = np.load('Analysis data/MIMIC_icu_stay_time_days_male.npy')\n",
    "MIMIC_icu_stay_time_days_female = np.load('Analysis data/MIMIC_icu_stay_time_days_female.npy')\n",
    "result = mannwhitneyu(MIMIC_icu_stay_time_days_male,MIMIC_icu_stay_time_days_female, use_continuity=False,method=\"asymptotic\")\n",
    "print(result)"
   ]
  },
  {
   "cell_type": "code",
   "execution_count": 103,
   "metadata": {},
   "outputs": [
    {
     "name": "stdout",
     "output_type": "stream",
     "text": [
      "MannwhitneyuResult(statistic=1760.5, pvalue=0.4013939847344221)\n"
     ]
    }
   ],
   "source": [
    "EPIC_icu_stay_time_days_male = np.load('Analysis data/EPIC_icu_stay_time_days_male.npy')\n",
    "EPIC_icu_stay_time_days_female = np.load('Analysis data/EPIC_icu_stay_time_days_female.npy')\n",
    "result = mannwhitneyu(EPIC_icu_stay_time_days_male,EPIC_icu_stay_time_days_female, use_continuity=False,method=\"asymptotic\")\n",
    "print(result)"
   ]
  },
  {
   "cell_type": "code",
   "execution_count": 104,
   "metadata": {},
   "outputs": [
    {
     "name": "stdout",
     "output_type": "stream",
     "text": [
      "MannwhitneyuResult(statistic=65416.5, pvalue=0.14570243513947814)\n"
     ]
    }
   ],
   "source": [
    "result = mannwhitneyu(MIMIC_icu_stay_time_days_male,EPIC_icu_stay_time_days_male, use_continuity=False,method=\"asymptotic\")\n",
    "print(result)"
   ]
  },
  {
   "cell_type": "code",
   "execution_count": 105,
   "metadata": {},
   "outputs": [
    {
     "name": "stdout",
     "output_type": "stream",
     "text": [
      "MannwhitneyuResult(statistic=1722.0, pvalue=0.8243207029489524)\n"
     ]
    }
   ],
   "source": [
    "result = mannwhitneyu(MIMIC_icu_stay_time_days_female,EPIC_icu_stay_time_days_female, use_continuity=False,method=\"asymptotic\")\n",
    "print(result)"
   ]
  },
  {
   "cell_type": "markdown",
   "metadata": {},
   "source": [
    "### Time between first blood transfusion and pretransfusion"
   ]
  },
  {
   "cell_type": "code",
   "execution_count": 106,
   "metadata": {},
   "outputs": [
    {
     "name": "stdout",
     "output_type": "stream",
     "text": [
      "MannwhitneyuResult(statistic=11270.5, pvalue=1.086626319596204e-09)\n"
     ]
    }
   ],
   "source": [
    "EPIC_time_first_pre_transfusion = np.load('Analysis data/EPIC_time_first_pre_transfusion.npy')\n",
    "MIMIC_time_first_pre_transfusion = np.load('Analysis data/MIMIC_time_first_pre_transfusion.npy')\n",
    "result = mannwhitneyu(MIMIC_time_first_pre_transfusion,EPIC_time_first_pre_transfusion, use_continuity=False,method=\"asymptotic\")\n",
    "print(result)"
   ]
  },
  {
   "cell_type": "code",
   "execution_count": 107,
   "metadata": {},
   "outputs": [
    {
     "name": "stdout",
     "output_type": "stream",
     "text": [
      "MannwhitneyuResult(statistic=4654.0, pvalue=0.37585737527511376)\n"
     ]
    }
   ],
   "source": [
    "MIMIC_time_first_pre_transfusion_male = np.load('Analysis data/MIMIC_time_first_pre_transfusion_male.npy')\n",
    "MIMIC_time_first_pre_transfusion_female = np.load('Analysis data/MIMIC_time_first_pre_transfusion_female.npy')\n",
    "result = mannwhitneyu(MIMIC_time_first_pre_transfusion_male,MIMIC_time_first_pre_transfusion_female, use_continuity=False,method=\"asymptotic\")\n",
    "print(result)"
   ]
  },
  {
   "cell_type": "code",
   "execution_count": 108,
   "metadata": {},
   "outputs": [
    {
     "name": "stdout",
     "output_type": "stream",
     "text": [
      "MannwhitneyuResult(statistic=310.0, pvalue=0.45316932757962924)\n"
     ]
    }
   ],
   "source": [
    "EPIC_time_first_pre_transfusion_male = np.load('Analysis data/EPIC_time_first_pre_transfusion_male.npy')\n",
    "EPIC_time_first_pre_transfusion_female = np.load('Analysis data/EPIC_time_first_pre_transfusion_female.npy')\n",
    "result = mannwhitneyu(EPIC_time_first_pre_transfusion_male,EPIC_time_first_pre_transfusion_female, use_continuity=False,method=\"asymptotic\")\n",
    "print(result)"
   ]
  },
  {
   "cell_type": "code",
   "execution_count": 109,
   "metadata": {},
   "outputs": [
    {
     "name": "stdout",
     "output_type": "stream",
     "text": [
      "MannwhitneyuResult(statistic=6628.5, pvalue=8.287363968271702e-08)\n"
     ]
    }
   ],
   "source": [
    "result = mannwhitneyu(MIMIC_time_first_pre_transfusion_male,EPIC_time_first_pre_transfusion_male, use_continuity=False,method=\"asymptotic\")\n",
    "print(result)"
   ]
  },
  {
   "cell_type": "code",
   "execution_count": 110,
   "metadata": {},
   "outputs": [
    {
     "name": "stdout",
     "output_type": "stream",
     "text": [
      "MannwhitneyuResult(statistic=596.0, pvalue=0.006861876533284971)\n"
     ]
    }
   ],
   "source": [
    "result = mannwhitneyu(MIMIC_time_first_pre_transfusion_female,EPIC_time_first_pre_transfusion_female, use_continuity=False,method=\"asymptotic\")\n",
    "print(result)"
   ]
  },
  {
   "cell_type": "markdown",
   "metadata": {},
   "source": [
    "### first blood transfusion volumn"
   ]
  },
  {
   "cell_type": "code",
   "execution_count": 3,
   "metadata": {},
   "outputs": [
    {
     "data": {
      "text/plain": [
       "MannwhitneyuResult(statistic=12255.0, pvalue=1.9683272930899208e-16)"
      ]
     },
     "execution_count": 3,
     "metadata": {},
     "output_type": "execute_result"
    }
   ],
   "source": [
    "MIMIC_first_blood_transfusion_volumn = np.load('Analysis data/MIMIC_first_blood_transfusion_volumn.npy')\n",
    "EPIC_first_blood_transfusion_volumn = np.load('Analysis data/EPIC_first_blood_transfusion_volumn.npy')\n",
    "mannwhitneyu(MIMIC_first_blood_transfusion_volumn,EPIC_first_blood_transfusion_volumn)"
   ]
  },
  {
   "cell_type": "code",
   "execution_count": 4,
   "metadata": {},
   "outputs": [
    {
     "data": {
      "text/plain": [
       "MannwhitneyuResult(statistic=28271.5, pvalue=0.0011770802316887145)"
      ]
     },
     "execution_count": 4,
     "metadata": {},
     "output_type": "execute_result"
    }
   ],
   "source": [
    "MIMIC_blood_transfusion_volumn_male = np.load('Analysis data/MIMIC_blood_transfusion_volumn_male.npy')\n",
    "MIMIC_blood_transfusion_volumn_female = np.load('Analysis data/MIMIC_blood_transfusion_volumn_female.npy')\n",
    "mannwhitneyu(MIMIC_blood_transfusion_volumn_male,MIMIC_blood_transfusion_volumn_female)"
   ]
  },
  {
   "cell_type": "code",
   "execution_count": 5,
   "metadata": {},
   "outputs": [
    {
     "data": {
      "text/plain": [
       "MannwhitneyuResult(statistic=314.0, pvalue=0.4974891036425574)"
      ]
     },
     "execution_count": 5,
     "metadata": {},
     "output_type": "execute_result"
    }
   ],
   "source": [
    "EPIC_blood_transfusion_volumn_male = np.load('Analysis data/EPIC_blood_transfusion_volumn_male.npy')\n",
    "EPIC_blood_transfusion_volumn_female = np.load('Analysis data/EPIC_blood_transfusion_volumn_female.npy')\n",
    "mannwhitneyu(EPIC_blood_transfusion_volumn_male,EPIC_blood_transfusion_volumn_female)"
   ]
  },
  {
   "cell_type": "code",
   "execution_count": 6,
   "metadata": {},
   "outputs": [
    {
     "data": {
      "text/plain": [
       "MannwhitneyuResult(statistic=16692.0, pvalue=1.7603611430947968e-16)"
      ]
     },
     "execution_count": 6,
     "metadata": {},
     "output_type": "execute_result"
    }
   ],
   "source": [
    "mannwhitneyu(MIMIC_blood_transfusion_volumn_male,EPIC_blood_transfusion_volumn_male)"
   ]
  },
  {
   "cell_type": "code",
   "execution_count": 7,
   "metadata": {},
   "outputs": [
    {
     "data": {
      "text/plain": [
       "MannwhitneyuResult(statistic=1323.5, pvalue=0.00022157446410042667)"
      ]
     },
     "execution_count": 7,
     "metadata": {},
     "output_type": "execute_result"
    }
   ],
   "source": [
    "mannwhitneyu(MIMIC_blood_transfusion_volumn_female,EPIC_blood_transfusion_volumn_female)"
   ]
  },
  {
   "cell_type": "markdown",
   "metadata": {},
   "source": [
    "### blood transfusion counts"
   ]
  },
  {
   "cell_type": "code",
   "execution_count": 119,
   "metadata": {},
   "outputs": [
    {
     "name": "stdout",
     "output_type": "stream",
     "text": [
      "Test statistics is 156.78857082510612 with degree of freedom as 12 and p value is 2.3673674145266455e-27\n"
     ]
    }
   ],
   "source": [
    "MIMIC_blood_transfusion_count = np.load('Analysis data/MIMIC_blood_transfusion_count.npy')\n",
    "EPIC_blood_transfusion_count = np.load('Analysis data/EPIC_blood_transfusion_count.npy')\n",
    "chi_square_test(MIMIC_blood_transfusion_count,EPIC_blood_transfusion_count)"
   ]
  },
  {
   "cell_type": "code",
   "execution_count": 120,
   "metadata": {},
   "outputs": [
    {
     "name": "stdout",
     "output_type": "stream",
     "text": [
      "Test statistics is 12.61449861363754 with degree of freedom as 7 and p value is 0.08207699495325177\n"
     ]
    }
   ],
   "source": [
    "MIMIC_blood_transfusion_count_male = np.load('Analysis data/MIMIC_blood_transfusion_count_male.npy')\n",
    "MIMIC_blood_transfusion_count_female = np.load('Analysis data/MIMIC_blood_transfusion_count_female.npy')\n",
    "chi_square_test(MIMIC_blood_transfusion_count_male,MIMIC_blood_transfusion_count_female)"
   ]
  },
  {
   "cell_type": "code",
   "execution_count": 121,
   "metadata": {},
   "outputs": [
    {
     "name": "stdout",
     "output_type": "stream",
     "text": [
      "Test statistics is 126.82844308839731 with degree of freedom as 10 and p value is 2.0697128194397147e-22\n"
     ]
    }
   ],
   "source": [
    "EPIC_blood_transfusion_count_male = np.load('Analysis data/EPIC_blood_transfusion_count_male.npy')\n",
    "EPIC_blood_transfusion_count_female = np.load('Analysis data/EPIC_blood_transfusion_count_female.npy')\n",
    "chi_square_test(EPIC_blood_transfusion_count_male,EPIC_blood_transfusion_count_female)"
   ]
  },
  {
   "cell_type": "code",
   "execution_count": 122,
   "metadata": {},
   "outputs": [
    {
     "name": "stdout",
     "output_type": "stream",
     "text": [
      "Test statistics is 79.05297665019967 with degree of freedom as 10 and p value is 7.695662344797563e-13\n"
     ]
    }
   ],
   "source": [
    "chi_square_test(MIMIC_blood_transfusion_count_female,EPIC_blood_transfusion_count_male)"
   ]
  },
  {
   "cell_type": "code",
   "execution_count": 123,
   "metadata": {},
   "outputs": [
    {
     "name": "stdout",
     "output_type": "stream",
     "text": [
      "Test statistics is 99.39037910515134 with degree of freedom as 7 and p value is 1.441494078019351e-18\n"
     ]
    }
   ],
   "source": [
    "chi_square_test(MIMIC_blood_transfusion_count_female,EPIC_blood_transfusion_count_female)"
   ]
  },
  {
   "cell_type": "markdown",
   "metadata": {},
   "source": [
    "### hemoglobin measurements in 24 H"
   ]
  },
  {
   "cell_type": "code",
   "execution_count": 124,
   "metadata": {},
   "outputs": [
    {
     "name": "stdout",
     "output_type": "stream",
     "text": [
      "Test statistics is 372.2786183951206 with degree of freedom as 20 and p value is 1.1243591342033645e-66\n"
     ]
    }
   ],
   "source": [
    "MIMIC_hemoglobin_24h_Hb_count = np.load('Analysis data/MIMIC_hemoglobin_24h_Hb_count.npy')\n",
    "EPIC_hemoglobin_24h_Hb_count = np.load('Analysis data/EPIC_hemoglobin_24h_Hb_count.npy')\n",
    "chi_square_test(MIMIC_hemoglobin_24h_Hb_count,EPIC_hemoglobin_24h_Hb_count)"
   ]
  },
  {
   "cell_type": "code",
   "execution_count": 125,
   "metadata": {},
   "outputs": [
    {
     "name": "stdout",
     "output_type": "stream",
     "text": [
      "Test statistics is 14.009042636157414 with degree of freedom as 13 and p value is 0.37320745544756206\n"
     ]
    }
   ],
   "source": [
    "MIMIC_hemoglobin_24h_Hb_count_male = np.load('Analysis data/MIMIC_hemoglobin_24h_Hb_count_male.npy')\n",
    "MIMIC_hemoglobin_24h_Hb_count_female = np.load('Analysis data/MIMIC_hemoglobin_24h_Hb_count_female.npy')\n",
    "chi_square_test(MIMIC_hemoglobin_24h_Hb_count_male,MIMIC_hemoglobin_24h_Hb_count_female)"
   ]
  },
  {
   "cell_type": "code",
   "execution_count": 126,
   "metadata": {},
   "outputs": [
    {
     "name": "stdout",
     "output_type": "stream",
     "text": [
      "Test statistics is 15.523718641469866 with degree of freedom as 19 and p value is 0.6887809001539269\n"
     ]
    }
   ],
   "source": [
    "EPIC_hemoglobin_24h_Hb_count_male = np.load('Analysis data/EPIC_hemoglobin_24h_Hb_count_male.npy')\n",
    "EPIC_hemoglobin_24h_Hb_count_female = np.load('Analysis data/EPIC_hemoglobin_24h_Hb_count_female.npy')\n",
    "chi_square_test(EPIC_hemoglobin_24h_Hb_count_male,EPIC_hemoglobin_24h_Hb_count_female)"
   ]
  },
  {
   "cell_type": "code",
   "execution_count": 127,
   "metadata": {},
   "outputs": [
    {
     "name": "stdout",
     "output_type": "stream",
     "text": [
      "Test statistics is 313.6061905726492 with degree of freedom as 20 and p value is 1.334149051746942e-54\n"
     ]
    }
   ],
   "source": [
    "chi_square_test(MIMIC_hemoglobin_24h_Hb_count_male,EPIC_hemoglobin_24h_Hb_count_male)"
   ]
  },
  {
   "cell_type": "code",
   "execution_count": 128,
   "metadata": {},
   "outputs": [
    {
     "name": "stdout",
     "output_type": "stream",
     "text": [
      "Test statistics is 71.02381881494398 with degree of freedom as 13 and p value is 5.197957577846633e-10\n"
     ]
    }
   ],
   "source": [
    "chi_square_test(MIMIC_hemoglobin_24h_Hb_count_female,EPIC_hemoglobin_24h_Hb_count_female)"
   ]
  }
 ],
 "metadata": {
  "kernelspec": {
   "display_name": "Python 3 (ipykernel)",
   "language": "python",
   "name": "python3"
  },
  "language_info": {
   "codemirror_mode": {
    "name": "ipython",
    "version": 3
   },
   "file_extension": ".py",
   "mimetype": "text/x-python",
   "name": "python",
   "nbconvert_exporter": "python",
   "pygments_lexer": "ipython3",
   "version": "3.10.8"
  }
 },
 "nbformat": 4,
 "nbformat_minor": 5
}
