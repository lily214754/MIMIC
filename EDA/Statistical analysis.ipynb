{
 "cells": [
  {
   "cell_type": "code",
   "execution_count": 2,
   "metadata": {},
   "outputs": [],
   "source": [
    "import pandas as pd\n",
    "import numpy as np\n",
    "from matplotlib import pyplot as plt\n",
    "import seaborn as sns\n",
    "import datetime\n",
    "from scipy.stats import mannwhitneyu"
   ]
  },
  {
   "cell_type": "markdown",
   "metadata": {},
   "source": [
    "### Continuous value\n",
    "https://docs.scipy.org/doc/scipy/reference/generated/scipy.stats.mannwhitneyu.html\n",
    "- using Mann-Whitney U test\n",
    "-  pretransfusion\n",
    "- value diff\n",
    "\n",
    "### Ordinal value\n",
    "https://docs.scipy.org/doc/scipy/reference/generated/scipy.stats.chisquare.html\n",
    "- using chi-square test tests \n",
    "-  blood transfusion volume\n",
    "- blood transfusion counts\n",
    "- 24H HB measurements\n",
    "- icu stay time in days \n"
   ]
  },
  {
   "cell_type": "code",
   "execution_count": 21,
   "metadata": {},
   "outputs": [
    {
     "name": "stdout",
     "output_type": "stream",
     "text": [
      "MannwhitneyuResult(statistic=30845.5, pvalue=8.685892929554064e-25)\n"
     ]
    }
   ],
   "source": [
    "#EPIC_pre_transfusion  = hb_value\n",
    "MIMIC_pre_transfusion = np.load('MIMIC_pre_transfusion.npy')\n",
    "# https://docs.scipy.org/doc/scipy/reference/generated/scipy.stats.mannwhitneyu.html\n",
    "#result = mannwhitneyu(MIMIC_pre_transfusion,EPIC_pre_transfusion, use_continuity=False,method=\"asymptotic\")\n",
    "print(result)"
   ]
  },
  {
   "cell_type": "code",
   "execution_count": 22,
   "metadata": {},
   "outputs": [
    {
     "name": "stdout",
     "output_type": "stream",
     "text": [
      "MannwhitneyuResult(statistic=30845.5, pvalue=8.685892929554064e-25)\n"
     ]
    }
   ],
   "source": [
    "MIMIC_value_diff = np.load('MIMIC_value_diff.npy')\n",
    "#result = mannwhitneyu(MIMIC_pre_transfusion,EPIC_pre_transfusion, use_continuity=False,method=\"asymptotic\")\n",
    "print(result)"
   ]
  },
  {
   "cell_type": "code",
   "execution_count": 23,
   "metadata": {},
   "outputs": [],
   "source": [
    "\n",
    "MIMIC_blood_transfusion_count = np.load('MIMIC_blood_transfusion_count.npy')"
   ]
  },
  {
   "cell_type": "code",
   "execution_count": 24,
   "metadata": {},
   "outputs": [],
   "source": [
    "MIMIC_blood_transfusion_volumn = np.load('MIMIC_blood_transfusion_volumn.npy')"
   ]
  },
  {
   "cell_type": "code",
   "execution_count": 25,
   "metadata": {},
   "outputs": [],
   "source": [
    "MIMIC_hemoglobin_24h_Hb_count = np.load('MIMIC_hemoglobin_24h_Hb_count.npy')"
   ]
  },
  {
   "cell_type": "code",
   "execution_count": 26,
   "metadata": {},
   "outputs": [],
   "source": [
    "MIMIC_icu_stay_time_days = np.load('MIMIC_icu_stay_time_days.npy')"
   ]
  },
  {
   "cell_type": "code",
   "execution_count": null,
   "metadata": {},
   "outputs": [],
   "source": []
  }
 ],
 "metadata": {
  "kernelspec": {
   "display_name": "Python 3 (ipykernel)",
   "language": "python",
   "name": "python3"
  },
  "language_info": {
   "codemirror_mode": {
    "name": "ipython",
    "version": 3
   },
   "file_extension": ".py",
   "mimetype": "text/x-python",
   "name": "python",
   "nbconvert_exporter": "python",
   "pygments_lexer": "ipython3",
   "version": "3.10.8"
  }
 },
 "nbformat": 4,
 "nbformat_minor": 5
}
