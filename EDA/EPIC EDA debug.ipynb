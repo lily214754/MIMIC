{
 "cells": [
  {
   "cell_type": "code",
   "execution_count": 856,
   "id": "4e7d8a33",
   "metadata": {},
   "outputs": [],
   "source": [
    "import pandas as pd\n",
    "import numpy as np\n",
    "from matplotlib import pyplot as plt\n",
    "import seaborn as sns\n",
    "import datetime"
   ]
  },
  {
   "cell_type": "code",
   "execution_count": 857,
   "id": "06998f1a",
   "metadata": {},
   "outputs": [],
   "source": [
    "df_patients = pd.read_excel('epic.xlsx', sheet_name=0)\n",
    "df_admissions = pd.read_excel('epic.xlsx', sheet_name=1)\n",
    "df_icu_stays = pd.read_excel('epic.xlsx', sheet_name=2)\n",
    "df_bypass_surgeries = pd.read_excel('epic.xlsx', sheet_name=3)\n",
    "df_haemoglobins = pd.read_excel('epic.xlsx', sheet_name=4)\n",
    "df_transfusions = pd.read_excel('epic.xlsx', sheet_name=5)"
   ]
  },
  {
   "cell_type": "code",
   "execution_count": 858,
   "id": "f0385208",
   "metadata": {},
   "outputs": [],
   "source": [
    "# change metrics from g/l into g/dl\n",
    "df_haemoglobins['REFERENCE_LOW'] = df_haemoglobins['REFERENCE_LOW']/10\n",
    "df_haemoglobins['REFERENCE_HIGH'] = df_haemoglobins['REFERENCE_HIGH']/10\n",
    "df_haemoglobins['RESULT'] = df_haemoglobins['RESULT']/10"
   ]
  },
  {
   "cell_type": "code",
   "execution_count": 859,
   "id": "162a9a57",
   "metadata": {},
   "outputs": [
    {
     "name": "stdout",
     "output_type": "stream",
     "text": [
      "268 265\n",
      "274 268\n"
     ]
    }
   ],
   "source": [
    "df_transfusions = df_transfusions.dropna()\n",
    "\n",
    "print(df_admissions[\"PATIENT_NUMBER\"].nunique(),df_admissions[\"ADMISSION_NUMBER\"].nunique())\n",
    "print(len(df_bypass_surgeries[\"SURGERY_NUMBER\"]),df_admissions[\"PATIENT_NUMBER\"].nunique())"
   ]
  },
  {
   "cell_type": "code",
   "execution_count": 860,
   "id": "41704299",
   "metadata": {},
   "outputs": [],
   "source": [
    "df_transfusions = pd.merge(df_transfusions,df_patients[[\"PATIENT_NUMBER\",\"Gender\"]], on=[\"PATIENT_NUMBER\"],how = \"inner\")"
   ]
  },
  {
   "cell_type": "markdown",
   "id": "b20daaaf",
   "metadata": {},
   "source": [
    "There seems to be 3 admission numbers that has given to more than one patient, i don't know if this is intended.\n",
    "\n",
    "There seems to be surgery numbers which appoints to multiple patient with the same admission number, i don't know if this is intended"
   ]
  },
  {
   "cell_type": "code",
   "execution_count": 861,
   "id": "0dfab332",
   "metadata": {},
   "outputs": [],
   "source": [
    "# the increase to additiona rows is caused by patient having multiple surgeries but it's ok\n",
    "df_transfusions_merged= pd.merge(df_transfusions,df_bypass_surgeries[[\"PATIENT_NUMBER\",\"ADMISSION_NUMBER\",\"FINISH_TIME\"]], on=[\"PATIENT_NUMBER\",\"ADMISSION_NUMBER\"],how = \"inner\")"
   ]
  },
  {
   "cell_type": "code",
   "execution_count": 862,
   "id": "870a818c",
   "metadata": {},
   "outputs": [
    {
     "data": {
      "text/plain": [
       "67"
      ]
     },
     "execution_count": 862,
     "metadata": {},
     "output_type": "execute_result"
    }
   ],
   "source": [
    "## eliminate transfusion that's been done before the CABGsurgery is commenced\n",
    "df_transfusions_merged = df_transfusions_merged.loc[df_transfusions_merged[\"BLOOD_START_TIME\"] > df_transfusions_merged[\"FINISH_TIME\"]]\n",
    "## the update list shows that there are 67 patients that has underwent blood transfusion after surgery\n",
    "df_transfusions_merged[\"PATIENT_NUMBER\"].nunique()"
   ]
  },
  {
   "cell_type": "code",
   "execution_count": 863,
   "id": "a807d508",
   "metadata": {},
   "outputs": [],
   "source": [
    "## Q1, keep the earliest blood transfusion time for each patient, and search for the most recent hb test\n",
    "first_transfusion = df_transfusions_merged.groupby([\"PATIENT_NUMBER\"])[[\"BLOOD_START_TIME\",\"VOLUME\",\"Gender\"]].agg(\"min\")\n",
    "first_transfusion = pd.DataFrame(first_transfusion)\n"
   ]
  },
  {
   "cell_type": "code",
   "execution_count": null,
   "id": "2adf43cd",
   "metadata": {},
   "outputs": [],
   "source": []
  },
  {
   "cell_type": "code",
   "execution_count": 864,
   "id": "2816284b",
   "metadata": {},
   "outputs": [],
   "source": [
    "# the product of 2 timedate transforms the data into timedelta\n",
    "## the hb value is the patient most recent hb value before the first blood transfusion\n",
    "hb_value = []\n",
    "for row_index, row in first_transfusion.iterrows():\n",
    "    temp_df = df_haemoglobins.loc[df_haemoglobins[\"PATIENT_NUMBER\"] == row_index] \n",
    "    ## find hb test that happened before the first blood transfusion\n",
    "    temp_df = temp_df.loc[(row[\"BLOOD_START_TIME\"]-temp_df[\"RESULT_TIME\"]).dt.total_seconds() > 0]\n",
    "    \n",
    "    ## pick the most recent or the largest time \n",
    "    hb_value.append(float(temp_df.loc[temp_df[\"RESULT_TIME\"] == temp_df[\"RESULT_TIME\"].max()][\"RESULT\"]))"
   ]
  },
  {
   "cell_type": "code",
   "execution_count": null,
   "id": "e8412d89",
   "metadata": {},
   "outputs": [],
   "source": []
  },
  {
   "cell_type": "code",
   "execution_count": 865,
   "id": "db7661ba",
   "metadata": {},
   "outputs": [
    {
     "data": {
      "image/png": "[encoded data removed]",
      "text/plain": [
       "<Figure size 432x288 with 1 Axes>"
      ]
     },
     "metadata": {
      "needs_background": "light"
     },
     "output_type": "display_data"
    }
   ],
   "source": [
    "## plot for Q1\n",
    "sns.histplot(hb_value,stat=\"density\") \n",
    "plt.title('last measured hb value before first blood transfusion')\n",
    "plt.xlabel(\"hemoglobin value in g/dl\")\n",
    "plt.ylabel('Density')\n",
    "plt.show()"
   ]
  },
  {
   "cell_type": "code",
   "execution_count": 866,
   "id": "bdbf4a94",
   "metadata": {},
   "outputs": [
    {
     "name": "stdout",
     "output_type": "stream",
     "text": [
      "7.455223880597015 0.738349021964333\n"
     ]
    }
   ],
   "source": [
    "## mean/std for the hb value of q1\n",
    "\n",
    "print(np.mean(hb_value),np.std(hb_value))"
   ]
  },
  {
   "cell_type": "code",
   "execution_count": 867,
   "id": "a7e7ec7e",
   "metadata": {},
   "outputs": [
    {
     "data": {
      "text/plain": [
       "<AxesSubplot:xlabel='VOLUME', ylabel='Density'>"
      ]
     },
     "execution_count": 867,
     "metadata": {},
     "output_type": "execute_result"
    },
    {
     "data": {
      "image/png": "[encoded data removed]",
      "text/plain": [
       "<Figure size 432x288 with 1 Axes>"
      ]
     },
     "metadata": {
      "needs_background": "light"
     },
     "output_type": "display_data"
    }
   ],
   "source": [
    "##q2\n",
    "sns.histplot(first_transfusion[\"VOLUME\"],stat=\"density\")"
   ]
  },
  {
   "cell_type": "code",
   "execution_count": 868,
   "id": "889e7318",
   "metadata": {},
   "outputs": [],
   "source": [
    "## mean/std of total_volume"
   ]
  },
  {
   "cell_type": "code",
   "execution_count": 869,
   "id": "8ec6c16b",
   "metadata": {},
   "outputs": [
    {
     "data": {
      "text/plain": [
       "<AxesSubplot:xlabel='VOLUME', ylabel='Density'>"
      ]
     },
     "execution_count": 869,
     "metadata": {},
     "output_type": "execute_result"
    },
    {
     "data": {
      "image/png": "[encoded data removed]",
      "text/plain": [
       "<Figure size 432x288 with 1 Axes>"
      ]
     },
     "metadata": {
      "needs_background": "light"
     },
     "output_type": "display_data"
    }
   ],
   "source": [
    "##q2 with gender\n",
    "sns.histplot(first_transfusion,x = \"VOLUME\",stat=\"density\",hue = \"Gender\",element=\"step\",common_norm=False)"
   ]
  },
  {
   "cell_type": "code",
   "execution_count": 870,
   "id": "565c45cd",
   "metadata": {},
   "outputs": [
    {
     "name": "stdout",
     "output_type": "stream",
     "text": [
      "285.5824528301887\n",
      "128.02042989828658\n",
      "305.65142857142854\n",
      "104.16065996177956\n"
     ]
    }
   ],
   "source": [
    "\n",
    "print(np.mean(first_transfusion.loc[first_transfusion[\"Gender\"] == \"M\"][\"VOLUME\"]))\n",
    "print(np.std(first_transfusion.loc[first_transfusion[\"Gender\"] == \"M\"][\"VOLUME\"]))\n",
    "print(np.mean(first_transfusion.loc[first_transfusion[\"Gender\"] == \"F\"][\"VOLUME\"]))\n",
    "print(np.std(first_transfusion.loc[first_transfusion[\"Gender\"] == \"F\"][\"VOLUME\"]))"
   ]
  },
  {
   "cell_type": "code",
   "execution_count": 871,
   "id": "5adf2fe7",
   "metadata": {},
   "outputs": [],
   "source": [
    "difference = []\n",
    "pretrans_value = []\n",
    "for row_index, row in df_transfusions_merged.iterrows():\n",
    "    temp_df = df_haemoglobins.loc[df_haemoglobins[\"PATIENT_NUMBER\"] == row[\"PATIENT_NUMBER\"]] \n",
    "    temp_df_pretrans = temp_df.loc[(row[\"BLOOD_START_TIME\"]-temp_df[\"RESULT_TIME\"]).dt.total_seconds() > 0]\n",
    "    \n",
    "    pretrans = float(temp_df_pretrans.loc[temp_df_pretrans[\"RESULT_TIME\"] == temp_df_pretrans[\"RESULT_TIME\"].max()][\"RESULT\"])\n",
    "    pretrans_value.append(pretrans) \n",
    "    temp_df_postrans = temp_df.loc[(row[\"BLOOD_START_TIME\"]-temp_df[\"RESULT_TIME\"]).dt.total_seconds() < 0]\n",
    "    postrans = float(temp_df_postrans.loc[temp_df_postrans[\"RESULT_TIME\"] == temp_df_postrans[\"RESULT_TIME\"].min()][\"RESULT\"])\n",
    "    difference.append(round(postrans- pretrans,4))\n"
   ]
  },
  {
   "cell_type": "code",
   "execution_count": 872,
   "id": "3c33d12b",
   "metadata": {},
   "outputs": [],
   "source": [
    "df_transfusions_merged[\"hb_diff\"] = difference\n",
    "df_transfusions_merged[\"pre_trans_hb\"] = pretrans_value"
   ]
  },
  {
   "cell_type": "code",
   "execution_count": null,
   "id": "a1d802ae",
   "metadata": {},
   "outputs": [],
   "source": [
    "\n"
   ]
  },
  {
   "cell_type": "code",
   "execution_count": 873,
   "id": "53249c64",
   "metadata": {},
   "outputs": [
    {
     "data": {
      "image/png": "[encoded data removed]",
      "text/plain": [
       "<Figure size 432x288 with 1 Axes>"
      ]
     },
     "metadata": {
      "needs_background": "light"
     },
     "output_type": "display_data"
    }
   ],
   "source": [
    "#q3 plot\n",
    "sns.histplot(df_transfusions_merged,x = \"pre_trans_hb\",stat=\"density\",hue = \"Gender\",element=\"step\",common_norm=False)\n",
    "plt.title('last measured hb value before any blood transfusion')\n",
    "plt.xlabel(\"hemoglobin value\")\n",
    "plt.ylabel('Density')\n",
    "plt.show()"
   ]
  },
  {
   "cell_type": "code",
   "execution_count": 874,
   "id": "5a557ae3",
   "metadata": {},
   "outputs": [
    {
     "name": "stdout",
     "output_type": "stream",
     "text": [
      "7.616129032258065\n",
      "0.8930906012607864\n",
      "7.553333333333333\n",
      "0.9708186694171512\n"
     ]
    }
   ],
   "source": [
    "# q3 mean/std based on gender\n",
    "print(np.mean(df_transfusions_merged.loc[df_transfusions_merged[\"Gender\"] == \"M\"][\"pre_trans_hb\"]))\n",
    "print(np.std(df_transfusions_merged.loc[df_transfusions_merged[\"Gender\"] == \"M\"][\"pre_trans_hb\"]))\n",
    "print(np.mean(df_transfusions_merged.loc[df_transfusions_merged[\"Gender\"] == \"F\"][\"pre_trans_hb\"]))\n",
    "print(np.std(df_transfusions_merged.loc[df_transfusions_merged[\"Gender\"] == \"F\"][\"pre_trans_hb\"]))"
   ]
  },
  {
   "cell_type": "code",
   "execution_count": null,
   "id": "53af7eee",
   "metadata": {},
   "outputs": [],
   "source": []
  },
  {
   "cell_type": "code",
   "execution_count": 875,
   "id": "8c981273",
   "metadata": {},
   "outputs": [
    {
     "data": {
      "image/png": "[encoded data removed]",
      "text/plain": [
       "<Figure size 432x288 with 1 Axes>"
      ]
     },
     "metadata": {
      "needs_background": "light"
     },
     "output_type": "display_data"
    }
   ],
   "source": [
    "#plot of question 4\n",
    "sns.histplot(df_transfusions_merged, x = \"hb_diff\",stat=\"density\") \n",
    "plt.title('hb value difference between pre transfusion and post transfusion/dl')\n",
    "plt.xlabel(\"hemoglobin value\")\n",
    "plt.ylabel('Density')\n",
    "plt.show()"
   ]
  },
  {
   "cell_type": "code",
   "execution_count": 876,
   "id": "f0b6a75e",
   "metadata": {},
   "outputs": [
    {
     "name": "stdout",
     "output_type": "stream",
     "text": [
      "0.8124999999999997\n",
      "1.1218260783205214\n"
     ]
    }
   ],
   "source": [
    "print(np.mean(df_transfusions_merged[\"hb_diff\"]))\n",
    "print(np.std(df_transfusions_merged[\"hb_diff\"]))"
   ]
  },
  {
   "cell_type": "code",
   "execution_count": 877,
   "id": "c7fb9085",
   "metadata": {},
   "outputs": [],
   "source": [
    "df_transfusions_merged= df_transfusions_merged.sort_values(by=['Gender'] ,ascending = False)"
   ]
  },
  {
   "cell_type": "code",
   "execution_count": 878,
   "id": "539c9a02",
   "metadata": {},
   "outputs": [
    {
     "data": {
      "image/png": "[encoded data removed]",
      "text/plain": [
       "<Figure size 432x288 with 1 Axes>"
      ]
     },
     "metadata": {
      "needs_background": "light"
     },
     "output_type": "display_data"
    }
   ],
   "source": [
    "#plot for questions 5\n",
    "## it seems to indicate that there are female patient that suffers from severer blood loss which require multiple blood transfusion\n",
    "## there are 45 instances of female blood transfusion, and patient number holds the majority of the numbers of 25, this essentially\n",
    "## makes the female density seems to have a high anoumaly because the hypothesis should be that female will have a positive increase\n",
    "## in the diffrence between pre transfusion and post\n",
    "sns.histplot(df_transfusions_merged,x = \"hb_diff\",stat=\"density\",hue = \"Gender\",element=\"step\",common_norm=False)\n",
    "plt.title('hb value difference between pre transfusion and post transfusion/dl')\n",
    "plt.xlabel(\"hemoglobin value\")\n",
    "plt.ylabel('Density')\n",
    "plt.show()"
   ]
  },
  {
   "cell_type": "code",
   "execution_count": 879,
   "id": "0583f70a",
   "metadata": {},
   "outputs": [],
   "source": [
    "# plot for self investigated EDA \n",
    "# number of hb measure in the first 24 hours of ICU\n",
    "# correaltion between hb difference in pre transfusion value\n",
    "\n"
   ]
  },
  {
   "cell_type": "code",
   "execution_count": 880,
   "id": "80ce64c9",
   "metadata": {},
   "outputs": [],
   "source": [
    "# time diffrence between pre transfusion and blood transfusion \n",
    "time = []\n",
    "\n",
    "for row_index, row in df_transfusions_merged.iterrows():\n",
    "    temp_df = df_haemoglobins.loc[df_haemoglobins[\"PATIENT_NUMBER\"] == row[\"PATIENT_NUMBER\"]] \n",
    "    temp_df_pretrans = temp_df.loc[(row[\"BLOOD_START_TIME\"]-temp_df[\"RESULT_TIME\"]).dt.total_seconds() > 0]\n",
    "    pretrans = temp_df_pretrans.loc[temp_df_pretrans[\"RESULT_TIME\"] == temp_df_pretrans[\"RESULT_TIME\"].max()][\"RESULT_TIME\"]\n",
    "    pretrans = round(float((row[\"BLOOD_START_TIME\"] -pretrans).dt.total_seconds()/60),2)\n",
    "    time.append(pretrans)\n",
    "df_transfusions_merged[\"time\"] = time"
   ]
  },
  {
   "cell_type": "code",
   "execution_count": 881,
   "id": "5b0fa565",
   "metadata": {},
   "outputs": [],
   "source": [
    "first_transfusion = df_transfusions_merged.groupby([\"PATIENT_NUMBER\"])[[\"BLOOD_START_TIME\",\"VOLUME\",\"Gender\",\"time\"]].agg(\"min\")"
   ]
  },
  {
   "cell_type": "code",
   "execution_count": 882,
   "id": "6fe6229c",
   "metadata": {},
   "outputs": [
    {
     "data": {
      "image/png": "[encoded data removed]",
      "text/plain": [
       "<Figure size 432x288 with 1 Axes>"
      ]
     },
     "metadata": {
      "needs_background": "light"
     },
     "output_type": "display_data"
    }
   ],
   "source": [
    "sns.histplot(first_transfusion,x = \"time\")\n",
    "plt.title('Time interval between first-blood transfusion and the latest hb test')\n",
    "plt.xlabel(\"Time in minutes\")\n",
    "plt.ylabel('Density')\n",
    "plt.show()"
   ]
  },
  {
   "cell_type": "code",
   "execution_count": 883,
   "id": "cb2cdf3e",
   "metadata": {},
   "outputs": [
    {
     "data": {
      "image/png": "[encoded data removed]",
      "text/plain": [
       "<Figure size 432x288 with 1 Axes>"
      ]
     },
     "metadata": {
      "needs_background": "light"
     },
     "output_type": "display_data"
    }
   ],
   "source": [
    "## correaltion between hb difference in pre transfusion hb value\n",
    "sns.scatterplot(data = df_transfusions_merged, y = \"hb_diff\", x='pre_trans_hb',hue=\"Gender\")\n",
    "plt.title('correaltion between hb difference in pre transfusion hb value g/dl')\n",
    "plt.xlabel(\"hemoglobin value in g/dl\")\n",
    "plt.ylabel('Density')\n",
    "plt.show()"
   ]
  },
  {
   "cell_type": "code",
   "execution_count": 884,
   "id": "4602cb56",
   "metadata": {},
   "outputs": [],
   "source": [
    "## number of hb measure in the first 24 hours of ICU\n",
    "## duplicate rows with same patient_num+admission num but different ICU_stay num\n",
    "df_icu = df_icu_stays\n",
    "df_icu = pd.merge(df_icu,df_patients[[\"PATIENT_NUMBER\",\"Gender\"]], on=[\"PATIENT_NUMBER\"],how = \"inner\")\n",
    "df_icu = df_icu.drop_duplicates(subset=['PATIENT_NUMBER'])"
   ]
  },
  {
   "cell_type": "code",
   "execution_count": null,
   "id": "92809437",
   "metadata": {},
   "outputs": [],
   "source": []
  },
  {
   "cell_type": "code",
   "execution_count": 885,
   "id": "7d84fa95",
   "metadata": {},
   "outputs": [],
   "source": [
    "hb_measure = []\n",
    "\n",
    "for row_index, row in df_icu.iterrows():\n",
    "    temp_df = df_haemoglobins.loc[df_haemoglobins[\"PATIENT_NUMBER\"] == row[\"PATIENT_NUMBER\"]] \n",
    "    temp_df = temp_df.loc[temp_df[\"RESULT_TIME\"] <= row[\"ICU_START_TIME\"]+datetime.timedelta(days=1)]\n",
    "    temp_df = temp_df.loc[temp_df[\"RESULT_TIME\"] > row[\"ICU_START_TIME\"]]\n",
    "    hb_measure.append(len(temp_df))\n",
    "\n",
    "df_icu[\"hb_measure\"] = hb_measure"
   ]
  },
  {
   "cell_type": "code",
   "execution_count": 886,
   "id": "3e951c02",
   "metadata": {},
   "outputs": [
    {
     "data": {
      "image/png": "[encoded data removed]",
      "text/plain": [
       "<Figure size 432x288 with 1 Axes>"
      ]
     },
     "metadata": {
      "needs_background": "light"
     },
     "output_type": "display_data"
    }
   ],
   "source": [
    "sns.histplot(df_icu,x = \"hb_measure\",stat=\"density\",hue = \"Gender\",element=\"step\",common_norm=False)\n",
    "plt.title('Number of hb measure within the first 24 hours of ICU')\n",
    "plt.xlabel(\"hemoglobin value\")\n",
    "plt.ylabel('Density')\n",
    "plt.show()"
   ]
  },
  {
   "cell_type": "code",
   "execution_count": 887,
   "id": "0918a1b4",
   "metadata": {},
   "outputs": [
    {
     "name": "stdout",
     "output_type": "stream",
     "text": [
      "11.146666666666667\n",
      "3.5145159299997806\n",
      "11.44\n",
      "3.0473595127585456\n"
     ]
    }
   ],
   "source": [
    "\n",
    "print(np.mean(df_icu.loc[df_icu[\"Gender\"] == \"M\"][\"hb_measure\"]))\n",
    "print(np.std(df_icu.loc[df_icu[\"Gender\"] == \"M\"][\"hb_measure\"]))\n",
    "print(np.mean(df_icu.loc[df_icu[\"Gender\"] == \"F\"][\"hb_measure\"]))\n",
    "print(np.std(df_icu.loc[df_icu[\"Gender\"] == \"F\"][\"hb_measure\"]))"
   ]
  },
  {
   "cell_type": "code",
   "execution_count": null,
   "id": "afd9aa11",
   "metadata": {},
   "outputs": [],
   "source": []
  },
  {
   "cell_type": "code",
   "execution_count": null,
   "id": "724e7e00",
   "metadata": {},
   "outputs": [],
   "source": []
  },
  {
   "cell_type": "code",
   "execution_count": null,
   "id": "6de43639",
   "metadata": {},
   "outputs": [],
   "source": []
  }
 ],
 "metadata": {
  "kernelspec": {
   "display_name": "Python 3 (ipykernel)",
   "language": "python",
   "name": "python3"
  },
  "language_info": {
   "codemirror_mode": {
    "name": "ipython",
    "version": 3
   },
   "file_extension": ".py",
   "mimetype": "text/x-python",
   "name": "python",
   "nbconvert_exporter": "python",
   "pygments_lexer": "ipython3",
   "version": "3.7.3"
  }
 },
 "nbformat": 4,
 "nbformat_minor": 5
}
